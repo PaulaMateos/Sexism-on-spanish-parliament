{
 "cells": [
  {
   "cell_type": "markdown",
   "metadata": {},
   "source": [
    "# Loading the data"
   ]
  },
  {
   "cell_type": "code",
   "execution_count": 1,
   "metadata": {
    "colab": {
     "base_uri": "https://localhost:8080/"
    },
    "id": "7gzsTBck0jup",
    "outputId": "094c5f4f-ce4c-4604-b723-cf123956d463",
    "tags": []
   },
   "outputs": [
    {
     "name": "stdout",
     "output_type": "stream",
     "text": [
      "Collecting congreso\n",
      "  Downloading congreso-1.0.4-py3-none-any.whl.metadata (5.0 kB)\n",
      "Downloading congreso-1.0.4-py3-none-any.whl (7.4 kB)\n",
      "Installing collected packages: congreso\n",
      "Successfully installed congreso-1.0.4\n",
      "Note: you may need to restart the kernel to use updated packages.\n"
     ]
    }
   ],
   "source": [
    "pip install congreso"
   ]
  },
  {
   "cell_type": "code",
   "execution_count": 2,
   "metadata": {
    "colab": {
     "base_uri": "https://localhost:8080/"
    },
    "id": "mmTRjZoY0rbi",
    "outputId": "11acfa77-8987-4092-d25b-52fd35f08234",
    "tags": []
   },
   "outputs": [
    {
     "name": "stdout",
     "output_type": "stream",
     "text": [
      "['fecha', 'seri', 'fecha_mensaje', 'encabezado', 'desu', 'desu1', 'desu2', 'texto', 'pdf_url', 'legislatura', 'numdoc', 'cve', 'orga', 'secc', 'subi', 'ndia', 'mensaje', 'id']\n"
     ]
    }
   ],
   "source": [
    "from congreso import congreso as c #(after installing this library)\n",
    "import pandas as pd\n",
    "from matplotlib import pyplot as plt\n",
    "\n",
    "terms = [\"XV\", \"XIV\", \"X\", \"VII\"]\n",
    "t = c.load_jsons(terms)\n",
    "\n",
    "fields = c.get_all_fields(t[\"XV\"])\n",
    "print(fields)"
   ]
  },
  {
   "cell_type": "markdown",
   "metadata": {
    "id": "ZvQRFQa5Ww0p"
   },
   "source": [
    "# Simple functions"
   ]
  },
  {
   "cell_type": "markdown",
   "metadata": {},
   "source": [
    "Functions created to simplify my analisis previous to the actual segmentation code. \n",
    "For this I included a function to filter only Diario de sessiones documents, since I don't want laws or monetary declarations from the MPs, I only want the interaction and actuall debate."
   ]
  },
  {
   "cell_type": "code",
   "execution_count": 4,
   "metadata": {
    "id": "7YhqmLYrWwX4",
    "tags": []
   },
   "outputs": [],
   "source": [
    "def filter_DS_documents(term_dictionary):\n",
    "  DS_term = []\n",
    "  for doc in term_dictionary:\n",
    "    if doc[\"encabezado\"] == \"DS\":\n",
    "      DS_term.append(doc)\n",
    "  return DS_term"
   ]
  },
  {
   "cell_type": "markdown",
   "metadata": {},
   "source": [
    "In here I made a simple filter by date since the jsons are structured by term and I want them by year."
   ]
  },
  {
   "cell_type": "code",
   "execution_count": 5,
   "metadata": {
    "id": "9ducg84IW18S",
    "tags": []
   },
   "outputs": [],
   "source": [
    "def get_period(terms, lower_date = \"0\", upper_date = \"99999999\"):\n",
    "  period = []\n",
    "  for term in terms:\n",
    "    for doc in term:\n",
    "      if doc[\"fecha\"] >= lower_date and doc[\"fecha\"] <= upper_date:\n",
    "        period.append(doc)\n",
    "  return period"
   ]
  },
  {
   "cell_type": "markdown",
   "metadata": {},
   "source": [
    "Here I use a function I created on the congreso pypi library to get the unique values on the field secc which stands for section."
   ]
  },
  {
   "cell_type": "code",
   "execution_count": 6,
   "metadata": {
    "colab": {
     "base_uri": "https://localhost:8080/",
     "height": 711
    },
    "id": "hGK6Uxi19_eS",
    "outputId": "90e4fc40-33fe-45ad-edc9-b46ad957c6fd",
    "tags": []
   },
   "outputs": [
    {
     "data": {
      "text/html": [
       "<div>\n",
       "<style scoped>\n",
       "    .dataframe tbody tr th:only-of-type {\n",
       "        vertical-align: middle;\n",
       "    }\n",
       "\n",
       "    .dataframe tbody tr th {\n",
       "        vertical-align: top;\n",
       "    }\n",
       "\n",
       "    .dataframe thead th {\n",
       "        text-align: right;\n",
       "    }\n",
       "</style>\n",
       "<table border=\"1\" class=\"dataframe\">\n",
       "  <thead>\n",
       "    <tr style=\"text-align: right;\">\n",
       "      <th></th>\n",
       "      <th>secc</th>\n",
       "      <th>Number of Documents</th>\n",
       "    </tr>\n",
       "  </thead>\n",
       "  <tbody>\n",
       "    <tr>\n",
       "      <th>0</th>\n",
       "      <td>CONGRESO DE LOS DIPUTADOS</td>\n",
       "      <td>6392</td>\n",
       "    </tr>\n",
       "    <tr>\n",
       "      <th>1</th>\n",
       "      <td>SENADO</td>\n",
       "      <td>3629</td>\n",
       "    </tr>\n",
       "    <tr>\n",
       "      <th>2</th>\n",
       "      <td>CORTES GENERALES</td>\n",
       "      <td>771</td>\n",
       "    </tr>\n",
       "    <tr>\n",
       "      <th>3</th>\n",
       "      <td></td>\n",
       "      <td>2</td>\n",
       "    </tr>\n",
       "    <tr>\n",
       "      <th>4</th>\n",
       "      <td>Senado</td>\n",
       "      <td>1</td>\n",
       "    </tr>\n",
       "  </tbody>\n",
       "</table>\n",
       "</div>"
      ],
      "text/plain": [
       "                        secc  Number of Documents\n",
       "0  CONGRESO DE LOS DIPUTADOS                 6392\n",
       "1                     SENADO                 3629\n",
       "2           CORTES GENERALES                  771\n",
       "3                                               2\n",
       "4                     Senado                    1"
      ]
     },
     "metadata": {},
     "output_type": "display_data"
    },
    {
     "data": {
      "text/html": [
       "<div>\n",
       "<style scoped>\n",
       "    .dataframe tbody tr th:only-of-type {\n",
       "        vertical-align: middle;\n",
       "    }\n",
       "\n",
       "    .dataframe tbody tr th {\n",
       "        vertical-align: top;\n",
       "    }\n",
       "\n",
       "    .dataframe thead th {\n",
       "        text-align: right;\n",
       "    }\n",
       "</style>\n",
       "<table border=\"1\" class=\"dataframe\">\n",
       "  <thead>\n",
       "    <tr style=\"text-align: right;\">\n",
       "      <th></th>\n",
       "      <th>secc</th>\n",
       "      <th>Number of Documents</th>\n",
       "    </tr>\n",
       "  </thead>\n",
       "  <tbody>\n",
       "    <tr>\n",
       "      <th>0</th>\n",
       "      <td>SENADO</td>\n",
       "      <td>4788</td>\n",
       "    </tr>\n",
       "    <tr>\n",
       "      <th>1</th>\n",
       "      <td>CONGRESO DE LOS DIPUTADOS</td>\n",
       "      <td>2797</td>\n",
       "    </tr>\n",
       "    <tr>\n",
       "      <th>2</th>\n",
       "      <td>CONGRESO</td>\n",
       "      <td>1214</td>\n",
       "    </tr>\n",
       "    <tr>\n",
       "      <th>3</th>\n",
       "      <td>CORTES GENERALES</td>\n",
       "      <td>766</td>\n",
       "    </tr>\n",
       "  </tbody>\n",
       "</table>\n",
       "</div>"
      ],
      "text/plain": [
       "                        secc  Number of Documents\n",
       "0                     SENADO                 4788\n",
       "1  CONGRESO DE LOS DIPUTADOS                 2797\n",
       "2                   CONGRESO                 1214\n",
       "3           CORTES GENERALES                  766"
      ]
     },
     "metadata": {},
     "output_type": "display_data"
    },
    {
     "data": {
      "text/html": [
       "<div>\n",
       "<style scoped>\n",
       "    .dataframe tbody tr th:only-of-type {\n",
       "        vertical-align: middle;\n",
       "    }\n",
       "\n",
       "    .dataframe tbody tr th {\n",
       "        vertical-align: top;\n",
       "    }\n",
       "\n",
       "    .dataframe thead th {\n",
       "        text-align: right;\n",
       "    }\n",
       "</style>\n",
       "<table border=\"1\" class=\"dataframe\">\n",
       "  <thead>\n",
       "    <tr style=\"text-align: right;\">\n",
       "      <th></th>\n",
       "      <th>secc</th>\n",
       "      <th>Number of Documents</th>\n",
       "    </tr>\n",
       "  </thead>\n",
       "  <tbody>\n",
       "    <tr>\n",
       "      <th>0</th>\n",
       "      <td>SENADO</td>\n",
       "      <td>4495</td>\n",
       "    </tr>\n",
       "    <tr>\n",
       "      <th>1</th>\n",
       "      <td>CONGRESO DE LOS DIPUTADOS</td>\n",
       "      <td>2508</td>\n",
       "    </tr>\n",
       "    <tr>\n",
       "      <th>2</th>\n",
       "      <td>CONGRESO</td>\n",
       "      <td>1209</td>\n",
       "    </tr>\n",
       "    <tr>\n",
       "      <th>3</th>\n",
       "      <td>CORTES GENERALES</td>\n",
       "      <td>649</td>\n",
       "    </tr>\n",
       "    <tr>\n",
       "      <th>4</th>\n",
       "      <td>SENADO</td>\n",
       "      <td>1</td>\n",
       "    </tr>\n",
       "  </tbody>\n",
       "</table>\n",
       "</div>"
      ],
      "text/plain": [
       "                        secc  Number of Documents\n",
       "0                     SENADO                 4495\n",
       "1  CONGRESO DE LOS DIPUTADOS                 2508\n",
       "2                   CONGRESO                 1209\n",
       "3           CORTES GENERALES                  649\n",
       "4                     SENADO                    1"
      ]
     },
     "metadata": {},
     "output_type": "display_data"
    },
    {
     "data": {
      "text/html": [
       "<div>\n",
       "<style scoped>\n",
       "    .dataframe tbody tr th:only-of-type {\n",
       "        vertical-align: middle;\n",
       "    }\n",
       "\n",
       "    .dataframe tbody tr th {\n",
       "        vertical-align: top;\n",
       "    }\n",
       "\n",
       "    .dataframe thead th {\n",
       "        text-align: right;\n",
       "    }\n",
       "</style>\n",
       "<table border=\"1\" class=\"dataframe\">\n",
       "  <thead>\n",
       "    <tr style=\"text-align: right;\">\n",
       "      <th></th>\n",
       "      <th>secc</th>\n",
       "      <th>Number of Documents</th>\n",
       "    </tr>\n",
       "  </thead>\n",
       "  <tbody>\n",
       "    <tr>\n",
       "      <th>0</th>\n",
       "      <td>SENADO</td>\n",
       "      <td>1196</td>\n",
       "    </tr>\n",
       "    <tr>\n",
       "      <th>1</th>\n",
       "      <td>CONGRESO DE LOS DIPUTADOS</td>\n",
       "      <td>393</td>\n",
       "    </tr>\n",
       "    <tr>\n",
       "      <th>2</th>\n",
       "      <td>CONGRESO</td>\n",
       "      <td>146</td>\n",
       "    </tr>\n",
       "    <tr>\n",
       "      <th>3</th>\n",
       "      <td>CORTES GENERALES</td>\n",
       "      <td>140</td>\n",
       "    </tr>\n",
       "  </tbody>\n",
       "</table>\n",
       "</div>"
      ],
      "text/plain": [
       "                        secc  Number of Documents\n",
       "0                     SENADO                 1196\n",
       "1  CONGRESO DE LOS DIPUTADOS                  393\n",
       "2                   CONGRESO                  146\n",
       "3           CORTES GENERALES                  140"
      ]
     },
     "metadata": {},
     "output_type": "display_data"
    }
   ],
   "source": [
    "display(c.display_field_values(t['VII'], \"secc\"))\n",
    "display(c.display_field_values(t['X'], \"secc\"))\n",
    "display(c.display_field_values(t['XIV'], \"secc\"))\n",
    "display(c.display_field_values(t['XV'], \"secc\"))"
   ]
  },
  {
   "cell_type": "markdown",
   "metadata": {},
   "source": [
    "### Filter documents by their SECC (to only keep congreso documents)"
   ]
  },
  {
   "cell_type": "code",
   "execution_count": 7,
   "metadata": {
    "id": "gNva-hxId2RK",
    "tags": []
   },
   "outputs": [],
   "source": [
    "def filter_cong_documents(term_dictionary):\n",
    "  cong_term = []\n",
    "  for doc in term_dictionary:\n",
    "    if (doc[\"secc\"] == \"CONGRESO\") or (doc[\"secc\"] == \"CONGRESO DE LOS DIPUTADOS\"):\n",
    "      cong_term.append(doc)\n",
    "  return cong_term"
   ]
  },
  {
   "cell_type": "markdown",
   "metadata": {},
   "source": [
    "### Filter documents only from Congreso Plenos"
   ]
  },
  {
   "cell_type": "markdown",
   "metadata": {},
   "source": [
    "Here I will only get documents from 2022 since it is the most recent full stack of documents we have from parlamint. Then I'll filter by secc and finally by organ. But first of course I need to know if the only way they refere to pleno is simply \"Pleno\", because they tend to have consistency trouble. It turns out they did this right and Pleno is just Pleno."
   ]
  },
  {
   "cell_type": "code",
   "execution_count": 17,
   "metadata": {
    "tags": []
   },
   "outputs": [
    {
     "data": {
      "text/html": [
       "<div>\n",
       "<style scoped>\n",
       "    .dataframe tbody tr th:only-of-type {\n",
       "        vertical-align: middle;\n",
       "    }\n",
       "\n",
       "    .dataframe tbody tr th {\n",
       "        vertical-align: top;\n",
       "    }\n",
       "\n",
       "    .dataframe thead th {\n",
       "        text-align: right;\n",
       "    }\n",
       "</style>\n",
       "<table border=\"1\" class=\"dataframe\">\n",
       "  <thead>\n",
       "    <tr style=\"text-align: right;\">\n",
       "      <th></th>\n",
       "      <th>seri</th>\n",
       "      <th>Number of Documents</th>\n",
       "    </tr>\n",
       "  </thead>\n",
       "  <tbody>\n",
       "    <tr>\n",
       "      <th>0</th>\n",
       "      <td>Comisiones</td>\n",
       "      <td>1400</td>\n",
       "    </tr>\n",
       "    <tr>\n",
       "      <th>1</th>\n",
       "      <td>I</td>\n",
       "      <td>1216</td>\n",
       "    </tr>\n",
       "    <tr>\n",
       "      <th>2</th>\n",
       "      <td>A</td>\n",
       "      <td>1004</td>\n",
       "    </tr>\n",
       "    <tr>\n",
       "      <th>3</th>\n",
       "      <td>II</td>\n",
       "      <td>965</td>\n",
       "    </tr>\n",
       "    <tr>\n",
       "      <th>4</th>\n",
       "      <td>IV</td>\n",
       "      <td>913</td>\n",
       "    </tr>\n",
       "    <tr>\n",
       "      <th>5</th>\n",
       "      <td>B</td>\n",
       "      <td>911</td>\n",
       "    </tr>\n",
       "    <tr>\n",
       "      <th>6</th>\n",
       "      <td>D</td>\n",
       "      <td>643</td>\n",
       "    </tr>\n",
       "    <tr>\n",
       "      <th>7</th>\n",
       "      <td>III</td>\n",
       "      <td>449</td>\n",
       "    </tr>\n",
       "    <tr>\n",
       "      <th>8</th>\n",
       "      <td>C</td>\n",
       "      <td>418</td>\n",
       "    </tr>\n",
       "    <tr>\n",
       "      <th>9</th>\n",
       "      <td>VI</td>\n",
       "      <td>308</td>\n",
       "    </tr>\n",
       "    <tr>\n",
       "      <th>10</th>\n",
       "      <td>Pleno y Diputación Permanente</td>\n",
       "      <td>275</td>\n",
       "    </tr>\n",
       "    <tr>\n",
       "      <th>11</th>\n",
       "      <td>Comisiones Mixtas</td>\n",
       "      <td>180</td>\n",
       "    </tr>\n",
       "    <tr>\n",
       "      <th>12</th>\n",
       "      <td>Pleno</td>\n",
       "      <td>134</td>\n",
       "    </tr>\n",
       "    <tr>\n",
       "      <th>13</th>\n",
       "      <td>Comisiones de Investigación</td>\n",
       "      <td>32</td>\n",
       "    </tr>\n",
       "    <tr>\n",
       "      <th>14</th>\n",
       "      <td>V</td>\n",
       "      <td>10</td>\n",
       "    </tr>\n",
       "    <tr>\n",
       "      <th>15</th>\n",
       "      <td>Diputación Permanente</td>\n",
       "      <td>2</td>\n",
       "    </tr>\n",
       "    <tr>\n",
       "      <th>16</th>\n",
       "      <td>Sesiones Conjuntas</td>\n",
       "      <td>1</td>\n",
       "    </tr>\n",
       "    <tr>\n",
       "      <th>17</th>\n",
       "      <td>I</td>\n",
       "      <td>1</td>\n",
       "    </tr>\n",
       "  </tbody>\n",
       "</table>\n",
       "</div>"
      ],
      "text/plain": [
       "                             seri  Number of Documents\n",
       "0                      Comisiones                 1400\n",
       "1                               I                 1216\n",
       "2                               A                 1004\n",
       "3                              II                  965\n",
       "4                              IV                  913\n",
       "5                               B                  911\n",
       "6                               D                  643\n",
       "7                             III                  449\n",
       "8                               C                  418\n",
       "9                              VI                  308\n",
       "10  Pleno y Diputación Permanente                  275\n",
       "11              Comisiones Mixtas                  180\n",
       "12                          Pleno                  134\n",
       "13    Comisiones de Investigación                   32\n",
       "14                              V                   10\n",
       "15          Diputación Permanente                    2\n",
       "16             Sesiones Conjuntas                    1\n",
       "17                              I                    1"
      ]
     },
     "metadata": {},
     "output_type": "display_data"
    },
    {
     "data": {
      "text/html": [
       "<div>\n",
       "<style scoped>\n",
       "    .dataframe tbody tr th:only-of-type {\n",
       "        vertical-align: middle;\n",
       "    }\n",
       "\n",
       "    .dataframe tbody tr th {\n",
       "        vertical-align: top;\n",
       "    }\n",
       "\n",
       "    .dataframe thead th {\n",
       "        text-align: right;\n",
       "    }\n",
       "</style>\n",
       "<table border=\"1\" class=\"dataframe\">\n",
       "  <thead>\n",
       "    <tr style=\"text-align: right;\">\n",
       "      <th></th>\n",
       "      <th>secc</th>\n",
       "      <th>Number of Documents</th>\n",
       "    </tr>\n",
       "  </thead>\n",
       "  <tbody>\n",
       "    <tr>\n",
       "      <th>0</th>\n",
       "      <td>SENADO</td>\n",
       "      <td>4495</td>\n",
       "    </tr>\n",
       "    <tr>\n",
       "      <th>1</th>\n",
       "      <td>CONGRESO DE LOS DIPUTADOS</td>\n",
       "      <td>2508</td>\n",
       "    </tr>\n",
       "    <tr>\n",
       "      <th>2</th>\n",
       "      <td>CONGRESO</td>\n",
       "      <td>1209</td>\n",
       "    </tr>\n",
       "    <tr>\n",
       "      <th>3</th>\n",
       "      <td>CORTES GENERALES</td>\n",
       "      <td>649</td>\n",
       "    </tr>\n",
       "    <tr>\n",
       "      <th>4</th>\n",
       "      <td>SENADO</td>\n",
       "      <td>1</td>\n",
       "    </tr>\n",
       "  </tbody>\n",
       "</table>\n",
       "</div>"
      ],
      "text/plain": [
       "                        secc  Number of Documents\n",
       "0                     SENADO                 4495\n",
       "1  CONGRESO DE LOS DIPUTADOS                 2508\n",
       "2                   CONGRESO                 1209\n",
       "3           CORTES GENERALES                  649\n",
       "4                     SENADO                    1"
      ]
     },
     "metadata": {},
     "output_type": "display_data"
    },
    {
     "data": {
      "text/html": [
       "<div>\n",
       "<style scoped>\n",
       "    .dataframe tbody tr th:only-of-type {\n",
       "        vertical-align: middle;\n",
       "    }\n",
       "\n",
       "    .dataframe tbody tr th {\n",
       "        vertical-align: top;\n",
       "    }\n",
       "\n",
       "    .dataframe thead th {\n",
       "        text-align: right;\n",
       "    }\n",
       "</style>\n",
       "<table border=\"1\" class=\"dataframe\">\n",
       "  <thead>\n",
       "    <tr style=\"text-align: right;\">\n",
       "      <th></th>\n",
       "      <th>orga</th>\n",
       "      <th>Number of Documents</th>\n",
       "    </tr>\n",
       "  </thead>\n",
       "  <tbody>\n",
       "    <tr>\n",
       "      <th>0</th>\n",
       "      <td></td>\n",
       "      <td>6839</td>\n",
       "    </tr>\n",
       "    <tr>\n",
       "      <th>1</th>\n",
       "      <td>Pleno</td>\n",
       "      <td>396</td>\n",
       "    </tr>\n",
       "    <tr>\n",
       "      <th>2</th>\n",
       "      <td>Comisión de Sanidad y Consumo</td>\n",
       "      <td>99</td>\n",
       "    </tr>\n",
       "    <tr>\n",
       "      <th>3</th>\n",
       "      <td>Comisión de Justicia</td>\n",
       "      <td>74</td>\n",
       "    </tr>\n",
       "    <tr>\n",
       "      <th>4</th>\n",
       "      <td>Comisión de Asuntos Económicos y Transformació...</td>\n",
       "      <td>68</td>\n",
       "    </tr>\n",
       "    <tr>\n",
       "      <th>...</th>\n",
       "      <td>...</td>\n",
       "      <td>...</td>\n",
       "    </tr>\n",
       "    <tr>\n",
       "      <th>63</th>\n",
       "      <td>Comisión conjunta de la Comisión de Transición...</td>\n",
       "      <td>1</td>\n",
       "    </tr>\n",
       "    <tr>\n",
       "      <th>64</th>\n",
       "      <td>Sesiones Conjuntas</td>\n",
       "      <td>1</td>\n",
       "    </tr>\n",
       "    <tr>\n",
       "      <th>65</th>\n",
       "      <td>Comisión de Investigación relativa a la gestió...</td>\n",
       "      <td>1</td>\n",
       "    </tr>\n",
       "    <tr>\n",
       "      <th>66</th>\n",
       "      <td>Comisión de Investigación sobre las actuacione...</td>\n",
       "      <td>1</td>\n",
       "    </tr>\n",
       "    <tr>\n",
       "      <th>67</th>\n",
       "      <td>Comisión de investigación sobre las actuacione...</td>\n",
       "      <td>1</td>\n",
       "    </tr>\n",
       "  </tbody>\n",
       "</table>\n",
       "<p>68 rows × 2 columns</p>\n",
       "</div>"
      ],
      "text/plain": [
       "                                                 orga  Number of Documents\n",
       "0                                                                     6839\n",
       "1                                               Pleno                  396\n",
       "2                       Comisión de Sanidad y Consumo                   99\n",
       "3                                Comisión de Justicia                   74\n",
       "4   Comisión de Asuntos Económicos y Transformació...                   68\n",
       "..                                                ...                  ...\n",
       "63  Comisión conjunta de la Comisión de Transición...                    1\n",
       "64                                 Sesiones Conjuntas                    1\n",
       "65  Comisión de Investigación relativa a la gestió...                    1\n",
       "66  Comisión de Investigación sobre las actuacione...                    1\n",
       "67  Comisión de investigación sobre las actuacione...                    1\n",
       "\n",
       "[68 rows x 2 columns]"
      ]
     },
     "metadata": {},
     "output_type": "display_data"
    }
   ],
   "source": [
    "display(c.display_field_values(t['XIV'], \"seri\"))\n",
    "display(c.display_field_values(t['XIV'], \"secc\"))\n",
    "display(c.display_field_values(t['XIV'], \"orga\"))"
   ]
  },
  {
   "cell_type": "code",
   "execution_count": 23,
   "metadata": {
    "colab": {
     "base_uri": "https://localhost:8080/"
    },
    "id": "zF1F8n7UQyAY",
    "outputId": "ea0fff8e-8924-4988-d126-a53613bf1cd3",
    "tags": []
   },
   "outputs": [
    {
     "name": "stdout",
     "output_type": "stream",
     "text": [
      "Total Pleno documents: 84\n"
     ]
    },
    {
     "data": {
      "text/plain": [
       "'Fecha: 20220125, URL: /public_oficiales/L14/CONG/DS/PL/DSCD-14-PL-153.PDF, seri: Pleno y Diputación Permanente, fecha_mensaje: de 25/01/2022, encabezado: DS'"
      ]
     },
     "metadata": {},
     "output_type": "display_data"
    },
    {
     "data": {
      "text/plain": [
       "'Fecha: 20220201, URL: /public_oficiales/L14/CONG/DS/PL/DSCD-14-PL-154.PDF, seri: Pleno y Diputación Permanente, fecha_mensaje: de 01/02/2022, encabezado: DS'"
      ]
     },
     "metadata": {},
     "output_type": "display_data"
    },
    {
     "data": {
      "text/plain": [
       "'Fecha: 20220202, URL: /public_oficiales/L14/CONG/DS/PL/DSCD-14-PL-155.PDF, seri: Pleno y Diputación Permanente, fecha_mensaje: de 02/02/2022, encabezado: DS'"
      ]
     },
     "metadata": {},
     "output_type": "display_data"
    },
    {
     "data": {
      "text/plain": [
       "'Fecha: 20220203, URL: /public_oficiales/L14/CONG/DS/PL/DSCD-14-PL-156.PDF, seri: Pleno y Diputación Permanente, fecha_mensaje: de 03/02/2022, encabezado: DS'"
      ]
     },
     "metadata": {},
     "output_type": "display_data"
    },
    {
     "data": {
      "text/plain": [
       "'Fecha: 20220215, URL: /public_oficiales/L14/CONG/DS/PL/DSCD-14-PL-157.PDF, seri: Pleno y Diputación Permanente, fecha_mensaje: de 15/02/2022, encabezado: DS'"
      ]
     },
     "metadata": {},
     "output_type": "display_data"
    },
    {
     "data": {
      "text/plain": [
       "'Fecha: 20220216, URL: /public_oficiales/L14/CONG/DS/PL/DSCD-14-PL-158.PDF, seri: Pleno y Diputación Permanente, fecha_mensaje: de 16/02/2022, encabezado: DS'"
      ]
     },
     "metadata": {},
     "output_type": "display_data"
    },
    {
     "data": {
      "text/plain": [
       "'Fecha: 20220217, URL: /public_oficiales/L14/CONG/DS/PL/DSCD-14-PL-159.PDF, seri: Pleno y Diputación Permanente, fecha_mensaje: de 17/02/2022, encabezado: DS'"
      ]
     },
     "metadata": {},
     "output_type": "display_data"
    },
    {
     "data": {
      "text/plain": [
       "'Fecha: 20220222, URL: /public_oficiales/L14/CONG/DS/PL/DSCD-14-PL-160.PDF, seri: Pleno y Diputación Permanente, fecha_mensaje: de 22/02/2022, encabezado: DS'"
      ]
     },
     "metadata": {},
     "output_type": "display_data"
    },
    {
     "data": {
      "text/plain": [
       "'Fecha: 20220223, URL: /public_oficiales/L14/CONG/DS/PL/DSCD-14-PL-161.PDF, seri: Pleno y Diputación Permanente, fecha_mensaje: de 23/02/2022, encabezado: DS'"
      ]
     },
     "metadata": {},
     "output_type": "display_data"
    },
    {
     "data": {
      "text/plain": [
       "'Fecha: 20220224, URL: /public_oficiales/L14/CONG/DS/PL/DSCD-14-PL-162.PDF, seri: Pleno y Diputación Permanente, fecha_mensaje: de 24/02/2022, encabezado: DS'"
      ]
     },
     "metadata": {},
     "output_type": "display_data"
    },
    {
     "data": {
      "text/plain": [
       "'Fecha: 20220302, URL: /public_oficiales/L14/CONG/DS/PL/DSCD-14-PL-163.PDF, seri: Pleno y Diputación Permanente, fecha_mensaje: de 02/03/2022, encabezado: DS'"
      ]
     },
     "metadata": {},
     "output_type": "display_data"
    },
    {
     "data": {
      "text/plain": [
       "'Fecha: 20220308, URL: /public_oficiales/L14/CONG/DS/PL/DSCD-14-PL-164.PDF, seri: Pleno y Diputación Permanente, fecha_mensaje: de 08/03/2022, encabezado: DS'"
      ]
     },
     "metadata": {},
     "output_type": "display_data"
    },
    {
     "data": {
      "text/plain": [
       "'Fecha: 20220309, URL: /public_oficiales/L14/CONG/DS/PL/DSCD-14-PL-165.PDF, seri: Pleno y Diputación Permanente, fecha_mensaje: de 09/03/2022, encabezado: DS'"
      ]
     },
     "metadata": {},
     "output_type": "display_data"
    },
    {
     "data": {
      "text/plain": [
       "'Fecha: 20220310, URL: /public_oficiales/L14/CONG/DS/PL/DSCD-14-PL-166.PDF, seri: Pleno y Diputación Permanente, fecha_mensaje: de 10/03/2022, encabezado: DS'"
      ]
     },
     "metadata": {},
     "output_type": "display_data"
    },
    {
     "data": {
      "text/plain": [
       "'Fecha: 20220315, URL: /public_oficiales/L14/CONG/DS/PL/DSCD-14-PL-167.PDF, seri: Pleno y Diputación Permanente, fecha_mensaje: de 15/03/2022, encabezado: DS'"
      ]
     },
     "metadata": {},
     "output_type": "display_data"
    },
    {
     "data": {
      "text/plain": [
       "'Fecha: 20220316, URL: /public_oficiales/L14/CONG/DS/PL/DSCD-14-PL-168.PDF, seri: Pleno y Diputación Permanente, fecha_mensaje: de 16/03/2022, encabezado: DS'"
      ]
     },
     "metadata": {},
     "output_type": "display_data"
    },
    {
     "data": {
      "text/plain": [
       "'Fecha: 20220317, URL: /public_oficiales/L14/CONG/DS/PL/DSCD-14-PL-169.PDF, seri: Pleno y Diputación Permanente, fecha_mensaje: de 17/03/2022, encabezado: DS'"
      ]
     },
     "metadata": {},
     "output_type": "display_data"
    },
    {
     "data": {
      "text/plain": [
       "'Fecha: 20220322, URL: /public_oficiales/L14/CONG/DS/PL/DSCD-14-PL-170.PDF, seri: Pleno y Diputación Permanente, fecha_mensaje: de 22/03/2022, encabezado: DS'"
      ]
     },
     "metadata": {},
     "output_type": "display_data"
    },
    {
     "data": {
      "text/plain": [
       "'Fecha: 20220323, URL: /public_oficiales/L14/CONG/DS/PL/DSCD-14-PL-171.PDF, seri: Pleno y Diputación Permanente, fecha_mensaje: de 23/03/2022, encabezado: DS'"
      ]
     },
     "metadata": {},
     "output_type": "display_data"
    },
    {
     "data": {
      "text/plain": [
       "'Fecha: 20220324, URL: /public_oficiales/L14/CONG/DS/PL/DSCD-14-PL-172.PDF, seri: Pleno y Diputación Permanente, fecha_mensaje: de 24/03/2022, encabezado: DS'"
      ]
     },
     "metadata": {},
     "output_type": "display_data"
    },
    {
     "data": {
      "text/plain": [
       "'Fecha: 20220329, URL: /public_oficiales/L14/CONG/DS/PL/DSCD-14-PL-173.PDF, seri: Pleno y Diputación Permanente, fecha_mensaje: de 29/03/2022, encabezado: DS'"
      ]
     },
     "metadata": {},
     "output_type": "display_data"
    },
    {
     "data": {
      "text/plain": [
       "'Fecha: 20220330, URL: /public_oficiales/L14/CONG/DS/PL/DSCD-14-PL-174.PDF, seri: Pleno y Diputación Permanente, fecha_mensaje: de 30/03/2022, encabezado: DS'"
      ]
     },
     "metadata": {},
     "output_type": "display_data"
    },
    {
     "data": {
      "text/plain": [
       "'Fecha: 20220331, URL: /public_oficiales/L14/CONG/DS/PL/DSCD-14-PL-175.PDF, seri: Pleno y Diputación Permanente, fecha_mensaje: de 31/03/2022, encabezado: DS'"
      ]
     },
     "metadata": {},
     "output_type": "display_data"
    },
    {
     "data": {
      "text/plain": [
       "'Fecha: 20220405, URL: /public_oficiales/L14/CONG/DS/PL/DSCD-14-PL-176.PDF, seri: Pleno y Diputación Permanente, fecha_mensaje: de 05/04/2022, encabezado: DS'"
      ]
     },
     "metadata": {},
     "output_type": "display_data"
    },
    {
     "data": {
      "text/plain": [
       "'Fecha: 20220406, URL: /public_oficiales/L14/CONG/DS/PL/DSCD-14-PL-177.PDF, seri: Pleno y Diputación Permanente, fecha_mensaje: de 06/04/2022, encabezado: DS'"
      ]
     },
     "metadata": {},
     "output_type": "display_data"
    },
    {
     "data": {
      "text/plain": [
       "'Fecha: 20220407, URL: /public_oficiales/L14/CONG/DS/PL/DSCD-14-PL-178.PDF, seri: Pleno y Diputación Permanente, fecha_mensaje: de 07/04/2022, encabezado: DS'"
      ]
     },
     "metadata": {},
     "output_type": "display_data"
    },
    {
     "data": {
      "text/plain": [
       "'Fecha: 20220426, URL: /public_oficiales/L14/CONG/DS/PL/DSCD-14-PL-179.PDF, seri: Pleno y Diputación Permanente, fecha_mensaje: de 26/04/2022, encabezado: DS'"
      ]
     },
     "metadata": {},
     "output_type": "display_data"
    },
    {
     "data": {
      "text/plain": [
       "'Fecha: 20220427, URL: /public_oficiales/L14/CONG/DS/PL/DSCD-14-PL-180.PDF, seri: Pleno y Diputación Permanente, fecha_mensaje: de 27/04/2022, encabezado: DS'"
      ]
     },
     "metadata": {},
     "output_type": "display_data"
    },
    {
     "data": {
      "text/plain": [
       "'Fecha: 20220428, URL: /public_oficiales/L14/CONG/DS/PL/DSCD-14-PL-182.PDF, seri: Pleno y Diputación Permanente, fecha_mensaje: de 28/04/2022, encabezado: DS'"
      ]
     },
     "metadata": {},
     "output_type": "display_data"
    },
    {
     "data": {
      "text/plain": [
       "'Fecha: 20220428, URL: /public_oficiales/L14/CONG/DS/PL/DSCD-14-PL-181.PDF, seri: Pleno y Diputación Permanente, fecha_mensaje: de 28/04/2022, encabezado: DS'"
      ]
     },
     "metadata": {},
     "output_type": "display_data"
    },
    {
     "data": {
      "text/plain": [
       "'Fecha: 20220510, URL: /public_oficiales/L14/CONG/DS/PL/DSCD-14-PL-183.PDF, seri: Pleno y Diputación Permanente, fecha_mensaje: de 10/05/2022, encabezado: DS'"
      ]
     },
     "metadata": {},
     "output_type": "display_data"
    },
    {
     "data": {
      "text/plain": [
       "'Fecha: 20220511, URL: /public_oficiales/L14/CONG/DS/PL/DSCD-14-PL-184.PDF, seri: Pleno y Diputación Permanente, fecha_mensaje: de 11/05/2022, encabezado: DS'"
      ]
     },
     "metadata": {},
     "output_type": "display_data"
    },
    {
     "data": {
      "text/plain": [
       "'Fecha: 20220512, URL: /public_oficiales/L14/CONG/DS/PL/DSCD-14-PL-185.PDF, seri: Pleno y Diputación Permanente, fecha_mensaje: de 12/05/2022, encabezado: DS'"
      ]
     },
     "metadata": {},
     "output_type": "display_data"
    },
    {
     "data": {
      "text/plain": [
       "'Fecha: 20220517, URL: /public_oficiales/L14/CONG/DS/PL/DSCD-14-PL-186.PDF, seri: Pleno y Diputación Permanente, fecha_mensaje: de 17/05/2022, encabezado: DS'"
      ]
     },
     "metadata": {},
     "output_type": "display_data"
    },
    {
     "data": {
      "text/plain": [
       "'Fecha: 20220518, URL: /public_oficiales/L14/CONG/DS/PL/DSCD-14-PL-187.PDF, seri: Pleno y Diputación Permanente, fecha_mensaje: de 18/05/2022, encabezado: DS'"
      ]
     },
     "metadata": {},
     "output_type": "display_data"
    },
    {
     "data": {
      "text/plain": [
       "'Fecha: 20220524, URL: /public_oficiales/L14/CONG/DS/PL/DSCD-14-PL-188.PDF, seri: Pleno y Diputación Permanente, fecha_mensaje: de 24/05/2022, encabezado: DS'"
      ]
     },
     "metadata": {},
     "output_type": "display_data"
    },
    {
     "data": {
      "text/plain": [
       "'Fecha: 20220525, URL: /public_oficiales/L14/CONG/DS/PL/DSCD-14-PL-189.PDF, seri: Pleno y Diputación Permanente, fecha_mensaje: de 25/05/2022, encabezado: DS'"
      ]
     },
     "metadata": {},
     "output_type": "display_data"
    },
    {
     "data": {
      "text/plain": [
       "'Fecha: 20220526, URL: /public_oficiales/L14/CONG/DS/PL/DSCD-14-PL-190.PDF, seri: Pleno y Diputación Permanente, fecha_mensaje: de 26/05/2022, encabezado: DS'"
      ]
     },
     "metadata": {},
     "output_type": "display_data"
    },
    {
     "data": {
      "text/plain": [
       "'Fecha: 20220607, URL: /public_oficiales/L14/CONG/DS/PL/DSCD-14-PL-191.PDF, seri: Pleno y Diputación Permanente, fecha_mensaje: de 07/06/2022, encabezado: DS'"
      ]
     },
     "metadata": {},
     "output_type": "display_data"
    },
    {
     "data": {
      "text/plain": [
       "'Fecha: 20220608, URL: /public_oficiales/L14/CONG/DS/PL/DSCD-14-PL-192.PDF, seri: Pleno y Diputación Permanente, fecha_mensaje: de 08/06/2022, encabezado: DS'"
      ]
     },
     "metadata": {},
     "output_type": "display_data"
    },
    {
     "data": {
      "text/plain": [
       "'Fecha: 20220609, URL: /public_oficiales/L14/CONG/DS/PL/DSCD-14-PL-193.PDF, seri: Pleno y Diputación Permanente, fecha_mensaje: de 09/06/2022, encabezado: DS'"
      ]
     },
     "metadata": {},
     "output_type": "display_data"
    },
    {
     "data": {
      "text/plain": [
       "'Fecha: 20220621, URL: /public_oficiales/L14/CONG/DS/PL/DSCD-14-PL-194.PDF, seri: Pleno y Diputación Permanente, fecha_mensaje: de 21/06/2022, encabezado: DS'"
      ]
     },
     "metadata": {},
     "output_type": "display_data"
    },
    {
     "data": {
      "text/plain": [
       "'Fecha: 20220622, URL: /public_oficiales/L14/CONG/DS/PL/DSCD-14-PL-195.PDF, seri: Pleno y Diputación Permanente, fecha_mensaje: de 22/06/2022, encabezado: DS'"
      ]
     },
     "metadata": {},
     "output_type": "display_data"
    },
    {
     "data": {
      "text/plain": [
       "'Fecha: 20220623, URL: /public_oficiales/L14/CONG/DS/PL/DSCD-14-PL-196.PDF, seri: Pleno y Diputación Permanente, fecha_mensaje: de 23/06/2022, encabezado: DS'"
      ]
     },
     "metadata": {},
     "output_type": "display_data"
    },
    {
     "data": {
      "text/plain": [
       "'Fecha: 20220628, URL: /public_oficiales/L14/CONG/DS/PL/DSCD-14-PL-197.PDF, seri: Pleno y Diputación Permanente, fecha_mensaje: de 28/06/2022, encabezado: DS'"
      ]
     },
     "metadata": {},
     "output_type": "display_data"
    },
    {
     "data": {
      "text/plain": [
       "'Fecha: 20220629, URL: /public_oficiales/L14/CONG/DS/PL/DSCD-14-PL-198.PDF, seri: Pleno y Diputación Permanente, fecha_mensaje: de 29/06/2022, encabezado: DS'"
      ]
     },
     "metadata": {},
     "output_type": "display_data"
    },
    {
     "data": {
      "text/plain": [
       "'Fecha: 20220630, URL: /public_oficiales/L14/CONG/DS/PL/DSCD-14-PL-199.PDF, seri: Pleno y Diputación Permanente, fecha_mensaje: de 30/06/2022, encabezado: DS'"
      ]
     },
     "metadata": {},
     "output_type": "display_data"
    },
    {
     "data": {
      "text/plain": [
       "'Fecha: 20220712, URL: /public_oficiales/L14/CONG/DS/PL/DSCD-14-PL-200.PDF, seri: Pleno y Diputación Permanente, fecha_mensaje: de 12/07/2022, encabezado: DS'"
      ]
     },
     "metadata": {},
     "output_type": "display_data"
    },
    {
     "data": {
      "text/plain": [
       "'Fecha: 20220713, URL: /public_oficiales/L14/CONG/DS/PL/DSCD-14-PL-201.PDF, seri: Pleno y Diputación Permanente, fecha_mensaje: de 13/07/2022, encabezado: DS'"
      ]
     },
     "metadata": {},
     "output_type": "display_data"
    },
    {
     "data": {
      "text/plain": [
       "'Fecha: 20220714, URL: /public_oficiales/L14/CONG/DS/PL/DSCD-14-PL-202.PDF, seri: Pleno y Diputación Permanente, fecha_mensaje: de 14/07/2022, encabezado: DS'"
      ]
     },
     "metadata": {},
     "output_type": "display_data"
    },
    {
     "data": {
      "text/plain": [
       "'Fecha: 20220825, URL: /public_oficiales/L14/CONG/DS/PL/DSCD-14-PL-204.PDF, seri: Pleno y Diputación Permanente, fecha_mensaje: de 25/08/2022, encabezado: DS'"
      ]
     },
     "metadata": {},
     "output_type": "display_data"
    },
    {
     "data": {
      "text/plain": [
       "'Fecha: 20220913, URL: /public_oficiales/L14/CONG/DS/PL/DSCD-14-PL-205.PDF, seri: Pleno y Diputación Permanente, fecha_mensaje: de 13/09/2022, encabezado: DS'"
      ]
     },
     "metadata": {},
     "output_type": "display_data"
    },
    {
     "data": {
      "text/plain": [
       "'Fecha: 20220914, URL: /public_oficiales/L14/CONG/DS/PL/DSCD-14-PL-206.PDF, seri: Pleno y Diputación Permanente, fecha_mensaje: de 14/09/2022, encabezado: DS'"
      ]
     },
     "metadata": {},
     "output_type": "display_data"
    },
    {
     "data": {
      "text/plain": [
       "'Fecha: 20220915, URL: /public_oficiales/L14/CONG/DS/PL/DSCD-14-PL-207.PDF, seri: Pleno y Diputación Permanente, fecha_mensaje: de 15/09/2022, encabezado: DS'"
      ]
     },
     "metadata": {},
     "output_type": "display_data"
    },
    {
     "data": {
      "text/plain": [
       "'Fecha: 20220920, URL: /public_oficiales/L14/CONG/DS/PL/DSCD-14-PL-208.PDF, seri: Pleno y Diputación Permanente, fecha_mensaje: de 20/09/2022, encabezado: DS'"
      ]
     },
     "metadata": {},
     "output_type": "display_data"
    },
    {
     "data": {
      "text/plain": [
       "'Fecha: 20220921, URL: /public_oficiales/L14/CONG/DS/PL/DSCD-14-PL-209.PDF, seri: Pleno y Diputación Permanente, fecha_mensaje: de 21/09/2022, encabezado: DS'"
      ]
     },
     "metadata": {},
     "output_type": "display_data"
    },
    {
     "data": {
      "text/plain": [
       "'Fecha: 20220922, URL: /public_oficiales/L14/CONG/DS/PL/DSCD-14-PL-210.PDF, seri: Pleno y Diputación Permanente, fecha_mensaje: de 22/09/2022, encabezado: DS'"
      ]
     },
     "metadata": {},
     "output_type": "display_data"
    },
    {
     "data": {
      "text/plain": [
       "'Fecha: 20220927, URL: /public_oficiales/L14/CONG/DS/PL/DSCD-14-PL-211.PDF, seri: Pleno y Diputación Permanente, fecha_mensaje: de 27/09/2022, encabezado: DS'"
      ]
     },
     "metadata": {},
     "output_type": "display_data"
    },
    {
     "data": {
      "text/plain": [
       "'Fecha: 20220928, URL: /public_oficiales/L14/CONG/DS/PL/DSCD-14-PL-212.PDF, seri: Pleno y Diputación Permanente, fecha_mensaje: de 28/09/2022, encabezado: DS'"
      ]
     },
     "metadata": {},
     "output_type": "display_data"
    },
    {
     "data": {
      "text/plain": [
       "'Fecha: 20220929, URL: /public_oficiales/L14/CONG/DS/PL/DSCD-14-PL-213.PDF, seri: Pleno y Diputación Permanente, fecha_mensaje: de 29/09/2022, encabezado: DS'"
      ]
     },
     "metadata": {},
     "output_type": "display_data"
    },
    {
     "data": {
      "text/plain": [
       "'Fecha: 20221004, URL: /public_oficiales/L14/CONG/DS/PL/DSCD-14-PL-214.PDF, seri: Pleno y Diputación Permanente, fecha_mensaje: de 04/10/2022, encabezado: DS'"
      ]
     },
     "metadata": {},
     "output_type": "display_data"
    },
    {
     "data": {
      "text/plain": [
       "'Fecha: 20221005, URL: /public_oficiales/L14/CONG/DS/PL/DSCD-14-PL-215.PDF, seri: Pleno y Diputación Permanente, fecha_mensaje: de 05/10/2022, encabezado: DS'"
      ]
     },
     "metadata": {},
     "output_type": "display_data"
    },
    {
     "data": {
      "text/plain": [
       "'Fecha: 20221006, URL: /public_oficiales/L14/CONG/DS/PL/DSCD-14-PL-216.PDF, seri: Pleno y Diputación Permanente, fecha_mensaje: de 06/10/2022, encabezado: DS'"
      ]
     },
     "metadata": {},
     "output_type": "display_data"
    },
    {
     "data": {
      "text/plain": [
       "'Fecha: 20221013, URL: /public_oficiales/L14/CONG/DS/PL/DSCD-14-PL-217.PDF, seri: Pleno y Diputación Permanente, fecha_mensaje: de 13/10/2022, encabezado: DS'"
      ]
     },
     "metadata": {},
     "output_type": "display_data"
    },
    {
     "data": {
      "text/plain": [
       "'Fecha: 20221026, URL: /public_oficiales/L14/CONG/DS/PL/DSCD-14-PL-218.PDF, seri: Pleno y Diputación Permanente, fecha_mensaje: de 26/10/2022, encabezado: DS'"
      ]
     },
     "metadata": {},
     "output_type": "display_data"
    },
    {
     "data": {
      "text/plain": [
       "'Fecha: 20221027, URL: /public_oficiales/L14/CONG/DS/PL/DSCD-14-PL-219.PDF, seri: Pleno y Diputación Permanente, fecha_mensaje: de 27/10/2022, encabezado: DS'"
      ]
     },
     "metadata": {},
     "output_type": "display_data"
    },
    {
     "data": {
      "text/plain": [
       "'Fecha: 20221102, URL: /public_oficiales/L14/CONG/DS/PL/DSCD-14-PL-220.PDF, seri: Pleno y Diputación Permanente, fecha_mensaje: de 02/11/2022, encabezado: DS'"
      ]
     },
     "metadata": {},
     "output_type": "display_data"
    },
    {
     "data": {
      "text/plain": [
       "'Fecha: 20221103, URL: /public_oficiales/L14/CONG/DS/PL/DSCD-14-PL-221.PDF, seri: Pleno y Diputación Permanente, fecha_mensaje: de 03/11/2022, encabezado: DS'"
      ]
     },
     "metadata": {},
     "output_type": "display_data"
    },
    {
     "data": {
      "text/plain": [
       "'Fecha: 20221121, URL: /public_oficiales/L14/CONG/DS/PL/DSCD-14-PL-222.PDF, seri: Pleno y Diputación Permanente, fecha_mensaje: de 21/11/2022, encabezado: DS'"
      ]
     },
     "metadata": {},
     "output_type": "display_data"
    },
    {
     "data": {
      "text/plain": [
       "'Fecha: 20221122, URL: /public_oficiales/L14/CONG/DS/PL/DSCD-14-PL-223.PDF, seri: Pleno y Diputación Permanente, fecha_mensaje: de 22/11/2022, encabezado: DS'"
      ]
     },
     "metadata": {},
     "output_type": "display_data"
    },
    {
     "data": {
      "text/plain": [
       "'Fecha: 20221123, URL: /public_oficiales/L14/CONG/DS/PL/DSCD-14-PL-224.PDF, seri: Pleno y Diputación Permanente, fecha_mensaje: de 23/11/2022, encabezado: DS'"
      ]
     },
     "metadata": {},
     "output_type": "display_data"
    },
    {
     "data": {
      "text/plain": [
       "'Fecha: 20221124, URL: /public_oficiales/L14/CONG/DS/PL/DSCD-14-PL-225.PDF, seri: Pleno y Diputación Permanente, fecha_mensaje: de 24/11/2022, encabezado: DS'"
      ]
     },
     "metadata": {},
     "output_type": "display_data"
    },
    {
     "data": {
      "text/plain": [
       "'Fecha: 20221124, URL: /public_oficiales/L14/CONG/DS/PL/DSCD-14-PL-226.PDF, seri: Pleno y Diputación Permanente, fecha_mensaje: de 24/11/2022, encabezado: DS'"
      ]
     },
     "metadata": {},
     "output_type": "display_data"
    },
    {
     "data": {
      "text/plain": [
       "'Fecha: 20221129, URL: /public_oficiales/L14/CONG/DS/PL/DSCD-14-PL-227.PDF, seri: Pleno y Diputación Permanente, fecha_mensaje: de 29/11/2022, encabezado: DS'"
      ]
     },
     "metadata": {},
     "output_type": "display_data"
    },
    {
     "data": {
      "text/plain": [
       "'Fecha: 20221130, URL: /public_oficiales/L14/CONG/DS/PL/DSCD-14-PL-228.PDF, seri: Pleno y Diputación Permanente, fecha_mensaje: de 30/11/2022, encabezado: DS'"
      ]
     },
     "metadata": {},
     "output_type": "display_data"
    },
    {
     "data": {
      "text/plain": [
       "'Fecha: 20221201, URL: /public_oficiales/L14/CONG/DS/PL/DSCD-14-PL-229.PDF, seri: Pleno y Diputación Permanente, fecha_mensaje: de 01/12/2022, encabezado: DS'"
      ]
     },
     "metadata": {},
     "output_type": "display_data"
    },
    {
     "data": {
      "text/plain": [
       "'Fecha: 20221201, URL: /public_oficiales/L14/CONG/DS/PL/DSCD-14-PL-230.PDF, seri: Pleno y Diputación Permanente, fecha_mensaje: de 01/12/2022, encabezado: DS'"
      ]
     },
     "metadata": {},
     "output_type": "display_data"
    },
    {
     "data": {
      "text/plain": [
       "'Fecha: 20221213, URL: /public_oficiales/L14/CONG/DS/PL/DSCD-14-PL-231.PDF, seri: Pleno y Diputación Permanente, fecha_mensaje: de 13/12/2022, encabezado: DS'"
      ]
     },
     "metadata": {},
     "output_type": "display_data"
    },
    {
     "data": {
      "text/plain": [
       "'Fecha: 20221214, URL: /public_oficiales/L14/CONG/DS/PL/DSCD-14-PL-232.PDF, seri: Pleno y Diputación Permanente, fecha_mensaje: de 14/12/2022, encabezado: DS'"
      ]
     },
     "metadata": {},
     "output_type": "display_data"
    },
    {
     "data": {
      "text/plain": [
       "'Fecha: 20221215, URL: /public_oficiales/L14/CONG/DS/PL/DSCD-14-PL-233.PDF, seri: Pleno y Diputación Permanente, fecha_mensaje: de 15/12/2022, encabezado: DS'"
      ]
     },
     "metadata": {},
     "output_type": "display_data"
    },
    {
     "data": {
      "text/plain": [
       "'Fecha: 20221215, URL: /public_oficiales/L14/CONG/DS/PL/DSCD-14-PL-234.PDF, seri: Pleno y Diputación Permanente, fecha_mensaje: de 15/12/2022, encabezado: DS'"
      ]
     },
     "metadata": {},
     "output_type": "display_data"
    },
    {
     "data": {
      "text/plain": [
       "'Fecha: 20221220, URL: /public_oficiales/L14/CONG/DS/PL/DSCD-14-PL-235.PDF, seri: Pleno y Diputación Permanente, fecha_mensaje: de 20/12/2022, encabezado: DS'"
      ]
     },
     "metadata": {},
     "output_type": "display_data"
    },
    {
     "data": {
      "text/plain": [
       "'Fecha: 20221221, URL: /public_oficiales/L14/CONG/DS/PL/DSCD-14-PL-236.PDF, seri: Pleno y Diputación Permanente, fecha_mensaje: de 21/12/2022, encabezado: DS'"
      ]
     },
     "metadata": {},
     "output_type": "display_data"
    },
    {
     "data": {
      "text/plain": [
       "'Fecha: 20221222, URL: /public_oficiales/L14/CONG/DS/PL/DSCD-14-PL-237.PDF, seri: Pleno y Diputación Permanente, fecha_mensaje: de 22/12/2022, encabezado: DS'"
      ]
     },
     "metadata": {},
     "output_type": "display_data"
    }
   ],
   "source": [
    "XIV = t['XIV']\n",
    "docs_2022 = filter_DS_documents(c.get_documents_interval_dates(XIV, \"20220101\", \"20221231\"))\n",
    "\n",
    "cong1_term = []\n",
    "for doc in docs_2022:\n",
    "    if (doc[\"secc\"] == \"CONGRESO\") or (doc[\"secc\"] == \"CONGRESO DE LOS DIPUTADOS\"):\n",
    "        cong1_term.append(doc)\n",
    "\n",
    "count = 0\n",
    "cong_pleno = []\n",
    "for doc in cong1_term:\n",
    "    if doc[\"orga\"] == \"Pleno\":\n",
    "        count += 1\n",
    "        cong_pleno.append(doc)\n",
    "\n",
    "# Sort cong_pleno by \"fecha\" in ascending order\n",
    "cong_pleno_sorted = sorted(cong_pleno, key=lambda x: x['fecha'])\n",
    "\n",
    "print(f\"Total Pleno documents: {count}\")\n",
    "\n",
    "# Display the specified fields for each dictionary in cong_pleno_sorted\n",
    "for doc in cong_pleno_sorted:\n",
    "    display(f\"Fecha: {doc['fecha']}, URL: {doc['pdf_url']}, seri: {doc['seri']}, fecha_mensaje: {doc['fecha_mensaje']}, encabezado: {doc['encabezado']}\")\n"
   ]
  },
  {
   "cell_type": "markdown",
   "metadata": {
    "id": "2SYzyt2FXFfW"
   },
   "source": [
    "# Previous study of 2003, 2013, 2023"
   ]
  },
  {
   "cell_type": "code",
   "execution_count": null,
   "metadata": {
    "id": "ePHb_LzcXNU7"
   },
   "outputs": [],
   "source": [
    "#Get documents on 2003, 2013, 2023\n",
    "VII = t['VII']\n",
    "docs_2003 = filter_DS_documents(c.get_documents_interval_dates(VII, \"20030101\", \"20031231\"))\n",
    "\n",
    "X = t['X']\n",
    "docs_2013 = filter_DS_documents(c.get_documents_interval_dates(X, \"20130101\", \"20131231\"))\n",
    "\n",
    "XIV = t['XIV']\n",
    "XV = t['XV']\n",
    "docs_2023_XIV = filter_DS_documents(c.get_documents_interval_dates(XIV, \"20230101\", \"20231231\"))\n",
    "docs_2023_XV = filter_DS_documents(c.get_documents_interval_dates(XV, \"20230101\", \"20231231\"))\n",
    "docs_2023 = docs_2023_XIV + docs_2023_XV"
   ]
  },
  {
   "cell_type": "code",
   "execution_count": null,
   "metadata": {
    "colab": {
     "base_uri": "https://localhost:8080/"
    },
    "id": "bzhayfg-awSA",
    "outputId": "f4208a3a-8d9e-43d4-af20-131118051823"
   },
   "outputs": [
    {
     "name": "stdout",
     "output_type": "stream",
     "text": [
      "Docs 2003 filtered = 580\n",
      "Docs 2013 filtered = 572\n",
      "Docs 2023 filtered = 292\n"
     ]
    }
   ],
   "source": [
    "print(\"Docs 2003 filtered =\",c.num_docs_term(docs_2003))\n",
    "print(\"Docs 2013 filtered =\",c.num_docs_term(docs_2013))\n",
    "print(\"Docs 2023 filtered =\",c.num_docs_term(docs_2023))"
   ]
  },
  {
   "cell_type": "code",
   "execution_count": null,
   "metadata": {
    "id": "6r0uOc2CeYPY"
   },
   "outputs": [],
   "source": [
    "cong_docs_2003 = filter_cong_documents(docs_2003)\n",
    "cong_docs_2013 = filter_cong_documents(docs_2013)\n",
    "cong_docs_2023 = filter_cong_documents(docs_2023)"
   ]
  },
  {
   "cell_type": "code",
   "execution_count": null,
   "metadata": {
    "colab": {
     "base_uri": "https://localhost:8080/"
    },
    "id": "n4al6kj_ehGT",
    "outputId": "2d17b0c2-c205-4a62-e5c8-22aa90a95f40"
   },
   "outputs": [
    {
     "name": "stdout",
     "output_type": "stream",
     "text": [
      "Docs 2003 filtered = 320\n",
      "Docs 2013 filtered = 328\n",
      "Docs 2023 filtered = 150\n"
     ]
    }
   ],
   "source": [
    "print(\"Docs 2003 filtered =\",c.num_docs_term(cong_docs_2003))\n",
    "print(\"Docs 2013 filtered =\",c.num_docs_term(cong_docs_2013))\n",
    "print(\"Docs 2023 filtered =\",c.num_docs_term(cong_docs_2023))"
   ]
  },
  {
   "cell_type": "code",
   "execution_count": null,
   "metadata": {
    "colab": {
     "base_uri": "https://localhost:8080/",
     "height": 616
    },
    "id": "_meqtldTvQsY",
    "outputId": "6b78262b-a1b6-428c-d8e0-9a497b8f0953"
   },
   "outputs": [
    {
     "name": "stdout",
     "output_type": "stream",
     "text": [
      "Average document length for 2003: 197780.28\n",
      "Average document length for 2013: 192731.37\n",
      "Average document length for 2023: 152062.95\n"
     ]
    },
    {
     "data": {
      "image/png": "[encoded data removed]",
      "text/plain": [
       "<Figure size 1000x600 with 1 Axes>"
      ]
     },
     "metadata": {},
     "output_type": "display_data"
    }
   ],
   "source": [
    "import matplotlib.pyplot as plt\n",
    "\n",
    "# Apply the add_texto_length function to each document list\n",
    "cong_docs_2003 = c.add_texto_length(cong_docs_2003)\n",
    "cong_docs_2013 = c.add_texto_length(cong_docs_2013)\n",
    "cong_docs_2023 = c.add_texto_length(cong_docs_2023)\n",
    "\n",
    "# Extract 'texto_length' for each document in each term\n",
    "doc_lengths_2003 = [doc['texto_length'] for doc in cong_docs_2003]\n",
    "doc_lengths_2013 = [doc['texto_length'] for doc in cong_docs_2013]\n",
    "doc_lengths_2023 = [doc['texto_length'] for doc in cong_docs_2023]\n",
    "\n",
    "# Calculate average length per document for each term\n",
    "avg_length_2003 = sum(doc_lengths_2003) / len(doc_lengths_2003)\n",
    "avg_length_2013 = sum(doc_lengths_2013) / len(doc_lengths_2013)\n",
    "avg_length_2023 = sum(doc_lengths_2023) / len(doc_lengths_2023)\n",
    "\n",
    "# Print average lengths\n",
    "print(f\"Average document length for 2003: {avg_length_2003:.2f}\")\n",
    "print(f\"Average document length for 2013: {avg_length_2013:.2f}\")\n",
    "print(f\"Average document length for 2023: {avg_length_2023:.2f}\")\n",
    "\n",
    "# Plot histogram\n",
    "plt.figure(figsize=(10, 6))\n",
    "plt.hist(doc_lengths_2003, bins=20, color='blue', alpha=0.5, label='2003')\n",
    "plt.hist(doc_lengths_2013, bins=20, color='green', alpha=0.5, label='2013')\n",
    "plt.hist(doc_lengths_2023, bins=20, color='red', alpha=0.5, label='2023')\n",
    "plt.xlabel(\"Document Length\")\n",
    "plt.ylabel(\"Frequency\")\n",
    "plt.title(\"Distribution of Document Lengths by Year\")\n",
    "plt.legend()\n",
    "plt.show()\n"
   ]
  },
  {
   "cell_type": "markdown",
   "metadata": {
    "id": "pNb7ybXw87hs"
   },
   "source": [
    "Now we have all the session diaries od el Congreso de los Diputados. As you can see ther's not much documents to work with, but they are all quite long so let's trust the process"
   ]
  },
  {
   "cell_type": "markdown",
   "metadata": {
    "id": "wVdESU_Z9L54"
   },
   "source": [
    "## Data analysis: key word anaysis"
   ]
  },
  {
   "cell_type": "markdown",
   "metadata": {
    "id": "PLap5vB1iJN-"
   },
   "source": [
    "### We will start by filtering the words we filtered on the 2023 example;\n",
    "- Masculino genérico: diputados, diputadas,los ciudadanos, las ciudadanas, la ciudadanía...\n",
    "- Violencia política por razon de genero: zorra, mujer, chavala, tonta,..."
   ]
  },
  {
   "cell_type": "markdown",
   "metadata": {
    "id": "xhfknYxcoGJg"
   },
   "source": [
    "This function returns the weighted sum of mentions of the term you want on each of the 3 years of study."
   ]
  },
  {
   "cell_type": "code",
   "execution_count": null,
   "metadata": {
    "colab": {
     "base_uri": "https://localhost:8080/"
    },
    "id": "gL89gVZaiI6Q",
    "outputId": "67846624-5c7d-4982-c367-f301066d4841"
   },
   "outputs": [
    {
     "name": "stdout",
     "output_type": "stream",
     "text": [
      "\n",
      "2003 mentions of 'los y las ciudadanas': 0.00000\n",
      "2013 mentions of 'los y las ciudadanas': 0.00000\n",
      "2023 mentions of 'los y las ciudadanas': 0.00667\n",
      "\n",
      "2003 mentions of 'los ciudadanos': 7.35625\n",
      "2013 mentions of 'los ciudadanos': 8.71341\n",
      "2023 mentions of 'los ciudadanos': 4.46667\n",
      "\n",
      "2003 mentions of 'las ciudadanas': 0.10312\n",
      "2013 mentions of 'las ciudadanas': 0.14329\n",
      "2023 mentions of 'las ciudadanas': 0.22000\n",
      "\n",
      "2003 mentions of 'las ciudadanas y los ciudadanos': 0.01875\n",
      "2013 mentions of 'las ciudadanas y los ciudadanos': 0.00915\n",
      "2023 mentions of 'las ciudadanas y los ciudadanos': 0.01333\n",
      "\n",
      "2003 mentions of 'los ciudadanos y las ciudadanas': 0.02187\n",
      "2013 mentions of 'los ciudadanos y las ciudadanas': 0.04268\n",
      "2023 mentions of 'los ciudadanos y las ciudadanas': 0.10000\n",
      "\n",
      "2003 mentions of 'la ciudadanía': 1.08438\n",
      "2013 mentions of 'la ciudadanía': 2.15244\n",
      "2023 mentions of 'la ciudadanía': 2.52000\n",
      "\n",
      "2003 mentions of 'zorra': 0.00000\n",
      "2013 mentions of 'zorra': 0.00000\n",
      "2023 mentions of 'zorra': 0.00000\n",
      "\n",
      "2003 mentions of 'tonta': 0.01562\n",
      "2013 mentions of 'tonta': 0.00000\n",
      "2023 mentions of 'tonta': 0.00667\n",
      "\n",
      "2003 mentions of 'chavala': 0.00000\n",
      "2013 mentions of 'chavala': 0.00000\n",
      "2023 mentions of 'chavala': 0.00667\n",
      "\n",
      "2003 mentions of 'mujer': 1.01250\n",
      "2013 mentions of 'mujer': 1.25915\n",
      "2023 mentions of 'mujer': 1.62000\n",
      "\n",
      "2003 mentions of 'hombre': 0.50625\n",
      "2013 mentions of 'hombre': 0.43598\n",
      "2023 mentions of 'hombre': 0.70667\n"
     ]
    }
   ],
   "source": [
    "def wordcount(word, list_docs):\n",
    "    count = []\n",
    "    for doc in list_docs:\n",
    "        mentions = c.mentions_per_doc(word, doc)  # Get mentions per document\n",
    "        avg_mentions = sum(mentions) / len(mentions)  # Calculate average for each term\n",
    "        count.append(avg_mentions)  # Append the average count for each year\n",
    "    return count\n",
    "\n",
    "\n",
    "list_docs = [cong_docs_2003, cong_docs_2013, cong_docs_2023]\n",
    "doc_names = [\"2003\", \"2013\", \"2023\"]\n",
    "words = [\"los y las ciudadanas\", \"los ciudadanos\", \"las ciudadanas\",\n",
    "         \"las ciudadanas y los ciudadanos\", \"los ciudadanos y las ciudadanas\",\n",
    "         \"la ciudadanía\", \"zorra\", \"tonta\", \"chavala\", \"mujer\", \"hombre\"]\n",
    "\n",
    "# Calculate and print weighted mentions per term, including document collection names\n",
    "for word in words:\n",
    "    weighted_counts = wordcount(word, list_docs)\n",
    "    print()\n",
    "    for doc_name, weighted_count in zip(doc_names, weighted_counts):\n",
    "        print(f\"{doc_name} mentions of '{word}': {weighted_count:.5f}\")\n",
    "\n"
   ]
  },
  {
   "cell_type": "markdown",
   "metadata": {
    "id": "QIFFDoz2oY78"
   },
   "source": [
    "Now that i know that for example word tonta was used on 2003 and 2023, i can focus my search to see what was the context on which this words where mentioned"
   ]
  },
  {
   "cell_type": "code",
   "execution_count": null,
   "metadata": {
    "colab": {
     "base_uri": "https://localhost:8080/",
     "height": 1000
    },
    "id": "-18RSRoJ8615",
    "outputId": "6429b517-bb11-41d2-c199-9859562f0a83"
   },
   "outputs": [
    {
     "data": {
      "application/vnd.google.colaboratory.intrinsic+json": {
       "summary": "{\n  \"name\": \"key_docs(\\\" mujer \\\", list_of_docs)\",\n  \"rows\": 95,\n  \"fields\": [\n    {\n      \"column\": \"pdf_url\",\n      \"properties\": {\n        \"dtype\": \"string\",\n        \"num_unique_values\": 95,\n        \"samples\": [\n          \"/public_oficiales/L7/CONG/DS/CO/CO_842.PDF\",\n          \"/public_oficiales/L7/CONG/DS/CO/CO_727.PDF\",\n          \"/public_oficiales/L7/CONG/DS/CO/CO_850.PDF\"\n        ],\n        \"semantic_type\": \"\",\n        \"description\": \"\"\n      }\n    },\n    {\n      \"column\": \"fecha\",\n      \"properties\": {\n        \"dtype\": \"object\",\n        \"num_unique_values\": 66,\n        \"samples\": [\n          \"20031110\",\n          \"20031209\",\n          \"20030123\"\n        ],\n        \"semantic_type\": \"\",\n        \"description\": \"\"\n      }\n    }\n  ]\n}",
       "type": "dataframe"
      },
      "text/html": [
       "\n",
       "  <div id=\"df-5b9e589c-0703-45f4-b2f0-96f624a64bbd\" class=\"colab-df-container\">\n",
       "    <div>\n",
       "<style scoped>\n",
       "    .dataframe tbody tr th:only-of-type {\n",
       "        vertical-align: middle;\n",
       "    }\n",
       "\n",
       "    .dataframe tbody tr th {\n",
       "        vertical-align: top;\n",
       "    }\n",
       "\n",
       "    .dataframe thead th {\n",
       "        text-align: right;\n",
       "    }\n",
       "</style>\n",
       "<table border=\"1\" class=\"dataframe\">\n",
       "  <thead>\n",
       "    <tr style=\"text-align: right;\">\n",
       "      <th></th>\n",
       "      <th>pdf_url</th>\n",
       "      <th>fecha</th>\n",
       "    </tr>\n",
       "  </thead>\n",
       "  <tbody>\n",
       "    <tr>\n",
       "      <th>0</th>\n",
       "      <td>/public_oficiales/L7/CONG/DS/CO/CO_675.PDF</td>\n",
       "      <td>20030123</td>\n",
       "    </tr>\n",
       "    <tr>\n",
       "      <th>1</th>\n",
       "      <td>/public_oficiales/L7/CONG/DS/PL/PL_221.PDF</td>\n",
       "      <td>20030204</td>\n",
       "    </tr>\n",
       "    <tr>\n",
       "      <th>2</th>\n",
       "      <td>/public_oficiales/L7/CONG/DS/PL/PL_222.PDF</td>\n",
       "      <td>20030205</td>\n",
       "    </tr>\n",
       "    <tr>\n",
       "      <th>3</th>\n",
       "      <td>/public_oficiales/L7/CONG/DS/PL/PL_223.PDF</td>\n",
       "      <td>20030206</td>\n",
       "    </tr>\n",
       "    <tr>\n",
       "      <th>4</th>\n",
       "      <td>/public_oficiales/L7/CONG/DS/CO/CO_682.PDF</td>\n",
       "      <td>20030206</td>\n",
       "    </tr>\n",
       "    <tr>\n",
       "      <th>...</th>\n",
       "      <td>...</td>\n",
       "      <td>...</td>\n",
       "    </tr>\n",
       "    <tr>\n",
       "      <th>90</th>\n",
       "      <td>/public_oficiales/L7/CONG/DS/PL/PL_303.PDF</td>\n",
       "      <td>20031210</td>\n",
       "    </tr>\n",
       "    <tr>\n",
       "      <th>91</th>\n",
       "      <td>/public_oficiales/L7/CONG/DS/CO/CO_888.PDF</td>\n",
       "      <td>20031210</td>\n",
       "    </tr>\n",
       "    <tr>\n",
       "      <th>92</th>\n",
       "      <td>/public_oficiales/L7/CONG/DS/CO/CO_893.PDF</td>\n",
       "      <td>20031216</td>\n",
       "    </tr>\n",
       "    <tr>\n",
       "      <th>93</th>\n",
       "      <td>/public_oficiales/L7/CONG/DS/CO/CO_901.PDF</td>\n",
       "      <td>20031217</td>\n",
       "    </tr>\n",
       "    <tr>\n",
       "      <th>94</th>\n",
       "      <td>/public_oficiales/L7/CONG/DS/PL/PL_306.PDF</td>\n",
       "      <td>20031217</td>\n",
       "    </tr>\n",
       "  </tbody>\n",
       "</table>\n",
       "<p>95 rows × 2 columns</p>\n",
       "</div>\n",
       "    <div class=\"colab-df-buttons\">\n",
       "\n",
       "  <div class=\"colab-df-container\">\n",
       "    <button class=\"colab-df-convert\" onclick=\"convertToInteractive('df-5b9e589c-0703-45f4-b2f0-96f624a64bbd')\"\n",
       "            title=\"Convert this dataframe to an interactive table.\"\n",
       "            style=\"display:none;\">\n",
       "\n",
       "  <svg xmlns=\"http://www.w3.org/2000/svg\" height=\"24px\" viewBox=\"0 -960 960 960\">\n",
       "    <path d=\"M120-120v-720h720v720H120Zm60-500h600v-160H180v160Zm220 220h160v-160H400v160Zm0 220h160v-160H400v160ZM180-400h160v-160H180v160Zm440 0h160v-160H620v160ZM180-180h160v-160H180v160Zm440 0h160v-160H620v160Z\"/>\n",
       "  </svg>\n",
       "    </button>\n",
       "\n",
       "  <style>\n",
       "    .colab-df-container {\n",
       "      display:flex;\n",
       "      gap: 12px;\n",
       "    }\n",
       "\n",
       "    .colab-df-convert {\n",
       "      background-color: #E8F0FE;\n",
       "      border: none;\n",
       "      border-radius: 50%;\n",
       "      cursor: pointer;\n",
       "      display: none;\n",
       "      fill: #1967D2;\n",
       "      height: 32px;\n",
       "      padding: 0 0 0 0;\n",
       "      width: 32px;\n",
       "    }\n",
       "\n",
       "    .colab-df-convert:hover {\n",
       "      background-color: #E2EBFA;\n",
       "      box-shadow: 0px 1px 2px rgba(60, 64, 67, 0.3), 0px 1px 3px 1px rgba(60, 64, 67, 0.15);\n",
       "      fill: #174EA6;\n",
       "    }\n",
       "\n",
       "    .colab-df-buttons div {\n",
       "      margin-bottom: 4px;\n",
       "    }\n",
       "\n",
       "    [theme=dark] .colab-df-convert {\n",
       "      background-color: #3B4455;\n",
       "      fill: #D2E3FC;\n",
       "    }\n",
       "\n",
       "    [theme=dark] .colab-df-convert:hover {\n",
       "      background-color: #434B5C;\n",
       "      box-shadow: 0px 1px 3px 1px rgba(0, 0, 0, 0.15);\n",
       "      filter: drop-shadow(0px 1px 2px rgba(0, 0, 0, 0.3));\n",
       "      fill: #FFFFFF;\n",
       "    }\n",
       "  </style>\n",
       "\n",
       "    <script>\n",
       "      const buttonEl =\n",
       "        document.querySelector('#df-5b9e589c-0703-45f4-b2f0-96f624a64bbd button.colab-df-convert');\n",
       "      buttonEl.style.display =\n",
       "        google.colab.kernel.accessAllowed ? 'block' : 'none';\n",
       "\n",
       "      async function convertToInteractive(key) {\n",
       "        const element = document.querySelector('#df-5b9e589c-0703-45f4-b2f0-96f624a64bbd');\n",
       "        const dataTable =\n",
       "          await google.colab.kernel.invokeFunction('convertToInteractive',\n",
       "                                                    [key], {});\n",
       "        if (!dataTable) return;\n",
       "\n",
       "        const docLinkHtml = 'Like what you see? Visit the ' +\n",
       "          '<a target=\"_blank\" href=https://colab.research.google.com/notebooks/data_table.ipynb>data table notebook</a>'\n",
       "          + ' to learn more about interactive tables.';\n",
       "        element.innerHTML = '';\n",
       "        dataTable['output_type'] = 'display_data';\n",
       "        await google.colab.output.renderOutput(dataTable, element);\n",
       "        const docLink = document.createElement('div');\n",
       "        docLink.innerHTML = docLinkHtml;\n",
       "        element.appendChild(docLink);\n",
       "      }\n",
       "    </script>\n",
       "  </div>\n",
       "\n",
       "\n",
       "<div id=\"df-f7105919-042e-4925-a588-eb423a2beb76\">\n",
       "  <button class=\"colab-df-quickchart\" onclick=\"quickchart('df-f7105919-042e-4925-a588-eb423a2beb76')\"\n",
       "            title=\"Suggest charts\"\n",
       "            style=\"display:none;\">\n",
       "\n",
       "<svg xmlns=\"http://www.w3.org/2000/svg\" height=\"24px\"viewBox=\"0 0 24 24\"\n",
       "     width=\"24px\">\n",
       "    <g>\n",
       "        <path d=\"M19 3H5c-1.1 0-2 .9-2 2v14c0 1.1.9 2 2 2h14c1.1 0 2-.9 2-2V5c0-1.1-.9-2-2-2zM9 17H7v-7h2v7zm4 0h-2V7h2v10zm4 0h-2v-4h2v4z\"/>\n",
       "    </g>\n",
       "</svg>\n",
       "  </button>\n",
       "\n",
       "<style>\n",
       "  .colab-df-quickchart {\n",
       "      --bg-color: #E8F0FE;\n",
       "      --fill-color: #1967D2;\n",
       "      --hover-bg-color: #E2EBFA;\n",
       "      --hover-fill-color: #174EA6;\n",
       "      --disabled-fill-color: #AAA;\n",
       "      --disabled-bg-color: #DDD;\n",
       "  }\n",
       "\n",
       "  [theme=dark] .colab-df-quickchart {\n",
       "      --bg-color: #3B4455;\n",
       "      --fill-color: #D2E3FC;\n",
       "      --hover-bg-color: #434B5C;\n",
       "      --hover-fill-color: #FFFFFF;\n",
       "      --disabled-bg-color: #3B4455;\n",
       "      --disabled-fill-color: #666;\n",
       "  }\n",
       "\n",
       "  .colab-df-quickchart {\n",
       "    background-color: var(--bg-color);\n",
       "    border: none;\n",
       "    border-radius: 50%;\n",
       "    cursor: pointer;\n",
       "    display: none;\n",
       "    fill: var(--fill-color);\n",
       "    height: 32px;\n",
       "    padding: 0;\n",
       "    width: 32px;\n",
       "  }\n",
       "\n",
       "  .colab-df-quickchart:hover {\n",
       "    background-color: var(--hover-bg-color);\n",
       "    box-shadow: 0 1px 2px rgba(60, 64, 67, 0.3), 0 1px 3px 1px rgba(60, 64, 67, 0.15);\n",
       "    fill: var(--button-hover-fill-color);\n",
       "  }\n",
       "\n",
       "  .colab-df-quickchart-complete:disabled,\n",
       "  .colab-df-quickchart-complete:disabled:hover {\n",
       "    background-color: var(--disabled-bg-color);\n",
       "    fill: var(--disabled-fill-color);\n",
       "    box-shadow: none;\n",
       "  }\n",
       "\n",
       "  .colab-df-spinner {\n",
       "    border: 2px solid var(--fill-color);\n",
       "    border-color: transparent;\n",
       "    border-bottom-color: var(--fill-color);\n",
       "    animation:\n",
       "      spin 1s steps(1) infinite;\n",
       "  }\n",
       "\n",
       "  @keyframes spin {\n",
       "    0% {\n",
       "      border-color: transparent;\n",
       "      border-bottom-color: var(--fill-color);\n",
       "      border-left-color: var(--fill-color);\n",
       "    }\n",
       "    20% {\n",
       "      border-color: transparent;\n",
       "      border-left-color: var(--fill-color);\n",
       "      border-top-color: var(--fill-color);\n",
       "    }\n",
       "    30% {\n",
       "      border-color: transparent;\n",
       "      border-left-color: var(--fill-color);\n",
       "      border-top-color: var(--fill-color);\n",
       "      border-right-color: var(--fill-color);\n",
       "    }\n",
       "    40% {\n",
       "      border-color: transparent;\n",
       "      border-right-color: var(--fill-color);\n",
       "      border-top-color: var(--fill-color);\n",
       "    }\n",
       "    60% {\n",
       "      border-color: transparent;\n",
       "      border-right-color: var(--fill-color);\n",
       "    }\n",
       "    80% {\n",
       "      border-color: transparent;\n",
       "      border-right-color: var(--fill-color);\n",
       "      border-bottom-color: var(--fill-color);\n",
       "    }\n",
       "    90% {\n",
       "      border-color: transparent;\n",
       "      border-bottom-color: var(--fill-color);\n",
       "    }\n",
       "  }\n",
       "</style>\n",
       "\n",
       "  <script>\n",
       "    async function quickchart(key) {\n",
       "      const quickchartButtonEl =\n",
       "        document.querySelector('#' + key + ' button');\n",
       "      quickchartButtonEl.disabled = true;  // To prevent multiple clicks.\n",
       "      quickchartButtonEl.classList.add('colab-df-spinner');\n",
       "      try {\n",
       "        const charts = await google.colab.kernel.invokeFunction(\n",
       "            'suggestCharts', [key], {});\n",
       "      } catch (error) {\n",
       "        console.error('Error during call to suggestCharts:', error);\n",
       "      }\n",
       "      quickchartButtonEl.classList.remove('colab-df-spinner');\n",
       "      quickchartButtonEl.classList.add('colab-df-quickchart-complete');\n",
       "    }\n",
       "    (() => {\n",
       "      let quickchartButtonEl =\n",
       "        document.querySelector('#df-f7105919-042e-4925-a588-eb423a2beb76 button');\n",
       "      quickchartButtonEl.style.display =\n",
       "        google.colab.kernel.accessAllowed ? 'block' : 'none';\n",
       "    })();\n",
       "  </script>\n",
       "</div>\n",
       "\n",
       "    </div>\n",
       "  </div>\n"
      ],
      "text/plain": [
       "                                       pdf_url     fecha\n",
       "0   /public_oficiales/L7/CONG/DS/CO/CO_675.PDF  20030123\n",
       "1   /public_oficiales/L7/CONG/DS/PL/PL_221.PDF  20030204\n",
       "2   /public_oficiales/L7/CONG/DS/PL/PL_222.PDF  20030205\n",
       "3   /public_oficiales/L7/CONG/DS/PL/PL_223.PDF  20030206\n",
       "4   /public_oficiales/L7/CONG/DS/CO/CO_682.PDF  20030206\n",
       "..                                         ...       ...\n",
       "90  /public_oficiales/L7/CONG/DS/PL/PL_303.PDF  20031210\n",
       "91  /public_oficiales/L7/CONG/DS/CO/CO_888.PDF  20031210\n",
       "92  /public_oficiales/L7/CONG/DS/CO/CO_893.PDF  20031216\n",
       "93  /public_oficiales/L7/CONG/DS/CO/CO_901.PDF  20031217\n",
       "94  /public_oficiales/L7/CONG/DS/PL/PL_306.PDF  20031217\n",
       "\n",
       "[95 rows x 2 columns]"
      ]
     },
     "metadata": {},
     "output_type": "display_data"
    },
    {
     "name": "stdout",
     "output_type": "stream",
     "text": [
      "/public_oficiales/L7/CONG/DS/CO/CO_675.PDF\n"
     ]
    },
    {
     "data": {
      "application/vnd.google.colaboratory.intrinsic+json": {
       "summary": "{\n  \"name\": \"key_docs(\\\" mujer \\\", list_of_docs)\",\n  \"rows\": 99,\n  \"fields\": [\n    {\n      \"column\": \"pdf_url\",\n      \"properties\": {\n        \"dtype\": \"string\",\n        \"num_unique_values\": 99,\n        \"samples\": [\n          \"/public_oficiales/L10/CONG/DS/CO/DSCD-10-CO-413.PDF\",\n          \"/public_oficiales/L10/CONG/DS/CO/DSCD-10-CO-363.PDF\",\n          \"/public_oficiales/L10/CONG/DS/PL/DSCD-10-PL-165.PDF\"\n        ],\n        \"semantic_type\": \"\",\n        \"description\": \"\"\n      }\n    },\n    {\n      \"column\": \"fecha\",\n      \"properties\": {\n        \"dtype\": \"object\",\n        \"num_unique_values\": 65,\n        \"samples\": [\n          \"20131106\",\n          \"20131128\",\n          \"20130122\"\n        ],\n        \"semantic_type\": \"\",\n        \"description\": \"\"\n      }\n    }\n  ]\n}",
       "type": "dataframe"
      },
      "text/html": [
       "\n",
       "  <div id=\"df-863203ed-9269-4029-81aa-fc81469e4280\" class=\"colab-df-container\">\n",
       "    <div>\n",
       "<style scoped>\n",
       "    .dataframe tbody tr th:only-of-type {\n",
       "        vertical-align: middle;\n",
       "    }\n",
       "\n",
       "    .dataframe tbody tr th {\n",
       "        vertical-align: top;\n",
       "    }\n",
       "\n",
       "    .dataframe thead th {\n",
       "        text-align: right;\n",
       "    }\n",
       "</style>\n",
       "<table border=\"1\" class=\"dataframe\">\n",
       "  <thead>\n",
       "    <tr style=\"text-align: right;\">\n",
       "      <th></th>\n",
       "      <th>pdf_url</th>\n",
       "      <th>fecha</th>\n",
       "    </tr>\n",
       "  </thead>\n",
       "  <tbody>\n",
       "    <tr>\n",
       "      <th>0</th>\n",
       "      <td>/public_oficiales/L10/CONG/DS/PL/DSCD-10-PL-85...</td>\n",
       "      <td>20130122</td>\n",
       "    </tr>\n",
       "    <tr>\n",
       "      <th>1</th>\n",
       "      <td>/public_oficiales/L10/CONG/DS/PL/DSCD-10-PL-87...</td>\n",
       "      <td>20130130</td>\n",
       "    </tr>\n",
       "    <tr>\n",
       "      <th>2</th>\n",
       "      <td>/public_oficiales/L10/CONG/DS/CO/DSCD-10-CO-24...</td>\n",
       "      <td>20130130</td>\n",
       "    </tr>\n",
       "    <tr>\n",
       "      <th>3</th>\n",
       "      <td>/public_oficiales/L10/CONG/DS/PL/DSCD-10-PL-89...</td>\n",
       "      <td>20130213</td>\n",
       "    </tr>\n",
       "    <tr>\n",
       "      <th>4</th>\n",
       "      <td>/public_oficiales/L10/CONG/DS/CO/DSCD-10-CO-26...</td>\n",
       "      <td>20130226</td>\n",
       "    </tr>\n",
       "    <tr>\n",
       "      <th>...</th>\n",
       "      <td>...</td>\n",
       "      <td>...</td>\n",
       "    </tr>\n",
       "    <tr>\n",
       "      <th>94</th>\n",
       "      <td>/public_oficiales/L10/CONG/DS/CO/DSCD-10-CO-48...</td>\n",
       "      <td>20131211</td>\n",
       "    </tr>\n",
       "    <tr>\n",
       "      <th>95</th>\n",
       "      <td>/public_oficiales/L10/CONG/DS/PL/DSCD-10-PL-16...</td>\n",
       "      <td>20131212</td>\n",
       "    </tr>\n",
       "    <tr>\n",
       "      <th>96</th>\n",
       "      <td>/public_oficiales/L10/CONG/DS/PL/DSCD-10-PL-16...</td>\n",
       "      <td>20131218</td>\n",
       "    </tr>\n",
       "    <tr>\n",
       "      <th>97</th>\n",
       "      <td>/public_oficiales/L10/CONG/DS/CO/DSCD-10-CO-48...</td>\n",
       "      <td>20131218</td>\n",
       "    </tr>\n",
       "    <tr>\n",
       "      <th>98</th>\n",
       "      <td>/public_oficiales/L10/CONG/DS/PL/DSCD-10-PL-16...</td>\n",
       "      <td>20131219</td>\n",
       "    </tr>\n",
       "  </tbody>\n",
       "</table>\n",
       "<p>99 rows × 2 columns</p>\n",
       "</div>\n",
       "    <div class=\"colab-df-buttons\">\n",
       "\n",
       "  <div class=\"colab-df-container\">\n",
       "    <button class=\"colab-df-convert\" onclick=\"convertToInteractive('df-863203ed-9269-4029-81aa-fc81469e4280')\"\n",
       "            title=\"Convert this dataframe to an interactive table.\"\n",
       "            style=\"display:none;\">\n",
       "\n",
       "  <svg xmlns=\"http://www.w3.org/2000/svg\" height=\"24px\" viewBox=\"0 -960 960 960\">\n",
       "    <path d=\"M120-120v-720h720v720H120Zm60-500h600v-160H180v160Zm220 220h160v-160H400v160Zm0 220h160v-160H400v160ZM180-400h160v-160H180v160Zm440 0h160v-160H620v160ZM180-180h160v-160H180v160Zm440 0h160v-160H620v160Z\"/>\n",
       "  </svg>\n",
       "    </button>\n",
       "\n",
       "  <style>\n",
       "    .colab-df-container {\n",
       "      display:flex;\n",
       "      gap: 12px;\n",
       "    }\n",
       "\n",
       "    .colab-df-convert {\n",
       "      background-color: #E8F0FE;\n",
       "      border: none;\n",
       "      border-radius: 50%;\n",
       "      cursor: pointer;\n",
       "      display: none;\n",
       "      fill: #1967D2;\n",
       "      height: 32px;\n",
       "      padding: 0 0 0 0;\n",
       "      width: 32px;\n",
       "    }\n",
       "\n",
       "    .colab-df-convert:hover {\n",
       "      background-color: #E2EBFA;\n",
       "      box-shadow: 0px 1px 2px rgba(60, 64, 67, 0.3), 0px 1px 3px 1px rgba(60, 64, 67, 0.15);\n",
       "      fill: #174EA6;\n",
       "    }\n",
       "\n",
       "    .colab-df-buttons div {\n",
       "      margin-bottom: 4px;\n",
       "    }\n",
       "\n",
       "    [theme=dark] .colab-df-convert {\n",
       "      background-color: #3B4455;\n",
       "      fill: #D2E3FC;\n",
       "    }\n",
       "\n",
       "    [theme=dark] .colab-df-convert:hover {\n",
       "      background-color: #434B5C;\n",
       "      box-shadow: 0px 1px 3px 1px rgba(0, 0, 0, 0.15);\n",
       "      filter: drop-shadow(0px 1px 2px rgba(0, 0, 0, 0.3));\n",
       "      fill: #FFFFFF;\n",
       "    }\n",
       "  </style>\n",
       "\n",
       "    <script>\n",
       "      const buttonEl =\n",
       "        document.querySelector('#df-863203ed-9269-4029-81aa-fc81469e4280 button.colab-df-convert');\n",
       "      buttonEl.style.display =\n",
       "        google.colab.kernel.accessAllowed ? 'block' : 'none';\n",
       "\n",
       "      async function convertToInteractive(key) {\n",
       "        const element = document.querySelector('#df-863203ed-9269-4029-81aa-fc81469e4280');\n",
       "        const dataTable =\n",
       "          await google.colab.kernel.invokeFunction('convertToInteractive',\n",
       "                                                    [key], {});\n",
       "        if (!dataTable) return;\n",
       "\n",
       "        const docLinkHtml = 'Like what you see? Visit the ' +\n",
       "          '<a target=\"_blank\" href=https://colab.research.google.com/notebooks/data_table.ipynb>data table notebook</a>'\n",
       "          + ' to learn more about interactive tables.';\n",
       "        element.innerHTML = '';\n",
       "        dataTable['output_type'] = 'display_data';\n",
       "        await google.colab.output.renderOutput(dataTable, element);\n",
       "        const docLink = document.createElement('div');\n",
       "        docLink.innerHTML = docLinkHtml;\n",
       "        element.appendChild(docLink);\n",
       "      }\n",
       "    </script>\n",
       "  </div>\n",
       "\n",
       "\n",
       "<div id=\"df-816b627b-9fab-4d1c-ae05-017faec79b8b\">\n",
       "  <button class=\"colab-df-quickchart\" onclick=\"quickchart('df-816b627b-9fab-4d1c-ae05-017faec79b8b')\"\n",
       "            title=\"Suggest charts\"\n",
       "            style=\"display:none;\">\n",
       "\n",
       "<svg xmlns=\"http://www.w3.org/2000/svg\" height=\"24px\"viewBox=\"0 0 24 24\"\n",
       "     width=\"24px\">\n",
       "    <g>\n",
       "        <path d=\"M19 3H5c-1.1 0-2 .9-2 2v14c0 1.1.9 2 2 2h14c1.1 0 2-.9 2-2V5c0-1.1-.9-2-2-2zM9 17H7v-7h2v7zm4 0h-2V7h2v10zm4 0h-2v-4h2v4z\"/>\n",
       "    </g>\n",
       "</svg>\n",
       "  </button>\n",
       "\n",
       "<style>\n",
       "  .colab-df-quickchart {\n",
       "      --bg-color: #E8F0FE;\n",
       "      --fill-color: #1967D2;\n",
       "      --hover-bg-color: #E2EBFA;\n",
       "      --hover-fill-color: #174EA6;\n",
       "      --disabled-fill-color: #AAA;\n",
       "      --disabled-bg-color: #DDD;\n",
       "  }\n",
       "\n",
       "  [theme=dark] .colab-df-quickchart {\n",
       "      --bg-color: #3B4455;\n",
       "      --fill-color: #D2E3FC;\n",
       "      --hover-bg-color: #434B5C;\n",
       "      --hover-fill-color: #FFFFFF;\n",
       "      --disabled-bg-color: #3B4455;\n",
       "      --disabled-fill-color: #666;\n",
       "  }\n",
       "\n",
       "  .colab-df-quickchart {\n",
       "    background-color: var(--bg-color);\n",
       "    border: none;\n",
       "    border-radius: 50%;\n",
       "    cursor: pointer;\n",
       "    display: none;\n",
       "    fill: var(--fill-color);\n",
       "    height: 32px;\n",
       "    padding: 0;\n",
       "    width: 32px;\n",
       "  }\n",
       "\n",
       "  .colab-df-quickchart:hover {\n",
       "    background-color: var(--hover-bg-color);\n",
       "    box-shadow: 0 1px 2px rgba(60, 64, 67, 0.3), 0 1px 3px 1px rgba(60, 64, 67, 0.15);\n",
       "    fill: var(--button-hover-fill-color);\n",
       "  }\n",
       "\n",
       "  .colab-df-quickchart-complete:disabled,\n",
       "  .colab-df-quickchart-complete:disabled:hover {\n",
       "    background-color: var(--disabled-bg-color);\n",
       "    fill: var(--disabled-fill-color);\n",
       "    box-shadow: none;\n",
       "  }\n",
       "\n",
       "  .colab-df-spinner {\n",
       "    border: 2px solid var(--fill-color);\n",
       "    border-color: transparent;\n",
       "    border-bottom-color: var(--fill-color);\n",
       "    animation:\n",
       "      spin 1s steps(1) infinite;\n",
       "  }\n",
       "\n",
       "  @keyframes spin {\n",
       "    0% {\n",
       "      border-color: transparent;\n",
       "      border-bottom-color: var(--fill-color);\n",
       "      border-left-color: var(--fill-color);\n",
       "    }\n",
       "    20% {\n",
       "      border-color: transparent;\n",
       "      border-left-color: var(--fill-color);\n",
       "      border-top-color: var(--fill-color);\n",
       "    }\n",
       "    30% {\n",
       "      border-color: transparent;\n",
       "      border-left-color: var(--fill-color);\n",
       "      border-top-color: var(--fill-color);\n",
       "      border-right-color: var(--fill-color);\n",
       "    }\n",
       "    40% {\n",
       "      border-color: transparent;\n",
       "      border-right-color: var(--fill-color);\n",
       "      border-top-color: var(--fill-color);\n",
       "    }\n",
       "    60% {\n",
       "      border-color: transparent;\n",
       "      border-right-color: var(--fill-color);\n",
       "    }\n",
       "    80% {\n",
       "      border-color: transparent;\n",
       "      border-right-color: var(--fill-color);\n",
       "      border-bottom-color: var(--fill-color);\n",
       "    }\n",
       "    90% {\n",
       "      border-color: transparent;\n",
       "      border-bottom-color: var(--fill-color);\n",
       "    }\n",
       "  }\n",
       "</style>\n",
       "\n",
       "  <script>\n",
       "    async function quickchart(key) {\n",
       "      const quickchartButtonEl =\n",
       "        document.querySelector('#' + key + ' button');\n",
       "      quickchartButtonEl.disabled = true;  // To prevent multiple clicks.\n",
       "      quickchartButtonEl.classList.add('colab-df-spinner');\n",
       "      try {\n",
       "        const charts = await google.colab.kernel.invokeFunction(\n",
       "            'suggestCharts', [key], {});\n",
       "      } catch (error) {\n",
       "        console.error('Error during call to suggestCharts:', error);\n",
       "      }\n",
       "      quickchartButtonEl.classList.remove('colab-df-spinner');\n",
       "      quickchartButtonEl.classList.add('colab-df-quickchart-complete');\n",
       "    }\n",
       "    (() => {\n",
       "      let quickchartButtonEl =\n",
       "        document.querySelector('#df-816b627b-9fab-4d1c-ae05-017faec79b8b button');\n",
       "      quickchartButtonEl.style.display =\n",
       "        google.colab.kernel.accessAllowed ? 'block' : 'none';\n",
       "    })();\n",
       "  </script>\n",
       "</div>\n",
       "\n",
       "    </div>\n",
       "  </div>\n"
      ],
      "text/plain": [
       "                                              pdf_url     fecha\n",
       "0   /public_oficiales/L10/CONG/DS/PL/DSCD-10-PL-85...  20130122\n",
       "1   /public_oficiales/L10/CONG/DS/PL/DSCD-10-PL-87...  20130130\n",
       "2   /public_oficiales/L10/CONG/DS/CO/DSCD-10-CO-24...  20130130\n",
       "3   /public_oficiales/L10/CONG/DS/PL/DSCD-10-PL-89...  20130213\n",
       "4   /public_oficiales/L10/CONG/DS/CO/DSCD-10-CO-26...  20130226\n",
       "..                                                ...       ...\n",
       "94  /public_oficiales/L10/CONG/DS/CO/DSCD-10-CO-48...  20131211\n",
       "95  /public_oficiales/L10/CONG/DS/PL/DSCD-10-PL-16...  20131212\n",
       "96  /public_oficiales/L10/CONG/DS/PL/DSCD-10-PL-16...  20131218\n",
       "97  /public_oficiales/L10/CONG/DS/CO/DSCD-10-CO-48...  20131218\n",
       "98  /public_oficiales/L10/CONG/DS/PL/DSCD-10-PL-16...  20131219\n",
       "\n",
       "[99 rows x 2 columns]"
      ]
     },
     "metadata": {},
     "output_type": "display_data"
    },
    {
     "name": "stdout",
     "output_type": "stream",
     "text": [
      "/public_oficiales/L10/CONG/DS/PL/DSCD-10-PL-85.PDF\n"
     ]
    },
    {
     "data": {
      "application/vnd.google.colaboratory.intrinsic+json": {
       "summary": "{\n  \"name\": \"key_docs(\\\" mujer \\\", list_of_docs)\",\n  \"rows\": 51,\n  \"fields\": [\n    {\n      \"column\": \"pdf_url\",\n      \"properties\": {\n        \"dtype\": \"string\",\n        \"num_unique_values\": 51,\n        \"samples\": [\n          \"/public_oficiales/L15/CONG/DS/PL/DSCD-15-PL-3.PDF\",\n          \"/public_oficiales/L14/CONG/DS/PL/DSCD-14-PL-270.PDF\",\n          \"/public_oficiales/L15/CONG/DS/PL/DSCD-15-PL-12.PDF\"\n        ],\n        \"semantic_type\": \"\",\n        \"description\": \"\"\n      }\n    },\n    {\n      \"column\": \"fecha\",\n      \"properties\": {\n        \"dtype\": \"object\",\n        \"num_unique_values\": 40,\n        \"samples\": [\n          \"20230328\",\n          \"20230322\",\n          \"20230321\"\n        ],\n        \"semantic_type\": \"\",\n        \"description\": \"\"\n      }\n    }\n  ]\n}",
       "type": "dataframe"
      },
      "text/html": [
       "\n",
       "  <div id=\"df-8eb6e416-1187-4b29-baf6-8b9538d9bfa0\" class=\"colab-df-container\">\n",
       "    <div>\n",
       "<style scoped>\n",
       "    .dataframe tbody tr th:only-of-type {\n",
       "        vertical-align: middle;\n",
       "    }\n",
       "\n",
       "    .dataframe tbody tr th {\n",
       "        vertical-align: top;\n",
       "    }\n",
       "\n",
       "    .dataframe thead th {\n",
       "        text-align: right;\n",
       "    }\n",
       "</style>\n",
       "<table border=\"1\" class=\"dataframe\">\n",
       "  <thead>\n",
       "    <tr style=\"text-align: right;\">\n",
       "      <th></th>\n",
       "      <th>pdf_url</th>\n",
       "      <th>fecha</th>\n",
       "    </tr>\n",
       "  </thead>\n",
       "  <tbody>\n",
       "    <tr>\n",
       "      <th>0</th>\n",
       "      <td>/public_oficiales/L14/CONG/DS/PL/DSCD-14-PL-23...</td>\n",
       "      <td>20230123</td>\n",
       "    </tr>\n",
       "    <tr>\n",
       "      <th>1</th>\n",
       "      <td>/public_oficiales/L14/CONG/DS/PL/DSCD-14-PL-23...</td>\n",
       "      <td>20230124</td>\n",
       "    </tr>\n",
       "    <tr>\n",
       "      <th>2</th>\n",
       "      <td>/public_oficiales/L14/CONG/DS/CO/DSCD-14-CO-83...</td>\n",
       "      <td>20230207</td>\n",
       "    </tr>\n",
       "    <tr>\n",
       "      <th>3</th>\n",
       "      <td>/public_oficiales/L14/CONG/DS/PL/DSCD-14-PL-24...</td>\n",
       "      <td>20230207</td>\n",
       "    </tr>\n",
       "    <tr>\n",
       "      <th>4</th>\n",
       "      <td>/public_oficiales/L14/CONG/DS/PL/DSCD-14-PL-24...</td>\n",
       "      <td>20230209</td>\n",
       "    </tr>\n",
       "    <tr>\n",
       "      <th>5</th>\n",
       "      <td>/public_oficiales/L14/CONG/DS/CO/DSCD-14-CO-84...</td>\n",
       "      <td>20230208</td>\n",
       "    </tr>\n",
       "    <tr>\n",
       "      <th>6</th>\n",
       "      <td>/public_oficiales/L14/CONG/DS/PL/DSCD-14-PL-24...</td>\n",
       "      <td>20230215</td>\n",
       "    </tr>\n",
       "    <tr>\n",
       "      <th>7</th>\n",
       "      <td>/public_oficiales/L14/CONG/DS/CO/DSCD-14-CO-84...</td>\n",
       "      <td>20230215</td>\n",
       "    </tr>\n",
       "    <tr>\n",
       "      <th>8</th>\n",
       "      <td>/public_oficiales/L14/CONG/DS/CO/DSCD-14-CO-84...</td>\n",
       "      <td>20230214</td>\n",
       "    </tr>\n",
       "    <tr>\n",
       "      <th>9</th>\n",
       "      <td>/public_oficiales/L14/CONG/DS/CO/DSCD-14-CO-84...</td>\n",
       "      <td>20230215</td>\n",
       "    </tr>\n",
       "    <tr>\n",
       "      <th>10</th>\n",
       "      <td>/public_oficiales/L14/CONG/DS/CO/DSCD-14-CO-84...</td>\n",
       "      <td>20230216</td>\n",
       "    </tr>\n",
       "    <tr>\n",
       "      <th>11</th>\n",
       "      <td>/public_oficiales/L14/CONG/DS/PL/DSCD-14-PL-24...</td>\n",
       "      <td>20230216</td>\n",
       "    </tr>\n",
       "    <tr>\n",
       "      <th>12</th>\n",
       "      <td>/public_oficiales/L14/CONG/DS/PL/DSCD-14-PL-24...</td>\n",
       "      <td>20230221</td>\n",
       "    </tr>\n",
       "    <tr>\n",
       "      <th>13</th>\n",
       "      <td>/public_oficiales/L14/CONG/DS/CO/DSCD-14-CO-85...</td>\n",
       "      <td>20230222</td>\n",
       "    </tr>\n",
       "    <tr>\n",
       "      <th>14</th>\n",
       "      <td>/public_oficiales/L14/CONG/DS/PL/DSCD-14-PL-24...</td>\n",
       "      <td>20230222</td>\n",
       "    </tr>\n",
       "    <tr>\n",
       "      <th>15</th>\n",
       "      <td>/public_oficiales/L14/CONG/DS/PL/DSCD-14-PL-25...</td>\n",
       "      <td>20230308</td>\n",
       "    </tr>\n",
       "    <tr>\n",
       "      <th>16</th>\n",
       "      <td>/public_oficiales/L14/CONG/DS/CO/DSCD-14-CO-86...</td>\n",
       "      <td>20230307</td>\n",
       "    </tr>\n",
       "    <tr>\n",
       "      <th>17</th>\n",
       "      <td>/public_oficiales/L14/CONG/DS/PL/DSCD-14-PL-24...</td>\n",
       "      <td>20230307</td>\n",
       "    </tr>\n",
       "    <tr>\n",
       "      <th>18</th>\n",
       "      <td>/public_oficiales/L14/CONG/DS/PL/DSCD-14-PL-25...</td>\n",
       "      <td>20230314</td>\n",
       "    </tr>\n",
       "    <tr>\n",
       "      <th>19</th>\n",
       "      <td>/public_oficiales/L14/CONG/DS/CO/DSCD-14-CO-86...</td>\n",
       "      <td>20230315</td>\n",
       "    </tr>\n",
       "    <tr>\n",
       "      <th>20</th>\n",
       "      <td>/public_oficiales/L14/CONG/DS/PL/DSCD-14-PL-25...</td>\n",
       "      <td>20230315</td>\n",
       "    </tr>\n",
       "    <tr>\n",
       "      <th>21</th>\n",
       "      <td>/public_oficiales/L14/CONG/DS/PL/DSCD-14-PL-25...</td>\n",
       "      <td>20230316</td>\n",
       "    </tr>\n",
       "    <tr>\n",
       "      <th>22</th>\n",
       "      <td>/public_oficiales/L14/CONG/DS/CO/DSCD-14-CO-86...</td>\n",
       "      <td>20230316</td>\n",
       "    </tr>\n",
       "    <tr>\n",
       "      <th>23</th>\n",
       "      <td>/public_oficiales/L14/CONG/DS/PL/DSCD-14-PL-25...</td>\n",
       "      <td>20230321</td>\n",
       "    </tr>\n",
       "    <tr>\n",
       "      <th>24</th>\n",
       "      <td>/public_oficiales/L14/CONG/DS/CO/DSCD-14-CO-87...</td>\n",
       "      <td>20230322</td>\n",
       "    </tr>\n",
       "    <tr>\n",
       "      <th>25</th>\n",
       "      <td>/public_oficiales/L14/CONG/DS/PL/DSCD-14-PL-25...</td>\n",
       "      <td>20230322</td>\n",
       "    </tr>\n",
       "    <tr>\n",
       "      <th>26</th>\n",
       "      <td>/public_oficiales/L14/CONG/DS/CO/DSCD-14-CO-87...</td>\n",
       "      <td>20230327</td>\n",
       "    </tr>\n",
       "    <tr>\n",
       "      <th>27</th>\n",
       "      <td>/public_oficiales/L14/CONG/DS/PL/DSCD-14-PL-25...</td>\n",
       "      <td>20230329</td>\n",
       "    </tr>\n",
       "    <tr>\n",
       "      <th>28</th>\n",
       "      <td>/public_oficiales/L14/CONG/DS/PL/DSCD-14-PL-25...</td>\n",
       "      <td>20230328</td>\n",
       "    </tr>\n",
       "    <tr>\n",
       "      <th>29</th>\n",
       "      <td>/public_oficiales/L14/CONG/DS/CO/DSCD-14-CO-88...</td>\n",
       "      <td>20230330</td>\n",
       "    </tr>\n",
       "    <tr>\n",
       "      <th>30</th>\n",
       "      <td>/public_oficiales/L14/CONG/DS/PL/DSCD-14-PL-26...</td>\n",
       "      <td>20230419</td>\n",
       "    </tr>\n",
       "    <tr>\n",
       "      <th>31</th>\n",
       "      <td>/public_oficiales/L14/CONG/DS/CO/DSCD-14-CO-88...</td>\n",
       "      <td>20230418</td>\n",
       "    </tr>\n",
       "    <tr>\n",
       "      <th>32</th>\n",
       "      <td>/public_oficiales/L14/CONG/DS/PL/DSCD-14-PL-26...</td>\n",
       "      <td>20230420</td>\n",
       "    </tr>\n",
       "    <tr>\n",
       "      <th>33</th>\n",
       "      <td>/public_oficiales/L14/CONG/DS/CO/DSCD-14-CO-88...</td>\n",
       "      <td>20230418</td>\n",
       "    </tr>\n",
       "    <tr>\n",
       "      <th>34</th>\n",
       "      <td>/public_oficiales/L14/CONG/DS/PL/DSCD-14-PL-26...</td>\n",
       "      <td>20230425</td>\n",
       "    </tr>\n",
       "    <tr>\n",
       "      <th>35</th>\n",
       "      <td>/public_oficiales/L14/CONG/DS/PL/DSCD-14-PL-26...</td>\n",
       "      <td>20230426</td>\n",
       "    </tr>\n",
       "    <tr>\n",
       "      <th>36</th>\n",
       "      <td>/public_oficiales/L14/CONG/DS/CO/DSCD-14-CO-89...</td>\n",
       "      <td>20230509</td>\n",
       "    </tr>\n",
       "    <tr>\n",
       "      <th>37</th>\n",
       "      <td>/public_oficiales/L14/CONG/DS/CO/DSCD-14-CO-89...</td>\n",
       "      <td>20230511</td>\n",
       "    </tr>\n",
       "    <tr>\n",
       "      <th>38</th>\n",
       "      <td>/public_oficiales/L14/CONG/DS/PL/DSCD-14-PL-26...</td>\n",
       "      <td>20230510</td>\n",
       "    </tr>\n",
       "    <tr>\n",
       "      <th>39</th>\n",
       "      <td>/public_oficiales/L14/CONG/DS/PL/DSCD-14-PL-26...</td>\n",
       "      <td>20230516</td>\n",
       "    </tr>\n",
       "    <tr>\n",
       "      <th>40</th>\n",
       "      <td>/public_oficiales/L14/CONG/DS/PL/DSCD-14-PL-27...</td>\n",
       "      <td>20230517</td>\n",
       "    </tr>\n",
       "    <tr>\n",
       "      <th>41</th>\n",
       "      <td>/public_oficiales/L15/CONG/DS/PL/DSCD-15-PL-1.PDF</td>\n",
       "      <td>20230817</td>\n",
       "    </tr>\n",
       "    <tr>\n",
       "      <th>42</th>\n",
       "      <td>/public_oficiales/L15/CONG/DS/PL/DSCD-15-PL-4.PDF</td>\n",
       "      <td>20230926</td>\n",
       "    </tr>\n",
       "    <tr>\n",
       "      <th>43</th>\n",
       "      <td>/public_oficiales/L15/CONG/DS/PL/DSCD-15-PL-3.PDF</td>\n",
       "      <td>20230921</td>\n",
       "    </tr>\n",
       "    <tr>\n",
       "      <th>44</th>\n",
       "      <td>/public_oficiales/L15/CONG/DS/PL/DSCD-15-PL-5.PDF</td>\n",
       "      <td>20230927</td>\n",
       "    </tr>\n",
       "    <tr>\n",
       "      <th>45</th>\n",
       "      <td>/public_oficiales/L15/CONG/DS/PL/DSCD-15-PL-7.PDF</td>\n",
       "      <td>20231115</td>\n",
       "    </tr>\n",
       "    <tr>\n",
       "      <th>46</th>\n",
       "      <td>/public_oficiales/L15/CONG/DS/PL/DSCD-15-PL-12...</td>\n",
       "      <td>20231212</td>\n",
       "    </tr>\n",
       "    <tr>\n",
       "      <th>47</th>\n",
       "      <td>/public_oficiales/L15/CONG/DS/PL/DSCD-15-PL-13...</td>\n",
       "      <td>20231213</td>\n",
       "    </tr>\n",
       "    <tr>\n",
       "      <th>48</th>\n",
       "      <td>/public_oficiales/L15/CONG/DS/CO/DSCD-15-CO-30...</td>\n",
       "      <td>20231221</td>\n",
       "    </tr>\n",
       "    <tr>\n",
       "      <th>49</th>\n",
       "      <td>/public_oficiales/L15/CONG/DS/CO/DSCD-15-CO-31...</td>\n",
       "      <td>20231221</td>\n",
       "    </tr>\n",
       "    <tr>\n",
       "      <th>50</th>\n",
       "      <td>/public_oficiales/L15/CONG/DS/PL/DSCD-15-PL-15...</td>\n",
       "      <td>20231220</td>\n",
       "    </tr>\n",
       "  </tbody>\n",
       "</table>\n",
       "</div>\n",
       "    <div class=\"colab-df-buttons\">\n",
       "\n",
       "  <div class=\"colab-df-container\">\n",
       "    <button class=\"colab-df-convert\" onclick=\"convertToInteractive('df-8eb6e416-1187-4b29-baf6-8b9538d9bfa0')\"\n",
       "            title=\"Convert this dataframe to an interactive table.\"\n",
       "            style=\"display:none;\">\n",
       "\n",
       "  <svg xmlns=\"http://www.w3.org/2000/svg\" height=\"24px\" viewBox=\"0 -960 960 960\">\n",
       "    <path d=\"M120-120v-720h720v720H120Zm60-500h600v-160H180v160Zm220 220h160v-160H400v160Zm0 220h160v-160H400v160ZM180-400h160v-160H180v160Zm440 0h160v-160H620v160ZM180-180h160v-160H180v160Zm440 0h160v-160H620v160Z\"/>\n",
       "  </svg>\n",
       "    </button>\n",
       "\n",
       "  <style>\n",
       "    .colab-df-container {\n",
       "      display:flex;\n",
       "      gap: 12px;\n",
       "    }\n",
       "\n",
       "    .colab-df-convert {\n",
       "      background-color: #E8F0FE;\n",
       "      border: none;\n",
       "      border-radius: 50%;\n",
       "      cursor: pointer;\n",
       "      display: none;\n",
       "      fill: #1967D2;\n",
       "      height: 32px;\n",
       "      padding: 0 0 0 0;\n",
       "      width: 32px;\n",
       "    }\n",
       "\n",
       "    .colab-df-convert:hover {\n",
       "      background-color: #E2EBFA;\n",
       "      box-shadow: 0px 1px 2px rgba(60, 64, 67, 0.3), 0px 1px 3px 1px rgba(60, 64, 67, 0.15);\n",
       "      fill: #174EA6;\n",
       "    }\n",
       "\n",
       "    .colab-df-buttons div {\n",
       "      margin-bottom: 4px;\n",
       "    }\n",
       "\n",
       "    [theme=dark] .colab-df-convert {\n",
       "      background-color: #3B4455;\n",
       "      fill: #D2E3FC;\n",
       "    }\n",
       "\n",
       "    [theme=dark] .colab-df-convert:hover {\n",
       "      background-color: #434B5C;\n",
       "      box-shadow: 0px 1px 3px 1px rgba(0, 0, 0, 0.15);\n",
       "      filter: drop-shadow(0px 1px 2px rgba(0, 0, 0, 0.3));\n",
       "      fill: #FFFFFF;\n",
       "    }\n",
       "  </style>\n",
       "\n",
       "    <script>\n",
       "      const buttonEl =\n",
       "        document.querySelector('#df-8eb6e416-1187-4b29-baf6-8b9538d9bfa0 button.colab-df-convert');\n",
       "      buttonEl.style.display =\n",
       "        google.colab.kernel.accessAllowed ? 'block' : 'none';\n",
       "\n",
       "      async function convertToInteractive(key) {\n",
       "        const element = document.querySelector('#df-8eb6e416-1187-4b29-baf6-8b9538d9bfa0');\n",
       "        const dataTable =\n",
       "          await google.colab.kernel.invokeFunction('convertToInteractive',\n",
       "                                                    [key], {});\n",
       "        if (!dataTable) return;\n",
       "\n",
       "        const docLinkHtml = 'Like what you see? Visit the ' +\n",
       "          '<a target=\"_blank\" href=https://colab.research.google.com/notebooks/data_table.ipynb>data table notebook</a>'\n",
       "          + ' to learn more about interactive tables.';\n",
       "        element.innerHTML = '';\n",
       "        dataTable['output_type'] = 'display_data';\n",
       "        await google.colab.output.renderOutput(dataTable, element);\n",
       "        const docLink = document.createElement('div');\n",
       "        docLink.innerHTML = docLinkHtml;\n",
       "        element.appendChild(docLink);\n",
       "      }\n",
       "    </script>\n",
       "  </div>\n",
       "\n",
       "\n",
       "<div id=\"df-32983662-e007-4035-9781-b688f716baf7\">\n",
       "  <button class=\"colab-df-quickchart\" onclick=\"quickchart('df-32983662-e007-4035-9781-b688f716baf7')\"\n",
       "            title=\"Suggest charts\"\n",
       "            style=\"display:none;\">\n",
       "\n",
       "<svg xmlns=\"http://www.w3.org/2000/svg\" height=\"24px\"viewBox=\"0 0 24 24\"\n",
       "     width=\"24px\">\n",
       "    <g>\n",
       "        <path d=\"M19 3H5c-1.1 0-2 .9-2 2v14c0 1.1.9 2 2 2h14c1.1 0 2-.9 2-2V5c0-1.1-.9-2-2-2zM9 17H7v-7h2v7zm4 0h-2V7h2v10zm4 0h-2v-4h2v4z\"/>\n",
       "    </g>\n",
       "</svg>\n",
       "  </button>\n",
       "\n",
       "<style>\n",
       "  .colab-df-quickchart {\n",
       "      --bg-color: #E8F0FE;\n",
       "      --fill-color: #1967D2;\n",
       "      --hover-bg-color: #E2EBFA;\n",
       "      --hover-fill-color: #174EA6;\n",
       "      --disabled-fill-color: #AAA;\n",
       "      --disabled-bg-color: #DDD;\n",
       "  }\n",
       "\n",
       "  [theme=dark] .colab-df-quickchart {\n",
       "      --bg-color: #3B4455;\n",
       "      --fill-color: #D2E3FC;\n",
       "      --hover-bg-color: #434B5C;\n",
       "      --hover-fill-color: #FFFFFF;\n",
       "      --disabled-bg-color: #3B4455;\n",
       "      --disabled-fill-color: #666;\n",
       "  }\n",
       "\n",
       "  .colab-df-quickchart {\n",
       "    background-color: var(--bg-color);\n",
       "    border: none;\n",
       "    border-radius: 50%;\n",
       "    cursor: pointer;\n",
       "    display: none;\n",
       "    fill: var(--fill-color);\n",
       "    height: 32px;\n",
       "    padding: 0;\n",
       "    width: 32px;\n",
       "  }\n",
       "\n",
       "  .colab-df-quickchart:hover {\n",
       "    background-color: var(--hover-bg-color);\n",
       "    box-shadow: 0 1px 2px rgba(60, 64, 67, 0.3), 0 1px 3px 1px rgba(60, 64, 67, 0.15);\n",
       "    fill: var(--button-hover-fill-color);\n",
       "  }\n",
       "\n",
       "  .colab-df-quickchart-complete:disabled,\n",
       "  .colab-df-quickchart-complete:disabled:hover {\n",
       "    background-color: var(--disabled-bg-color);\n",
       "    fill: var(--disabled-fill-color);\n",
       "    box-shadow: none;\n",
       "  }\n",
       "\n",
       "  .colab-df-spinner {\n",
       "    border: 2px solid var(--fill-color);\n",
       "    border-color: transparent;\n",
       "    border-bottom-color: var(--fill-color);\n",
       "    animation:\n",
       "      spin 1s steps(1) infinite;\n",
       "  }\n",
       "\n",
       "  @keyframes spin {\n",
       "    0% {\n",
       "      border-color: transparent;\n",
       "      border-bottom-color: var(--fill-color);\n",
       "      border-left-color: var(--fill-color);\n",
       "    }\n",
       "    20% {\n",
       "      border-color: transparent;\n",
       "      border-left-color: var(--fill-color);\n",
       "      border-top-color: var(--fill-color);\n",
       "    }\n",
       "    30% {\n",
       "      border-color: transparent;\n",
       "      border-left-color: var(--fill-color);\n",
       "      border-top-color: var(--fill-color);\n",
       "      border-right-color: var(--fill-color);\n",
       "    }\n",
       "    40% {\n",
       "      border-color: transparent;\n",
       "      border-right-color: var(--fill-color);\n",
       "      border-top-color: var(--fill-color);\n",
       "    }\n",
       "    60% {\n",
       "      border-color: transparent;\n",
       "      border-right-color: var(--fill-color);\n",
       "    }\n",
       "    80% {\n",
       "      border-color: transparent;\n",
       "      border-right-color: var(--fill-color);\n",
       "      border-bottom-color: var(--fill-color);\n",
       "    }\n",
       "    90% {\n",
       "      border-color: transparent;\n",
       "      border-bottom-color: var(--fill-color);\n",
       "    }\n",
       "  }\n",
       "</style>\n",
       "\n",
       "  <script>\n",
       "    async function quickchart(key) {\n",
       "      const quickchartButtonEl =\n",
       "        document.querySelector('#' + key + ' button');\n",
       "      quickchartButtonEl.disabled = true;  // To prevent multiple clicks.\n",
       "      quickchartButtonEl.classList.add('colab-df-spinner');\n",
       "      try {\n",
       "        const charts = await google.colab.kernel.invokeFunction(\n",
       "            'suggestCharts', [key], {});\n",
       "      } catch (error) {\n",
       "        console.error('Error during call to suggestCharts:', error);\n",
       "      }\n",
       "      quickchartButtonEl.classList.remove('colab-df-spinner');\n",
       "      quickchartButtonEl.classList.add('colab-df-quickchart-complete');\n",
       "    }\n",
       "    (() => {\n",
       "      let quickchartButtonEl =\n",
       "        document.querySelector('#df-32983662-e007-4035-9781-b688f716baf7 button');\n",
       "      quickchartButtonEl.style.display =\n",
       "        google.colab.kernel.accessAllowed ? 'block' : 'none';\n",
       "    })();\n",
       "  </script>\n",
       "</div>\n",
       "\n",
       "    </div>\n",
       "  </div>\n"
      ],
      "text/plain": [
       "                                              pdf_url     fecha\n",
       "0   /public_oficiales/L14/CONG/DS/PL/DSCD-14-PL-23...  20230123\n",
       "1   /public_oficiales/L14/CONG/DS/PL/DSCD-14-PL-23...  20230124\n",
       "2   /public_oficiales/L14/CONG/DS/CO/DSCD-14-CO-83...  20230207\n",
       "3   /public_oficiales/L14/CONG/DS/PL/DSCD-14-PL-24...  20230207\n",
       "4   /public_oficiales/L14/CONG/DS/PL/DSCD-14-PL-24...  20230209\n",
       "5   /public_oficiales/L14/CONG/DS/CO/DSCD-14-CO-84...  20230208\n",
       "6   /public_oficiales/L14/CONG/DS/PL/DSCD-14-PL-24...  20230215\n",
       "7   /public_oficiales/L14/CONG/DS/CO/DSCD-14-CO-84...  20230215\n",
       "8   /public_oficiales/L14/CONG/DS/CO/DSCD-14-CO-84...  20230214\n",
       "9   /public_oficiales/L14/CONG/DS/CO/DSCD-14-CO-84...  20230215\n",
       "10  /public_oficiales/L14/CONG/DS/CO/DSCD-14-CO-84...  20230216\n",
       "11  /public_oficiales/L14/CONG/DS/PL/DSCD-14-PL-24...  20230216\n",
       "12  /public_oficiales/L14/CONG/DS/PL/DSCD-14-PL-24...  20230221\n",
       "13  /public_oficiales/L14/CONG/DS/CO/DSCD-14-CO-85...  20230222\n",
       "14  /public_oficiales/L14/CONG/DS/PL/DSCD-14-PL-24...  20230222\n",
       "15  /public_oficiales/L14/CONG/DS/PL/DSCD-14-PL-25...  20230308\n",
       "16  /public_oficiales/L14/CONG/DS/CO/DSCD-14-CO-86...  20230307\n",
       "17  /public_oficiales/L14/CONG/DS/PL/DSCD-14-PL-24...  20230307\n",
       "18  /public_oficiales/L14/CONG/DS/PL/DSCD-14-PL-25...  20230314\n",
       "19  /public_oficiales/L14/CONG/DS/CO/DSCD-14-CO-86...  20230315\n",
       "20  /public_oficiales/L14/CONG/DS/PL/DSCD-14-PL-25...  20230315\n",
       "21  /public_oficiales/L14/CONG/DS/PL/DSCD-14-PL-25...  20230316\n",
       "22  /public_oficiales/L14/CONG/DS/CO/DSCD-14-CO-86...  20230316\n",
       "23  /public_oficiales/L14/CONG/DS/PL/DSCD-14-PL-25...  20230321\n",
       "24  /public_oficiales/L14/CONG/DS/CO/DSCD-14-CO-87...  20230322\n",
       "25  /public_oficiales/L14/CONG/DS/PL/DSCD-14-PL-25...  20230322\n",
       "26  /public_oficiales/L14/CONG/DS/CO/DSCD-14-CO-87...  20230327\n",
       "27  /public_oficiales/L14/CONG/DS/PL/DSCD-14-PL-25...  20230329\n",
       "28  /public_oficiales/L14/CONG/DS/PL/DSCD-14-PL-25...  20230328\n",
       "29  /public_oficiales/L14/CONG/DS/CO/DSCD-14-CO-88...  20230330\n",
       "30  /public_oficiales/L14/CONG/DS/PL/DSCD-14-PL-26...  20230419\n",
       "31  /public_oficiales/L14/CONG/DS/CO/DSCD-14-CO-88...  20230418\n",
       "32  /public_oficiales/L14/CONG/DS/PL/DSCD-14-PL-26...  20230420\n",
       "33  /public_oficiales/L14/CONG/DS/CO/DSCD-14-CO-88...  20230418\n",
       "34  /public_oficiales/L14/CONG/DS/PL/DSCD-14-PL-26...  20230425\n",
       "35  /public_oficiales/L14/CONG/DS/PL/DSCD-14-PL-26...  20230426\n",
       "36  /public_oficiales/L14/CONG/DS/CO/DSCD-14-CO-89...  20230509\n",
       "37  /public_oficiales/L14/CONG/DS/CO/DSCD-14-CO-89...  20230511\n",
       "38  /public_oficiales/L14/CONG/DS/PL/DSCD-14-PL-26...  20230510\n",
       "39  /public_oficiales/L14/CONG/DS/PL/DSCD-14-PL-26...  20230516\n",
       "40  /public_oficiales/L14/CONG/DS/PL/DSCD-14-PL-27...  20230517\n",
       "41  /public_oficiales/L15/CONG/DS/PL/DSCD-15-PL-1.PDF  20230817\n",
       "42  /public_oficiales/L15/CONG/DS/PL/DSCD-15-PL-4.PDF  20230926\n",
       "43  /public_oficiales/L15/CONG/DS/PL/DSCD-15-PL-3.PDF  20230921\n",
       "44  /public_oficiales/L15/CONG/DS/PL/DSCD-15-PL-5.PDF  20230927\n",
       "45  /public_oficiales/L15/CONG/DS/PL/DSCD-15-PL-7.PDF  20231115\n",
       "46  /public_oficiales/L15/CONG/DS/PL/DSCD-15-PL-12...  20231212\n",
       "47  /public_oficiales/L15/CONG/DS/PL/DSCD-15-PL-13...  20231213\n",
       "48  /public_oficiales/L15/CONG/DS/CO/DSCD-15-CO-30...  20231221\n",
       "49  /public_oficiales/L15/CONG/DS/CO/DSCD-15-CO-31...  20231221\n",
       "50  /public_oficiales/L15/CONG/DS/PL/DSCD-15-PL-15...  20231220"
      ]
     },
     "metadata": {},
     "output_type": "display_data"
    },
    {
     "name": "stdout",
     "output_type": "stream",
     "text": [
      "/public_oficiales/L14/CONG/DS/PL/DSCD-14-PL-238.PDF\n"
     ]
    }
   ],
   "source": [
    "pd.set_option('display.max_columns', None)\n",
    "\n",
    "def key_docs(word, list_docs):\n",
    "  for docs in list_docs:\n",
    "    lista = c.key_word_search(word,docs)\n",
    "    if lista:\n",
    "      df = pd.DataFrame(lista)\n",
    "      df = df[['pdf_url', 'fecha']]  # Only keep the 'pdf_url' and 'texto' columns\n",
    "\n",
    "      display(df)\n",
    "      print(lista[0][\"pdf_url\"])\n",
    "\n",
    "list_of_docs = [cong_docs_2003, cong_docs_2013, cong_docs_2023]\n",
    "key_docs(\" mujer \", list_of_docs)\n"
   ]
  },
  {
   "cell_type": "markdown",
   "metadata": {
    "id": "I9uSGk70qJDe"
   },
   "source": [
    "# Finding sexism on parliment records\n"
   ]
  },
  {
   "cell_type": "markdown",
   "metadata": {
    "id": "QBA1uePaOUIk"
   },
   "source": [
    "Simple key word search"
   ]
  },
  {
   "cell_type": "code",
   "execution_count": null,
   "metadata": {
    "id": "d3sdby2O5IXw"
   },
   "outputs": [],
   "source": [
    "DS_XV= filter_DS_documents(t[\"XV\"])"
   ]
  },
  {
   "cell_type": "code",
   "execution_count": null,
   "metadata": {
    "colab": {
     "base_uri": "https://localhost:8080/",
     "height": 142
    },
    "collapsed": true,
    "id": "sBxiBwQWqWix",
    "jupyter": {
     "outputs_hidden": true
    },
    "outputId": "c1fd8851-5202-4732-9e40-a9b56b8c5203"
   },
   "outputs": [
    {
     "data": {
      "application/vnd.google.colaboratory.intrinsic+json": {
       "summary": "{\n  \"name\": \"df\",\n  \"rows\": 2,\n  \"fields\": [\n    {\n      \"column\": \"pdf_url\",\n      \"properties\": {\n        \"dtype\": \"string\",\n        \"num_unique_values\": 2,\n        \"samples\": [\n          \"/public_oficiales/L15/SEN/DS/PL/DS_P_15_15.PDF\",\n          \"/public_oficiales/L15/CONG/DS/PL/DSCD-15-PL-13.PDF\"\n        ],\n        \"semantic_type\": \"\",\n        \"description\": \"\"\n      }\n    },\n    {\n      \"column\": \"fecha\",\n      \"properties\": {\n        \"dtype\": \"object\",\n        \"num_unique_values\": 2,\n        \"samples\": [\n          \"20240207\",\n          \"20231213\"\n        ],\n        \"semantic_type\": \"\",\n        \"description\": \"\"\n      }\n    }\n  ]\n}",
       "type": "dataframe",
       "variable_name": "df"
      },
      "text/html": [
       "\n",
       "  <div id=\"df-64740cc1-944c-4f63-939b-b77f51b6befe\" class=\"colab-df-container\">\n",
       "    <div>\n",
       "<style scoped>\n",
       "    .dataframe tbody tr th:only-of-type {\n",
       "        vertical-align: middle;\n",
       "    }\n",
       "\n",
       "    .dataframe tbody tr th {\n",
       "        vertical-align: top;\n",
       "    }\n",
       "\n",
       "    .dataframe thead th {\n",
       "        text-align: right;\n",
       "    }\n",
       "</style>\n",
       "<table border=\"1\" class=\"dataframe\">\n",
       "  <thead>\n",
       "    <tr style=\"text-align: right;\">\n",
       "      <th></th>\n",
       "      <th>pdf_url</th>\n",
       "      <th>fecha</th>\n",
       "    </tr>\n",
       "  </thead>\n",
       "  <tbody>\n",
       "    <tr>\n",
       "      <th>0</th>\n",
       "      <td>/public_oficiales/L15/CONG/DS/PL/DSCD-15-PL-13...</td>\n",
       "      <td>20231213</td>\n",
       "    </tr>\n",
       "    <tr>\n",
       "      <th>1</th>\n",
       "      <td>/public_oficiales/L15/SEN/DS/PL/DS_P_15_15.PDF</td>\n",
       "      <td>20240207</td>\n",
       "    </tr>\n",
       "  </tbody>\n",
       "</table>\n",
       "</div>\n",
       "    <div class=\"colab-df-buttons\">\n",
       "\n",
       "  <div class=\"colab-df-container\">\n",
       "    <button class=\"colab-df-convert\" onclick=\"convertToInteractive('df-64740cc1-944c-4f63-939b-b77f51b6befe')\"\n",
       "            title=\"Convert this dataframe to an interactive table.\"\n",
       "            style=\"display:none;\">\n",
       "\n",
       "  <svg xmlns=\"http://www.w3.org/2000/svg\" height=\"24px\" viewBox=\"0 -960 960 960\">\n",
       "    <path d=\"M120-120v-720h720v720H120Zm60-500h600v-160H180v160Zm220 220h160v-160H400v160Zm0 220h160v-160H400v160ZM180-400h160v-160H180v160Zm440 0h160v-160H620v160ZM180-180h160v-160H180v160Zm440 0h160v-160H620v160Z\"/>\n",
       "  </svg>\n",
       "    </button>\n",
       "\n",
       "  <style>\n",
       "    .colab-df-container {\n",
       "      display:flex;\n",
       "      gap: 12px;\n",
       "    }\n",
       "\n",
       "    .colab-df-convert {\n",
       "      background-color: #E8F0FE;\n",
       "      border: none;\n",
       "      border-radius: 50%;\n",
       "      cursor: pointer;\n",
       "      display: none;\n",
       "      fill: #1967D2;\n",
       "      height: 32px;\n",
       "      padding: 0 0 0 0;\n",
       "      width: 32px;\n",
       "    }\n",
       "\n",
       "    .colab-df-convert:hover {\n",
       "      background-color: #E2EBFA;\n",
       "      box-shadow: 0px 1px 2px rgba(60, 64, 67, 0.3), 0px 1px 3px 1px rgba(60, 64, 67, 0.15);\n",
       "      fill: #174EA6;\n",
       "    }\n",
       "\n",
       "    .colab-df-buttons div {\n",
       "      margin-bottom: 4px;\n",
       "    }\n",
       "\n",
       "    [theme=dark] .colab-df-convert {\n",
       "      background-color: #3B4455;\n",
       "      fill: #D2E3FC;\n",
       "    }\n",
       "\n",
       "    [theme=dark] .colab-df-convert:hover {\n",
       "      background-color: #434B5C;\n",
       "      box-shadow: 0px 1px 3px 1px rgba(0, 0, 0, 0.15);\n",
       "      filter: drop-shadow(0px 1px 2px rgba(0, 0, 0, 0.3));\n",
       "      fill: #FFFFFF;\n",
       "    }\n",
       "  </style>\n",
       "\n",
       "    <script>\n",
       "      const buttonEl =\n",
       "        document.querySelector('#df-64740cc1-944c-4f63-939b-b77f51b6befe button.colab-df-convert');\n",
       "      buttonEl.style.display =\n",
       "        google.colab.kernel.accessAllowed ? 'block' : 'none';\n",
       "\n",
       "      async function convertToInteractive(key) {\n",
       "        const element = document.querySelector('#df-64740cc1-944c-4f63-939b-b77f51b6befe');\n",
       "        const dataTable =\n",
       "          await google.colab.kernel.invokeFunction('convertToInteractive',\n",
       "                                                    [key], {});\n",
       "        if (!dataTable) return;\n",
       "\n",
       "        const docLinkHtml = 'Like what you see? Visit the ' +\n",
       "          '<a target=\"_blank\" href=https://colab.research.google.com/notebooks/data_table.ipynb>data table notebook</a>'\n",
       "          + ' to learn more about interactive tables.';\n",
       "        element.innerHTML = '';\n",
       "        dataTable['output_type'] = 'display_data';\n",
       "        await google.colab.output.renderOutput(dataTable, element);\n",
       "        const docLink = document.createElement('div');\n",
       "        docLink.innerHTML = docLinkHtml;\n",
       "        element.appendChild(docLink);\n",
       "      }\n",
       "    </script>\n",
       "  </div>\n",
       "\n",
       "\n",
       "<div id=\"df-72912f32-8b71-496c-9a43-61475f3a4d05\">\n",
       "  <button class=\"colab-df-quickchart\" onclick=\"quickchart('df-72912f32-8b71-496c-9a43-61475f3a4d05')\"\n",
       "            title=\"Suggest charts\"\n",
       "            style=\"display:none;\">\n",
       "\n",
       "<svg xmlns=\"http://www.w3.org/2000/svg\" height=\"24px\"viewBox=\"0 0 24 24\"\n",
       "     width=\"24px\">\n",
       "    <g>\n",
       "        <path d=\"M19 3H5c-1.1 0-2 .9-2 2v14c0 1.1.9 2 2 2h14c1.1 0 2-.9 2-2V5c0-1.1-.9-2-2-2zM9 17H7v-7h2v7zm4 0h-2V7h2v10zm4 0h-2v-4h2v4z\"/>\n",
       "    </g>\n",
       "</svg>\n",
       "  </button>\n",
       "\n",
       "<style>\n",
       "  .colab-df-quickchart {\n",
       "      --bg-color: #E8F0FE;\n",
       "      --fill-color: #1967D2;\n",
       "      --hover-bg-color: #E2EBFA;\n",
       "      --hover-fill-color: #174EA6;\n",
       "      --disabled-fill-color: #AAA;\n",
       "      --disabled-bg-color: #DDD;\n",
       "  }\n",
       "\n",
       "  [theme=dark] .colab-df-quickchart {\n",
       "      --bg-color: #3B4455;\n",
       "      --fill-color: #D2E3FC;\n",
       "      --hover-bg-color: #434B5C;\n",
       "      --hover-fill-color: #FFFFFF;\n",
       "      --disabled-bg-color: #3B4455;\n",
       "      --disabled-fill-color: #666;\n",
       "  }\n",
       "\n",
       "  .colab-df-quickchart {\n",
       "    background-color: var(--bg-color);\n",
       "    border: none;\n",
       "    border-radius: 50%;\n",
       "    cursor: pointer;\n",
       "    display: none;\n",
       "    fill: var(--fill-color);\n",
       "    height: 32px;\n",
       "    padding: 0;\n",
       "    width: 32px;\n",
       "  }\n",
       "\n",
       "  .colab-df-quickchart:hover {\n",
       "    background-color: var(--hover-bg-color);\n",
       "    box-shadow: 0 1px 2px rgba(60, 64, 67, 0.3), 0 1px 3px 1px rgba(60, 64, 67, 0.15);\n",
       "    fill: var(--button-hover-fill-color);\n",
       "  }\n",
       "\n",
       "  .colab-df-quickchart-complete:disabled,\n",
       "  .colab-df-quickchart-complete:disabled:hover {\n",
       "    background-color: var(--disabled-bg-color);\n",
       "    fill: var(--disabled-fill-color);\n",
       "    box-shadow: none;\n",
       "  }\n",
       "\n",
       "  .colab-df-spinner {\n",
       "    border: 2px solid var(--fill-color);\n",
       "    border-color: transparent;\n",
       "    border-bottom-color: var(--fill-color);\n",
       "    animation:\n",
       "      spin 1s steps(1) infinite;\n",
       "  }\n",
       "\n",
       "  @keyframes spin {\n",
       "    0% {\n",
       "      border-color: transparent;\n",
       "      border-bottom-color: var(--fill-color);\n",
       "      border-left-color: var(--fill-color);\n",
       "    }\n",
       "    20% {\n",
       "      border-color: transparent;\n",
       "      border-left-color: var(--fill-color);\n",
       "      border-top-color: var(--fill-color);\n",
       "    }\n",
       "    30% {\n",
       "      border-color: transparent;\n",
       "      border-left-color: var(--fill-color);\n",
       "      border-top-color: var(--fill-color);\n",
       "      border-right-color: var(--fill-color);\n",
       "    }\n",
       "    40% {\n",
       "      border-color: transparent;\n",
       "      border-right-color: var(--fill-color);\n",
       "      border-top-color: var(--fill-color);\n",
       "    }\n",
       "    60% {\n",
       "      border-color: transparent;\n",
       "      border-right-color: var(--fill-color);\n",
       "    }\n",
       "    80% {\n",
       "      border-color: transparent;\n",
       "      border-right-color: var(--fill-color);\n",
       "      border-bottom-color: var(--fill-color);\n",
       "    }\n",
       "    90% {\n",
       "      border-color: transparent;\n",
       "      border-bottom-color: var(--fill-color);\n",
       "    }\n",
       "  }\n",
       "</style>\n",
       "\n",
       "  <script>\n",
       "    async function quickchart(key) {\n",
       "      const quickchartButtonEl =\n",
       "        document.querySelector('#' + key + ' button');\n",
       "      quickchartButtonEl.disabled = true;  // To prevent multiple clicks.\n",
       "      quickchartButtonEl.classList.add('colab-df-spinner');\n",
       "      try {\n",
       "        const charts = await google.colab.kernel.invokeFunction(\n",
       "            'suggestCharts', [key], {});\n",
       "      } catch (error) {\n",
       "        console.error('Error during call to suggestCharts:', error);\n",
       "      }\n",
       "      quickchartButtonEl.classList.remove('colab-df-spinner');\n",
       "      quickchartButtonEl.classList.add('colab-df-quickchart-complete');\n",
       "    }\n",
       "    (() => {\n",
       "      let quickchartButtonEl =\n",
       "        document.querySelector('#df-72912f32-8b71-496c-9a43-61475f3a4d05 button');\n",
       "      quickchartButtonEl.style.display =\n",
       "        google.colab.kernel.accessAllowed ? 'block' : 'none';\n",
       "    })();\n",
       "  </script>\n",
       "</div>\n",
       "\n",
       "  <div id=\"id_9307873d-bbc7-4301-8b01-96b012a4e2ec\">\n",
       "    <style>\n",
       "      .colab-df-generate {\n",
       "        background-color: #E8F0FE;\n",
       "        border: none;\n",
       "        border-radius: 50%;\n",
       "        cursor: pointer;\n",
       "        display: none;\n",
       "        fill: #1967D2;\n",
       "        height: 32px;\n",
       "        padding: 0 0 0 0;\n",
       "        width: 32px;\n",
       "      }\n",
       "\n",
       "      .colab-df-generate:hover {\n",
       "        background-color: #E2EBFA;\n",
       "        box-shadow: 0px 1px 2px rgba(60, 64, 67, 0.3), 0px 1px 3px 1px rgba(60, 64, 67, 0.15);\n",
       "        fill: #174EA6;\n",
       "      }\n",
       "\n",
       "      [theme=dark] .colab-df-generate {\n",
       "        background-color: #3B4455;\n",
       "        fill: #D2E3FC;\n",
       "      }\n",
       "\n",
       "      [theme=dark] .colab-df-generate:hover {\n",
       "        background-color: #434B5C;\n",
       "        box-shadow: 0px 1px 3px 1px rgba(0, 0, 0, 0.15);\n",
       "        filter: drop-shadow(0px 1px 2px rgba(0, 0, 0, 0.3));\n",
       "        fill: #FFFFFF;\n",
       "      }\n",
       "    </style>\n",
       "    <button class=\"colab-df-generate\" onclick=\"generateWithVariable('df')\"\n",
       "            title=\"Generate code using this dataframe.\"\n",
       "            style=\"display:none;\">\n",
       "\n",
       "  <svg xmlns=\"http://www.w3.org/2000/svg\" height=\"24px\"viewBox=\"0 0 24 24\"\n",
       "       width=\"24px\">\n",
       "    <path d=\"M7,19H8.4L18.45,9,17,7.55,7,17.6ZM5,21V16.75L18.45,3.32a2,2,0,0,1,2.83,0l1.4,1.43a1.91,1.91,0,0,1,.58,1.4,1.91,1.91,0,0,1-.58,1.4L9.25,21ZM18.45,9,17,7.55Zm-12,3A5.31,5.31,0,0,0,4.9,8.1,5.31,5.31,0,0,0,1,6.5,5.31,5.31,0,0,0,4.9,4.9,5.31,5.31,0,0,0,6.5,1,5.31,5.31,0,0,0,8.1,4.9,5.31,5.31,0,0,0,12,6.5,5.46,5.46,0,0,0,6.5,12Z\"/>\n",
       "  </svg>\n",
       "    </button>\n",
       "    <script>\n",
       "      (() => {\n",
       "      const buttonEl =\n",
       "        document.querySelector('#id_9307873d-bbc7-4301-8b01-96b012a4e2ec button.colab-df-generate');\n",
       "      buttonEl.style.display =\n",
       "        google.colab.kernel.accessAllowed ? 'block' : 'none';\n",
       "\n",
       "      buttonEl.onclick = () => {\n",
       "        google.colab.notebook.generateWithVariable('df');\n",
       "      }\n",
       "      })();\n",
       "    </script>\n",
       "  </div>\n",
       "\n",
       "    </div>\n",
       "  </div>\n"
      ],
      "text/plain": [
       "                                             pdf_url     fecha\n",
       "0  /public_oficiales/L15/CONG/DS/PL/DSCD-15-PL-13...  20231213\n",
       "1     /public_oficiales/L15/SEN/DS/PL/DS_P_15_15.PDF  20240207"
      ]
     },
     "metadata": {},
     "output_type": "display_data"
    },
    {
     "name": "stdout",
     "output_type": "stream",
     "text": [
      "/public_oficiales/L15/CONG/DS/PL/DSCD-15-PL-13.PDF\n"
     ]
    }
   ],
   "source": [
    "lista = c.key_word_search(\" loca \",DS_XV)\n",
    "if lista:\n",
    "  df = pd.DataFrame(lista)\n",
    "  df = df[['pdf_url', 'fecha']]  # Only keep the 'pdf_url' and 'texto' columns\n",
    "\n",
    "  display(df)\n",
    "  print(lista[0][\"pdf_url\"])"
   ]
  },
  {
   "cell_type": "markdown",
   "metadata": {
    "id": "_22CGyB7OWb7"
   },
   "source": [
    "Simple date search"
   ]
  },
  {
   "cell_type": "code",
   "execution_count": null,
   "metadata": {
    "colab": {
     "base_uri": "https://localhost:8080/",
     "height": 237
    },
    "id": "u6W3sj37WpVr",
    "outputId": "5ca7d4b5-030c-4a21-e809-648361b06868"
   },
   "outputs": [
    {
     "data": {
      "application/vnd.google.colaboratory.intrinsic+json": {
       "summary": "{\n  \"name\": \"df\",\n  \"rows\": 6,\n  \"fields\": [\n    {\n      \"column\": \"pdf_url\",\n      \"properties\": {\n        \"dtype\": \"string\",\n        \"num_unique_values\": 6,\n        \"samples\": [\n          \"/public_oficiales/L14/CONG/BOCG/A/BOCG-14-A-70-3.PDF\",\n          \"/public_oficiales/L14/CONG/BOCG/A/BOCG-14-A-65-3.PDF\",\n          \"/public_oficiales/L14/CONG/DS/PL/DSCD-14-PL-134.PDF\"\n        ],\n        \"semantic_type\": \"\",\n        \"description\": \"\"\n      }\n    },\n    {\n      \"column\": \"encabezado\",\n      \"properties\": {\n        \"dtype\": \"category\",\n        \"num_unique_values\": 2,\n        \"samples\": [\n          \"DS\",\n          \"BOCG\"\n        ],\n        \"semantic_type\": \"\",\n        \"description\": \"\"\n      }\n    },\n    {\n      \"column\": \"orga\",\n      \"properties\": {\n        \"dtype\": \"category\",\n        \"num_unique_values\": 2,\n        \"samples\": [\n          \"Pleno\",\n          \"\"\n        ],\n        \"semantic_type\": \"\",\n        \"description\": \"\"\n      }\n    }\n  ]\n}",
       "type": "dataframe",
       "variable_name": "df"
      },
      "text/html": [
       "\n",
       "  <div id=\"df-06c5d0d3-1dcb-4467-b44d-939eefac6e74\" class=\"colab-df-container\">\n",
       "    <div>\n",
       "<style scoped>\n",
       "    .dataframe tbody tr th:only-of-type {\n",
       "        vertical-align: middle;\n",
       "    }\n",
       "\n",
       "    .dataframe tbody tr th {\n",
       "        vertical-align: top;\n",
       "    }\n",
       "\n",
       "    .dataframe thead th {\n",
       "        text-align: right;\n",
       "    }\n",
       "</style>\n",
       "<table border=\"1\" class=\"dataframe\">\n",
       "  <thead>\n",
       "    <tr style=\"text-align: right;\">\n",
       "      <th></th>\n",
       "      <th>pdf_url</th>\n",
       "      <th>encabezado</th>\n",
       "      <th>orga</th>\n",
       "    </tr>\n",
       "  </thead>\n",
       "  <tbody>\n",
       "    <tr>\n",
       "      <th>0</th>\n",
       "      <td>/public_oficiales/L14/CONG/BOCG/A/BOCG-14-A-70-3.PDF</td>\n",
       "      <td>BOCG</td>\n",
       "      <td></td>\n",
       "    </tr>\n",
       "    <tr>\n",
       "      <th>1</th>\n",
       "      <td>/public_oficiales/L14/CONG/BOCG/A/BOCG-14-A-65-3.PDF</td>\n",
       "      <td>BOCG</td>\n",
       "      <td></td>\n",
       "    </tr>\n",
       "    <tr>\n",
       "      <th>2</th>\n",
       "      <td>/public_oficiales/L14/CORT/BOCG/A/BOCG-14-CG-A-183.PDF</td>\n",
       "      <td>BOCG</td>\n",
       "      <td></td>\n",
       "    </tr>\n",
       "    <tr>\n",
       "      <th>3</th>\n",
       "      <td>/public_oficiales/L14/CONG/BOCG/D/BOCG-14-D-355.PDF</td>\n",
       "      <td>BOCG</td>\n",
       "      <td></td>\n",
       "    </tr>\n",
       "    <tr>\n",
       "      <th>4</th>\n",
       "      <td>/public_oficiales/L14/SEN/DS/PL/DS_P_14_69.PDF</td>\n",
       "      <td>DS</td>\n",
       "      <td>Pleno</td>\n",
       "    </tr>\n",
       "    <tr>\n",
       "      <th>5</th>\n",
       "      <td>/public_oficiales/L14/CONG/DS/PL/DSCD-14-PL-134.PDF</td>\n",
       "      <td>DS</td>\n",
       "      <td>Pleno</td>\n",
       "    </tr>\n",
       "  </tbody>\n",
       "</table>\n",
       "</div>\n",
       "    <div class=\"colab-df-buttons\">\n",
       "\n",
       "  <div class=\"colab-df-container\">\n",
       "    <button class=\"colab-df-convert\" onclick=\"convertToInteractive('df-06c5d0d3-1dcb-4467-b44d-939eefac6e74')\"\n",
       "            title=\"Convert this dataframe to an interactive table.\"\n",
       "            style=\"display:none;\">\n",
       "\n",
       "  <svg xmlns=\"http://www.w3.org/2000/svg\" height=\"24px\" viewBox=\"0 -960 960 960\">\n",
       "    <path d=\"M120-120v-720h720v720H120Zm60-500h600v-160H180v160Zm220 220h160v-160H400v160Zm0 220h160v-160H400v160ZM180-400h160v-160H180v160Zm440 0h160v-160H620v160ZM180-180h160v-160H180v160Zm440 0h160v-160H620v160Z\"/>\n",
       "  </svg>\n",
       "    </button>\n",
       "\n",
       "  <style>\n",
       "    .colab-df-container {\n",
       "      display:flex;\n",
       "      gap: 12px;\n",
       "    }\n",
       "\n",
       "    .colab-df-convert {\n",
       "      background-color: #E8F0FE;\n",
       "      border: none;\n",
       "      border-radius: 50%;\n",
       "      cursor: pointer;\n",
       "      display: none;\n",
       "      fill: #1967D2;\n",
       "      height: 32px;\n",
       "      padding: 0 0 0 0;\n",
       "      width: 32px;\n",
       "    }\n",
       "\n",
       "    .colab-df-convert:hover {\n",
       "      background-color: #E2EBFA;\n",
       "      box-shadow: 0px 1px 2px rgba(60, 64, 67, 0.3), 0px 1px 3px 1px rgba(60, 64, 67, 0.15);\n",
       "      fill: #174EA6;\n",
       "    }\n",
       "\n",
       "    .colab-df-buttons div {\n",
       "      margin-bottom: 4px;\n",
       "    }\n",
       "\n",
       "    [theme=dark] .colab-df-convert {\n",
       "      background-color: #3B4455;\n",
       "      fill: #D2E3FC;\n",
       "    }\n",
       "\n",
       "    [theme=dark] .colab-df-convert:hover {\n",
       "      background-color: #434B5C;\n",
       "      box-shadow: 0px 1px 3px 1px rgba(0, 0, 0, 0.15);\n",
       "      filter: drop-shadow(0px 1px 2px rgba(0, 0, 0, 0.3));\n",
       "      fill: #FFFFFF;\n",
       "    }\n",
       "  </style>\n",
       "\n",
       "    <script>\n",
       "      const buttonEl =\n",
       "        document.querySelector('#df-06c5d0d3-1dcb-4467-b44d-939eefac6e74 button.colab-df-convert');\n",
       "      buttonEl.style.display =\n",
       "        google.colab.kernel.accessAllowed ? 'block' : 'none';\n",
       "\n",
       "      async function convertToInteractive(key) {\n",
       "        const element = document.querySelector('#df-06c5d0d3-1dcb-4467-b44d-939eefac6e74');\n",
       "        const dataTable =\n",
       "          await google.colab.kernel.invokeFunction('convertToInteractive',\n",
       "                                                    [key], {});\n",
       "        if (!dataTable) return;\n",
       "\n",
       "        const docLinkHtml = 'Like what you see? Visit the ' +\n",
       "          '<a target=\"_blank\" href=https://colab.research.google.com/notebooks/data_table.ipynb>data table notebook</a>'\n",
       "          + ' to learn more about interactive tables.';\n",
       "        element.innerHTML = '';\n",
       "        dataTable['output_type'] = 'display_data';\n",
       "        await google.colab.output.renderOutput(dataTable, element);\n",
       "        const docLink = document.createElement('div');\n",
       "        docLink.innerHTML = docLinkHtml;\n",
       "        element.appendChild(docLink);\n",
       "      }\n",
       "    </script>\n",
       "  </div>\n",
       "\n",
       "\n",
       "<div id=\"df-204f91d4-5a92-417c-9d86-59eca65a6238\">\n",
       "  <button class=\"colab-df-quickchart\" onclick=\"quickchart('df-204f91d4-5a92-417c-9d86-59eca65a6238')\"\n",
       "            title=\"Suggest charts\"\n",
       "            style=\"display:none;\">\n",
       "\n",
       "<svg xmlns=\"http://www.w3.org/2000/svg\" height=\"24px\"viewBox=\"0 0 24 24\"\n",
       "     width=\"24px\">\n",
       "    <g>\n",
       "        <path d=\"M19 3H5c-1.1 0-2 .9-2 2v14c0 1.1.9 2 2 2h14c1.1 0 2-.9 2-2V5c0-1.1-.9-2-2-2zM9 17H7v-7h2v7zm4 0h-2V7h2v10zm4 0h-2v-4h2v4z\"/>\n",
       "    </g>\n",
       "</svg>\n",
       "  </button>\n",
       "\n",
       "<style>\n",
       "  .colab-df-quickchart {\n",
       "      --bg-color: #E8F0FE;\n",
       "      --fill-color: #1967D2;\n",
       "      --hover-bg-color: #E2EBFA;\n",
       "      --hover-fill-color: #174EA6;\n",
       "      --disabled-fill-color: #AAA;\n",
       "      --disabled-bg-color: #DDD;\n",
       "  }\n",
       "\n",
       "  [theme=dark] .colab-df-quickchart {\n",
       "      --bg-color: #3B4455;\n",
       "      --fill-color: #D2E3FC;\n",
       "      --hover-bg-color: #434B5C;\n",
       "      --hover-fill-color: #FFFFFF;\n",
       "      --disabled-bg-color: #3B4455;\n",
       "      --disabled-fill-color: #666;\n",
       "  }\n",
       "\n",
       "  .colab-df-quickchart {\n",
       "    background-color: var(--bg-color);\n",
       "    border: none;\n",
       "    border-radius: 50%;\n",
       "    cursor: pointer;\n",
       "    display: none;\n",
       "    fill: var(--fill-color);\n",
       "    height: 32px;\n",
       "    padding: 0;\n",
       "    width: 32px;\n",
       "  }\n",
       "\n",
       "  .colab-df-quickchart:hover {\n",
       "    background-color: var(--hover-bg-color);\n",
       "    box-shadow: 0 1px 2px rgba(60, 64, 67, 0.3), 0 1px 3px 1px rgba(60, 64, 67, 0.15);\n",
       "    fill: var(--button-hover-fill-color);\n",
       "  }\n",
       "\n",
       "  .colab-df-quickchart-complete:disabled,\n",
       "  .colab-df-quickchart-complete:disabled:hover {\n",
       "    background-color: var(--disabled-bg-color);\n",
       "    fill: var(--disabled-fill-color);\n",
       "    box-shadow: none;\n",
       "  }\n",
       "\n",
       "  .colab-df-spinner {\n",
       "    border: 2px solid var(--fill-color);\n",
       "    border-color: transparent;\n",
       "    border-bottom-color: var(--fill-color);\n",
       "    animation:\n",
       "      spin 1s steps(1) infinite;\n",
       "  }\n",
       "\n",
       "  @keyframes spin {\n",
       "    0% {\n",
       "      border-color: transparent;\n",
       "      border-bottom-color: var(--fill-color);\n",
       "      border-left-color: var(--fill-color);\n",
       "    }\n",
       "    20% {\n",
       "      border-color: transparent;\n",
       "      border-left-color: var(--fill-color);\n",
       "      border-top-color: var(--fill-color);\n",
       "    }\n",
       "    30% {\n",
       "      border-color: transparent;\n",
       "      border-left-color: var(--fill-color);\n",
       "      border-top-color: var(--fill-color);\n",
       "      border-right-color: var(--fill-color);\n",
       "    }\n",
       "    40% {\n",
       "      border-color: transparent;\n",
       "      border-right-color: var(--fill-color);\n",
       "      border-top-color: var(--fill-color);\n",
       "    }\n",
       "    60% {\n",
       "      border-color: transparent;\n",
       "      border-right-color: var(--fill-color);\n",
       "    }\n",
       "    80% {\n",
       "      border-color: transparent;\n",
       "      border-right-color: var(--fill-color);\n",
       "      border-bottom-color: var(--fill-color);\n",
       "    }\n",
       "    90% {\n",
       "      border-color: transparent;\n",
       "      border-bottom-color: var(--fill-color);\n",
       "    }\n",
       "  }\n",
       "</style>\n",
       "\n",
       "  <script>\n",
       "    async function quickchart(key) {\n",
       "      const quickchartButtonEl =\n",
       "        document.querySelector('#' + key + ' button');\n",
       "      quickchartButtonEl.disabled = true;  // To prevent multiple clicks.\n",
       "      quickchartButtonEl.classList.add('colab-df-spinner');\n",
       "      try {\n",
       "        const charts = await google.colab.kernel.invokeFunction(\n",
       "            'suggestCharts', [key], {});\n",
       "      } catch (error) {\n",
       "        console.error('Error during call to suggestCharts:', error);\n",
       "      }\n",
       "      quickchartButtonEl.classList.remove('colab-df-spinner');\n",
       "      quickchartButtonEl.classList.add('colab-df-quickchart-complete');\n",
       "    }\n",
       "    (() => {\n",
       "      let quickchartButtonEl =\n",
       "        document.querySelector('#df-204f91d4-5a92-417c-9d86-59eca65a6238 button');\n",
       "      quickchartButtonEl.style.display =\n",
       "        google.colab.kernel.accessAllowed ? 'block' : 'none';\n",
       "    })();\n",
       "  </script>\n",
       "</div>\n",
       "\n",
       "  <div id=\"id_6ddde5db-75f0-4d45-84e6-c820086b2e0b\">\n",
       "    <style>\n",
       "      .colab-df-generate {\n",
       "        background-color: #E8F0FE;\n",
       "        border: none;\n",
       "        border-radius: 50%;\n",
       "        cursor: pointer;\n",
       "        display: none;\n",
       "        fill: #1967D2;\n",
       "        height: 32px;\n",
       "        padding: 0 0 0 0;\n",
       "        width: 32px;\n",
       "      }\n",
       "\n",
       "      .colab-df-generate:hover {\n",
       "        background-color: #E2EBFA;\n",
       "        box-shadow: 0px 1px 2px rgba(60, 64, 67, 0.3), 0px 1px 3px 1px rgba(60, 64, 67, 0.15);\n",
       "        fill: #174EA6;\n",
       "      }\n",
       "\n",
       "      [theme=dark] .colab-df-generate {\n",
       "        background-color: #3B4455;\n",
       "        fill: #D2E3FC;\n",
       "      }\n",
       "\n",
       "      [theme=dark] .colab-df-generate:hover {\n",
       "        background-color: #434B5C;\n",
       "        box-shadow: 0px 1px 3px 1px rgba(0, 0, 0, 0.15);\n",
       "        filter: drop-shadow(0px 1px 2px rgba(0, 0, 0, 0.3));\n",
       "        fill: #FFFFFF;\n",
       "      }\n",
       "    </style>\n",
       "    <button class=\"colab-df-generate\" onclick=\"generateWithVariable('df')\"\n",
       "            title=\"Generate code using this dataframe.\"\n",
       "            style=\"display:none;\">\n",
       "\n",
       "  <svg xmlns=\"http://www.w3.org/2000/svg\" height=\"24px\"viewBox=\"0 0 24 24\"\n",
       "       width=\"24px\">\n",
       "    <path d=\"M7,19H8.4L18.45,9,17,7.55,7,17.6ZM5,21V16.75L18.45,3.32a2,2,0,0,1,2.83,0l1.4,1.43a1.91,1.91,0,0,1,.58,1.4,1.91,1.91,0,0,1-.58,1.4L9.25,21ZM18.45,9,17,7.55Zm-12,3A5.31,5.31,0,0,0,4.9,8.1,5.31,5.31,0,0,0,1,6.5,5.31,5.31,0,0,0,4.9,4.9,5.31,5.31,0,0,0,6.5,1,5.31,5.31,0,0,0,8.1,4.9,5.31,5.31,0,0,0,12,6.5,5.46,5.46,0,0,0,6.5,12Z\"/>\n",
       "  </svg>\n",
       "    </button>\n",
       "    <script>\n",
       "      (() => {\n",
       "      const buttonEl =\n",
       "        document.querySelector('#id_6ddde5db-75f0-4d45-84e6-c820086b2e0b button.colab-df-generate');\n",
       "      buttonEl.style.display =\n",
       "        google.colab.kernel.accessAllowed ? 'block' : 'none';\n",
       "\n",
       "      buttonEl.onclick = () => {\n",
       "        google.colab.notebook.generateWithVariable('df');\n",
       "      }\n",
       "      })();\n",
       "    </script>\n",
       "  </div>\n",
       "\n",
       "    </div>\n",
       "  </div>\n"
      ],
      "text/plain": [
       "                                                  pdf_url encabezado   orga\n",
       "0    /public_oficiales/L14/CONG/BOCG/A/BOCG-14-A-70-3.PDF       BOCG       \n",
       "1    /public_oficiales/L14/CONG/BOCG/A/BOCG-14-A-65-3.PDF       BOCG       \n",
       "2  /public_oficiales/L14/CORT/BOCG/A/BOCG-14-CG-A-183.PDF       BOCG       \n",
       "3     /public_oficiales/L14/CONG/BOCG/D/BOCG-14-D-355.PDF       BOCG       \n",
       "4          /public_oficiales/L14/SEN/DS/PL/DS_P_14_69.PDF         DS  Pleno\n",
       "5     /public_oficiales/L14/CONG/DS/PL/DSCD-14-PL-134.PDF         DS  Pleno"
      ]
     },
     "metadata": {},
     "output_type": "display_data"
    }
   ],
   "source": [
    "fechas = c.get_docs_by_date(t[\"XIV\"], \"20211103\")\n",
    "\n",
    "if fechas:\n",
    "  pd.set_option('display.max_colwidth', None)\n",
    "  df = pd.DataFrame(fechas) #you can visualize any docs, you can even directlly use a term like XIV\n",
    "  df = df[['pdf_url','encabezado','orga']]\n",
    "  display(df)\n"
   ]
  },
  {
   "cell_type": "markdown",
   "metadata": {
    "id": "Wyo1YCvLSEZK"
   },
   "source": [
    "#Type 1 of sexism:\n",
    "##Violations on the reglament stablished on the 5/12/2023 document \"Recomendaciones para un uso no sexista del lenguaje en la Administración parlamentaria\""
   ]
  },
  {
   "cell_type": "markdown",
   "metadata": {
    "id": "4g2OWKajSlMR"
   },
   "source": [
    "###1. Start with divideing the data among before and after the document, for this I will define Brec and Arec"
   ]
  },
  {
   "cell_type": "markdown",
   "metadata": {
    "id": "OeMv92_9OgNe"
   },
   "source": [
    " 1.2. Now I will filter the documents to only get the sesion diaries, which is where the MPs really speak and give us the speaches we are interested in"
   ]
  },
  {
   "cell_type": "code",
   "execution_count": null,
   "metadata": {
    "id": "ztbWvZ2FWUmF"
   },
   "outputs": [],
   "source": [
    "terms = t['XIV'], t['XV']\n",
    "Arec = filter_DS_documents(get_period(terms, \"20231205\", \"99999999\"))\n",
    "Brec = filter_DS_documents(get_period(terms, \"0\", \"20231205\"))"
   ]
  },
  {
   "cell_type": "code",
   "execution_count": null,
   "metadata": {
    "colab": {
     "base_uri": "https://localhost:8080/"
    },
    "id": "NGb-HD6_YATH",
    "outputId": "219c7210-fd77-4a41-ab45-a27585965ef3"
   },
   "outputs": [
    {
     "name": "stdout",
     "output_type": "stream",
     "text": [
      "Number of documents in Arec:  249\n",
      "Number of documents in Brec:  2116\n"
     ]
    }
   ],
   "source": [
    "num_Arec = c.num_docs_term(Arec)\n",
    "num_Brec = c.num_docs_term(Brec)\n",
    "\n",
    "print(\"Number of documents in Arec: \", num_Arec)\n",
    "print(\"Number of documents in Brec: \", num_Brec)"
   ]
  },
  {
   "cell_type": "code",
   "execution_count": null,
   "metadata": {
    "id": "yc9l6ISVaHLi"
   },
   "outputs": [],
   "source": [
    "word1 = \"los y las ciudadanas\"\n",
    "mentions1_Arec = c.mentions_per_doc(word1, Arec)\n",
    "mentions1_Brec = c.mentions_per_doc(word1, Brec)\n"
   ]
  },
  {
   "cell_type": "code",
   "execution_count": null,
   "metadata": {
    "id": "SHyuaJDSeYCL"
   },
   "outputs": [],
   "source": [
    "word2 = \"los ciudadanos y las ciudadanas\"\n",
    "mentions2_Arec = c.mentions_per_doc(word2, Arec)\n",
    "mentions2_Brec = c.mentions_per_doc(word2, Brec)\n",
    "\n"
   ]
  },
  {
   "cell_type": "code",
   "execution_count": null,
   "metadata": {
    "id": "ZTTfZyHlXT1K"
   },
   "outputs": [],
   "source": [
    "word3 = \"las ciudadanas y los ciudadanos\"\n",
    "mentions3_Arec = c.mentions_per_doc(word3, Arec)\n",
    "mentions3_Brec = c.mentions_per_doc(word3, Brec)"
   ]
  },
  {
   "cell_type": "code",
   "execution_count": null,
   "metadata": {
    "colab": {
     "base_uri": "https://localhost:8080/"
    },
    "id": "c4zQoBvLAOJW",
    "outputId": "49ef3a0a-1d78-4834-ee98-80665b940bd5"
   },
   "outputs": [
    {
     "name": "stdout",
     "output_type": "stream",
     "text": [
      "Average mentions of los y las ciudadanas Brec:  0.004016064257028112\n",
      "Average mentions of los y las ciudadanas Arec:  0.006143667296786389\n",
      "Average mentions of los ciudadanos y las ciudadanas Brec:  0.11244979919678715\n",
      "Average mentions of los ciudadanos y las ciudadanas Arec:  0.07088846880907372\n",
      "Average mentions of las ciudadanas y los ciudadanos Brec:  0.0\n",
      "Average mentions of las ciudadanas y los ciudadanos Arec:  0.01275992438563327\n"
     ]
    }
   ],
   "source": [
    "def mentions_increased(mentions1_before, mentions1_after, mentions2_before, mentions2_after,mentions3_before, mentions3_after, num_Brec, num_Arec):\n",
    "  avg1_before = sum(mentions1_before) / num_Brec\n",
    "  avg1_after = sum(mentions1_after) / num_Arec\n",
    "  avg2_before = sum(mentions2_before) / num_Brec\n",
    "  avg2_after = sum(mentions2_after) / num_Arec\n",
    "  avg3_before = sum(mentions3_before) / num_Brec\n",
    "  avg3_after = sum(mentions3_after) / num_Arec\n",
    "\n",
    "\n",
    "  return avg1_after, avg1_before, avg2_after, avg2_before, avg3_after, avg3_before\n",
    "\n",
    "\n",
    "avg1_Brec, avg1_Arec,avg2_Brec, avg2_Arec, avg3_Brec, avg3_Arec, = mentions_increased(mentions1_Brec, mentions1_Arec, mentions2_Brec, mentions2_Arec, mentions3_Brec, mentions3_Arec, num_Brec, num_Arec)\n",
    "print(\"Average mentions of \" + word1 + \" Brec: \", avg1_Brec)\n",
    "print(\"Average mentions of \" + word1 + \" Arec: \", avg1_Arec)\n",
    "print(\"Average mentions of \" + word2 + \" Brec: \", avg2_Brec)\n",
    "print(\"Average mentions of \" + word2 + \" Arec: \", avg2_Arec)\n",
    "print(\"Average mentions of \" + word3 + \" Brec: \", avg3_Brec)\n",
    "print(\"Average mentions of \" + word3 + \" Arec: \", avg3_Arec)\n",
    "\n"
   ]
  }
 ],
 "metadata": {
  "colab": {
   "authorship_tag": "ABX9TyOMcdpeP2ECgTjCKUphiI1h",
   "include_colab_link": true,
   "provenance": []
  },
  "kernelspec": {
   "display_name": "Python 3 (ipykernel)",
   "language": "python",
   "name": "python3"
  },
  "language_info": {
   "codemirror_mode": {
    "name": "ipython",
    "version": 3
   },
   "file_extension": ".py",
   "mimetype": "text/x-python",
   "name": "python",
   "nbconvert_exporter": "python",
   "pygments_lexer": "ipython3",
   "version": "3.11.5"
  }
 },
 "nbformat": 4,
 "nbformat_minor": 4
}
