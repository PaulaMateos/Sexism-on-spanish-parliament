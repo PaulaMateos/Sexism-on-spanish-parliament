{
 "cells": [
  {
   "cell_type": "markdown",
   "id": "8fffa0f4-ba64-4f86-b651-e30d0135ca4f",
   "metadata": {},
   "source": [
    "# Crawl diputades"
   ]
  },
  {
   "cell_type": "code",
   "execution_count": 9,
   "id": "788f3c22-dab5-4c5a-ba92-6d2ffad89705",
   "metadata": {
    "tags": []
   },
   "outputs": [],
   "source": [
    "import logging\n",
    "import json\n",
    "import time\n",
    "from pathlib import Path\n",
    "import gzip\n",
    "from multiprocessing.pool import ThreadPool\n",
    "\n",
    "from sqlalchemy import Column, Integer, String, ForeignKey, Boolean, UniqueConstraint, Text, Index\n",
    "from sqlalchemy.orm import declarative_base, relationship, sessionmaker\n",
    "from sqlalchemy import update\n",
    "from pathlib import Path\n",
    "from sqlalchemy import create_engine\n",
    "\n",
    "import requests\n",
    "from selenium import webdriver\n",
    "import seleniumrequests\n",
    "#from seleniumrequests import Chrome\n",
    "from selenium.webdriver.chrome.options import Options\n",
    "from selenium.webdriver.chrome.service import Service\n",
    "from webdriver_manager.chrome import ChromeDriverManager\n",
    "from selenium.webdriver.common.by import By\n",
    "\n",
    "from sqlalchemy import create_engine, select\n",
    "from sqlalchemy.orm import sessionmaker\n",
    "from sqlalchemy import and_, or_\n",
    "from sqlalchemy import update\n",
    "from sqlalchemy import distinct, inspect\n",
    "from json_stream import streamable_list\n",
    "\n",
    "import pypdfium2 as pdfium\n",
    "from bs4 import BeautifulSoup"
   ]
  },
  {
   "cell_type": "markdown",
   "id": "ac09a961-aa21-4d4c-a74d-7c4515e1e232",
   "metadata": {},
   "source": [
    "## Database creation"
   ]
  },
  {
   "cell_type": "code",
   "execution_count": 14,
   "id": "5df9a0c0-49de-499e-b6a4-d9f84310a4c4",
   "metadata": {
    "tags": []
   },
   "outputs": [],
   "source": [
    "Base = declarative_base()\n",
    "\n",
    "class Document(Base):\n",
    "    __tablename__ = 'document'\n",
    "    \n",
    "    pdf_url = Column(String, primary_key=True)  \n",
    "    cve = Column(String)\n",
    "    fecha = Column(String)\n",
    "    fecha_mensaje = Column(String)\n",
    "    mensaje = Column(String)\n",
    "    ndia = Column(String)\n",
    "    numdoc = Column(String)\n",
    "    orga = Column(String)\n",
    "    seri = Column(String)\n",
    "    subi = Column(String)\n",
    "    texto = Column(Text)\n",
    "    secc = Column(String)\n",
    "    legislatura = Column(String, ForeignKey('term.term'))\n",
    "    desu = Column(String)\n",
    "    desu1 = Column(String)\n",
    "    desu2 = Column(String)\n",
    "    \n",
    "    term = relationship(\"Term\", back_populates=\"documents\")\n",
    "    interventions = relationship(\"Intervention\", back_populates=\"document\")\n",
    "\n",
    "\n",
    "class Term(Base):\n",
    "    __tablename__ = 'term'\n",
    "    term = Column(String, primary_key=True) \n",
    "    term_id = Column(Integer)  \n",
    "    president = Column(String)\n",
    "    init_date = Column(String)\n",
    "    finish_date = Column(String)\n",
    "    \n",
    "    diputades = relationship(\"Diputades\", back_populates=\"term\")\n",
    "    documents = relationship(\"Document\", back_populates=\"term\")\n",
    "\n",
    "\n",
    "class Diputades(Base):\n",
    "    __tablename__ = 'diputades'\n",
    "    id = Column(Integer, primary_key=True) # ID únic per a cada orador\n",
    "    apellidos = Column(String)\n",
    "    formacion = Column(String)\n",
    "    apellidosNombre = Column(String)\n",
    "    fchBaja = Column(String)\n",
    "    genero = Column(Integer)\n",
    "    fchAlta = Column(String)\n",
    "    idLegislatura = Column(String, ForeignKey('term.term'))\n",
    "    grupo = Column(String)\n",
    "    idCircunscripcion = Column(Integer)\n",
    "    nombreCircunscripcion = Column(String)\n",
    "    nombre = Column(String)\n",
    "    codParlamentario = Column(Integer)\n",
    "    \n",
    "    charge = Column(String)\n",
    "\n",
    "    term = relationship(\"Term\", back_populates=\"diputades\")\n",
    "    interventions = relationship(\"Intervention\", back_populates=\"speaker\")\n",
    "\n",
    "\n",
    "\n",
    "class Intervention(Base):\n",
    "    __tablename__ = 'intervention'\n",
    "    \n",
    "    id = Column(String, primary_key=True)\n",
    "    speaker_id = Column(Integer, ForeignKey('diputades.id'))\n",
    "    text = Column(String)\n",
    "    document_id = Column(String, ForeignKey('document.pdf_url'))\n",
    "    fecha = Column(String)\n",
    "    num_int = Column(Integer)\n",
    "\n",
    "    document = relationship(\"Document\", back_populates=\"interventions\")\n",
    "    speaker = relationship(\"Diputades\", back_populates=\"interventions\")\n",
    "\n",
    "\n",
    "\n",
    "def create_database(engine):\n",
    "    Base.metadata.create_all(engine)"
   ]
  },
  {
   "cell_type": "markdown",
   "id": "428f3b28-0db6-4c3e-9186-bbccff396be9",
   "metadata": {},
   "source": [
    "## Class to crawl diputades"
   ]
  },
  {
   "cell_type": "code",
   "execution_count": 27,
   "id": "fef93540-0aa1-4f2a-ac0e-99b5f407501a",
   "metadata": {
    "tags": []
   },
   "outputs": [],
   "source": [
    "class DiputadesGenerator:\n",
    "    def __init__(self, outer, id_legislatura):\n",
    "        self.id_legislatura = id_legislatura\n",
    "        self.outer = outer\n",
    "\n",
    "    def __iter__(self):\n",
    "        diputades_data = self.crawl_diputades_list(self.id_legislatura)\n",
    "        print(\"Raw response:\", diputades_data)  # Depuració\n",
    "        diputades_list = diputades_data.get(\"data\", [])  # Accedir correctament a la llista de diputats\n",
    "        print(f\"Number of diputades extracted: {len(diputades_list)}\")\n",
    "\n",
    "        for diputada in diputades_list:\n",
    "            diputada[\"id_legislatura\"] = self.id_legislatura\n",
    "            yield diputada\n",
    "\n",
    "    def crawl_diputades_list(self, id_legislatura):\n",
    "        url = (\"https://www.congreso.es/ca/busqueda-de-diputados?p_p_id=diputadomodule&p_p_lifecycle=2&p_p_state=normal&p_p_mode=view&p_p_resource_id=searchDiputados&p_p_cacheability=cacheLevelPage_diputadomodule_idLegislatura={id_legislatura}&_diputadomodule_genero=0&_diputadomodule_grupo=all&_diputadomodule_tipo=0&_diputadomodule_nombre=&_diputadomodule_apellidos=&_diputadomodule_formacion=all&_diputadomodule_filtroProvincias=%5B%5D&_diputadomodule_nombreCircunscripcion=\"\n",
    "        )\n",
    "\n",
    "        self.outer.driver.get(url)\n",
    "        e = self.outer.driver.find_element(By.TAG_NAME, 'body')\n",
    "        data = e.text.replace(\"\\n\", \" \")\n",
    "        print(\"Response text from Congreso:\", data[:500])\n",
    "\n",
    "        try:\n",
    "            return json.loads(data)\n",
    "        \n",
    "        except json.JSONDecodeError:\n",
    "            print(\"Error: La resposta no és JSON vàlid. Mostrant dades rebudes:\")\n",
    "            print(data[:500])  # Mostra només els primers 500 caràcters per depurar\n",
    "            return {\"data\": []}  # Retornem una estructura buida per evitar errors\n"
   ]
  },
  {
   "cell_type": "markdown",
   "id": "245f65d3-f7a2-4147-9c25-9b985a509df5",
   "metadata": {},
   "source": [
    "## Class to crawl"
   ]
  },
  {
   "cell_type": "code",
   "execution_count": 28,
   "id": "b999dc8b-5052-4a16-b602-cab73c790032",
   "metadata": {
    "tags": []
   },
   "outputs": [],
   "source": [
    "class CongresoCrawler:\n",
    "    def __init__(self, db: str):\n",
    "        self.engine = None\n",
    "        self.session = None\n",
    "        self.browser = None\n",
    "        self.base_url = \"https://www.congreso.es\"\n",
    "        self.base_dir = \"doc\"\n",
    "        self.db = db\n",
    "\n",
    "    def create_db(self):\n",
    "        self.engine = create_engine(self.db, echo=True, future=True)\n",
    "        create_database(self.engine)\n",
    "\n",
    "    def connect_db(self, echo=True):\n",
    "        self.engine = create_engine(self.db, echo=echo, future=True)\n",
    "        session_class = sessionmaker(bind=self.engine)\n",
    "        self.session = session_class()\n",
    "\n",
    "    def crawl(self, echo=True):\n",
    "        self.connect_db(echo)\n",
    "        self.create_driver() #calling other functions\n",
    "        self.click_accept_cookies()\n",
    "        self.get_terms()\n",
    "        terms = {term.term: term for term in self.session.query(Term).all()}\n",
    "        sorted_term_ids = sorted(terms.keys(), reverse=False)\n",
    "        for term_id in sorted_term_ids:\n",
    "            self.crawl_term(terms[term_id])\n",
    "        logging.info(\"Finished crawling Congreso de los Diputados\")\n",
    "\n",
    "    def create_driver(self):\n",
    "        options = Options()\n",
    "        #options.add_argument('--headless')\n",
    "        options.add_argument('--no-sandbox')\n",
    "        options.add_argument('--disable-dev-shm-usage')\n",
    "        self.driver = webdriver.Chrome(service=Service(ChromeDriverManager().install()), options=options)\n",
    "        \n",
    "    def click_accept_cookies(self):\n",
    "        self.driver.get(self.base_url)\n",
    "        # Accept cookies\n",
    "        continue_link = self.driver.find_element(By.LINK_TEXT, 'Aceptar todas')\n",
    "        continue_link.click()\n",
    "        \n",
    "    def get_terms(self):\n",
    "        self.driver.get(\"https://www.congreso.es/es/busqueda-de-diputados\")\n",
    "        e = self.driver.find_element(By.XPATH,'//*[@id=\"_diputadomodule_legislatura\"]') #find XPATH containing publicaciones...\n",
    "        for term_option in e.find_elements(By.TAG_NAME, 'option'): \n",
    "            term_id = int(term_option.get_attribute(\"value\"))  # Integer ID\n",
    "            term_name = term_option.text.split(\" \")[0]  # Extract Roman numeral\n",
    "            t = Term(term_id=term_id, term=term_name)\n",
    "            self.session.merge(t)  # Merge to avoid duplicates\n",
    "        self.session.commit()\n",
    "        logging.info(\"Terms committed to DB\")\n",
    "        \n",
    "    def crawl_term(self, term):\n",
    "        logging.info(f\"Starting crawling term {term.term}\")\n",
    "        it = DiputadesGenerator(self, term.term_id)\n",
    "        for i, diputada_dict in enumerate(it):\n",
    "            d = Diputades(**diputada_dict)\n",
    "            print(\"Inserting into DB:\", diputada_dict)\n",
    "            self.session.add(d)\n",
    "            if i % 10 == 0:\n",
    "                self.session.commit()\n",
    "        self.session.commit()\n",
    "        logging.info(f\"Finished crawling term {term.term}\")\n",
    "        "
   ]
  },
  {
   "cell_type": "code",
   "execution_count": 29,
   "id": "f12d0dd1-5e53-42da-8968-5a328d6a5b80",
   "metadata": {
    "tags": []
   },
   "outputs": [
    {
     "name": "stdout",
     "output_type": "stream",
     "text": [
      "2025-03-06 12:07:45,287 INFO sqlalchemy.engine.Engine BEGIN (implicit)\n"
     ]
    },
    {
     "name": "stderr",
     "output_type": "stream",
     "text": [
      "INFO:sqlalchemy.engine.Engine:BEGIN (implicit)\n"
     ]
    },
    {
     "name": "stdout",
     "output_type": "stream",
     "text": [
      "2025-03-06 12:07:45,289 INFO sqlalchemy.engine.Engine PRAGMA main.table_info(\"document\")\n"
     ]
    },
    {
     "name": "stderr",
     "output_type": "stream",
     "text": [
      "INFO:sqlalchemy.engine.Engine:PRAGMA main.table_info(\"document\")\n"
     ]
    },
    {
     "name": "stdout",
     "output_type": "stream",
     "text": [
      "2025-03-06 12:07:45,290 INFO sqlalchemy.engine.Engine [raw sql] ()\n"
     ]
    },
    {
     "name": "stderr",
     "output_type": "stream",
     "text": [
      "INFO:sqlalchemy.engine.Engine:[raw sql] ()\n"
     ]
    },
    {
     "name": "stdout",
     "output_type": "stream",
     "text": [
      "2025-03-06 12:07:45,293 INFO sqlalchemy.engine.Engine PRAGMA main.table_info(\"term\")\n"
     ]
    },
    {
     "name": "stderr",
     "output_type": "stream",
     "text": [
      "INFO:sqlalchemy.engine.Engine:PRAGMA main.table_info(\"term\")\n"
     ]
    },
    {
     "name": "stdout",
     "output_type": "stream",
     "text": [
      "2025-03-06 12:07:45,294 INFO sqlalchemy.engine.Engine [raw sql] ()\n"
     ]
    },
    {
     "name": "stderr",
     "output_type": "stream",
     "text": [
      "INFO:sqlalchemy.engine.Engine:[raw sql] ()\n"
     ]
    },
    {
     "name": "stdout",
     "output_type": "stream",
     "text": [
      "2025-03-06 12:07:45,295 INFO sqlalchemy.engine.Engine PRAGMA main.table_info(\"diputades\")\n"
     ]
    },
    {
     "name": "stderr",
     "output_type": "stream",
     "text": [
      "INFO:sqlalchemy.engine.Engine:PRAGMA main.table_info(\"diputades\")\n"
     ]
    },
    {
     "name": "stdout",
     "output_type": "stream",
     "text": [
      "2025-03-06 12:07:45,296 INFO sqlalchemy.engine.Engine [raw sql] ()\n"
     ]
    },
    {
     "name": "stderr",
     "output_type": "stream",
     "text": [
      "INFO:sqlalchemy.engine.Engine:[raw sql] ()\n"
     ]
    },
    {
     "name": "stdout",
     "output_type": "stream",
     "text": [
      "2025-03-06 12:07:45,297 INFO sqlalchemy.engine.Engine PRAGMA main.table_info(\"intervention\")\n"
     ]
    },
    {
     "name": "stderr",
     "output_type": "stream",
     "text": [
      "INFO:sqlalchemy.engine.Engine:PRAGMA main.table_info(\"intervention\")\n"
     ]
    },
    {
     "name": "stdout",
     "output_type": "stream",
     "text": [
      "2025-03-06 12:07:45,298 INFO sqlalchemy.engine.Engine [raw sql] ()\n"
     ]
    },
    {
     "name": "stderr",
     "output_type": "stream",
     "text": [
      "INFO:sqlalchemy.engine.Engine:[raw sql] ()\n"
     ]
    },
    {
     "name": "stdout",
     "output_type": "stream",
     "text": [
      "2025-03-06 12:07:45,299 INFO sqlalchemy.engine.Engine COMMIT\n"
     ]
    },
    {
     "name": "stderr",
     "output_type": "stream",
     "text": [
      "INFO:sqlalchemy.engine.Engine:COMMIT\n",
      "INFO:WDM:====== WebDriver manager ======\n",
      "INFO:WDM:Get LATEST chromedriver version for google-chrome\n",
      "DEBUG:urllib3.connectionpool:Starting new HTTPS connection (1): googlechromelabs.github.io:443\n",
      "DEBUG:urllib3.connectionpool:https://googlechromelabs.github.io:443 \"GET /chrome-for-testing/latest-patch-versions-per-build.json HTTP/1.1\" 200 10004\n",
      "INFO:WDM:Get LATEST chromedriver version for google-chrome\n",
      "DEBUG:urllib3.connectionpool:Starting new HTTPS connection (1): googlechromelabs.github.io:443\n",
      "DEBUG:urllib3.connectionpool:https://googlechromelabs.github.io:443 \"GET /chrome-for-testing/latest-patch-versions-per-build.json HTTP/1.1\" 200 10004\n",
      "INFO:WDM:Driver [/Users/paula/.wdm/drivers/chromedriver/mac64/133.0.6943.141/chromedriver-mac-x64/chromedriver] found in cache\n",
      "DEBUG:selenium.webdriver.common.service:Started executable: `/Users/paula/.wdm/drivers/chromedriver/mac64/133.0.6943.141/chromedriver-mac-x64/chromedriver` in a child process with pid: 2378 using 0 to output -3\n",
      "DEBUG:selenium.webdriver.remote.remote_connection:POST http://localhost:52805/session {'capabilities': {'firstMatch': [{}], 'alwaysMatch': {'browserName': 'chrome', 'pageLoadStrategy': <PageLoadStrategy.normal: 'normal'>, 'goog:chromeOptions': {'extensions': [], 'args': ['--no-sandbox', '--disable-dev-shm-usage']}}}}\n",
      "DEBUG:urllib3.connectionpool:Starting new HTTP connection (1): localhost:52805\n",
      "DEBUG:urllib3.connectionpool:http://localhost:52805 \"POST /session HTTP/1.1\" 200 892\n",
      "DEBUG:selenium.webdriver.remote.remote_connection:Remote response: status=200 | data={\"value\":{\"capabilities\":{\"acceptInsecureCerts\":false,\"browserName\":\"chrome\",\"browserVersion\":\"133.0.6943.142\",\"chrome\":{\"chromedriverVersion\":\"133.0.6943.141 (2a5d6da0d6165d7b107502095a937fe7704fcef6-refs/branch-heads/6943@{#1912})\",\"userDataDir\":\"/var/folders/qs/lhh_w7853vg4zbh7qws83k5h0000gn/T/.org.chromium.Chromium.WKBamI\"},\"fedcm:accounts\":true,\"goog:chromeOptions\":{\"debuggerAddress\":\"localhost:52820\"},\"networkConnectionEnabled\":false,\"pageLoadStrategy\":\"normal\",\"platformName\":\"mac\",\"proxy\":{},\"setWindowRect\":true,\"strictFileInteractability\":false,\"timeouts\":{\"implicit\":0,\"pageLoad\":300000,\"script\":30000},\"unhandledPromptBehavior\":\"dismiss and notify\",\"webauthn:extension:credBlob\":true,\"webauthn:extension:largeBlob\":true,\"webauthn:extension:minPinLength\":true,\"webauthn:extension:prf\":true,\"webauthn:virtualAuthenticators\":true},\"sessionId\":\"cf3a6d51a720300ec49e10c9dcb127d4\"}} | headers=HTTPHeaderDict({'Content-Length': '892', 'Content-Type': 'application/json; charset=utf-8', 'cache-control': 'no-cache'})\n",
      "DEBUG:selenium.webdriver.remote.remote_connection:Finished Request\n",
      "DEBUG:selenium.webdriver.remote.remote_connection:POST http://localhost:52805/session/cf3a6d51a720300ec49e10c9dcb127d4/url {'url': 'https://www.congreso.es'}\n",
      "DEBUG:urllib3.connectionpool:http://localhost:52805 \"POST /session/cf3a6d51a720300ec49e10c9dcb127d4/url HTTP/1.1\" 200 14\n",
      "DEBUG:selenium.webdriver.remote.remote_connection:Remote response: status=200 | data={\"value\":null} | headers=HTTPHeaderDict({'Content-Length': '14', 'Content-Type': 'application/json; charset=utf-8', 'cache-control': 'no-cache'})\n",
      "DEBUG:selenium.webdriver.remote.remote_connection:Finished Request\n",
      "DEBUG:selenium.webdriver.remote.remote_connection:POST http://localhost:52805/session/cf3a6d51a720300ec49e10c9dcb127d4/element {'using': 'link text', 'value': 'Aceptar todas'}\n",
      "DEBUG:urllib3.connectionpool:http://localhost:52805 \"POST /session/cf3a6d51a720300ec49e10c9dcb127d4/element HTTP/1.1\" 200 126\n",
      "DEBUG:selenium.webdriver.remote.remote_connection:Remote response: status=200 | data={\"value\":{\"element-6066-11e4-a52e-4f735466cecf\":\"f.B9A810928C24961026ED4A7AA8D3727D.d.86F84F2AD24814D82290E6728E2C6B7E.e.72\"}} | headers=HTTPHeaderDict({'Content-Length': '126', 'Content-Type': 'application/json; charset=utf-8', 'cache-control': 'no-cache'})\n",
      "DEBUG:selenium.webdriver.remote.remote_connection:Finished Request\n",
      "DEBUG:selenium.webdriver.remote.remote_connection:POST http://localhost:52805/session/cf3a6d51a720300ec49e10c9dcb127d4/element/f.B9A810928C24961026ED4A7AA8D3727D.d.86F84F2AD24814D82290E6728E2C6B7E.e.72/click {}\n",
      "DEBUG:urllib3.connectionpool:http://localhost:52805 \"POST /session/cf3a6d51a720300ec49e10c9dcb127d4/element/f.B9A810928C24961026ED4A7AA8D3727D.d.86F84F2AD24814D82290E6728E2C6B7E.e.72/click HTTP/1.1\" 200 14\n",
      "DEBUG:selenium.webdriver.remote.remote_connection:Remote response: status=200 | data={\"value\":null} | headers=HTTPHeaderDict({'Content-Length': '14', 'Content-Type': 'application/json; charset=utf-8', 'cache-control': 'no-cache'})\n",
      "DEBUG:selenium.webdriver.remote.remote_connection:Finished Request\n",
      "DEBUG:selenium.webdriver.remote.remote_connection:POST http://localhost:52805/session/cf3a6d51a720300ec49e10c9dcb127d4/url {'url': 'https://www.congreso.es/es/busqueda-de-diputados'}\n",
      "DEBUG:urllib3.connectionpool:http://localhost:52805 \"POST /session/cf3a6d51a720300ec49e10c9dcb127d4/url HTTP/1.1\" 200 14\n",
      "DEBUG:selenium.webdriver.remote.remote_connection:Remote response: status=200 | data={\"value\":null} | headers=HTTPHeaderDict({'Content-Length': '14', 'Content-Type': 'application/json; charset=utf-8', 'cache-control': 'no-cache'})\n",
      "DEBUG:selenium.webdriver.remote.remote_connection:Finished Request\n",
      "DEBUG:selenium.webdriver.remote.remote_connection:POST http://localhost:52805/session/cf3a6d51a720300ec49e10c9dcb127d4/element {'using': 'xpath', 'value': '//*[@id=\"_diputadomodule_legislatura\"]'}\n",
      "DEBUG:urllib3.connectionpool:http://localhost:52805 \"POST /session/cf3a6d51a720300ec49e10c9dcb127d4/element HTTP/1.1\" 200 126\n",
      "DEBUG:selenium.webdriver.remote.remote_connection:Remote response: status=200 | data={\"value\":{\"element-6066-11e4-a52e-4f735466cecf\":\"f.B9A810928C24961026ED4A7AA8D3727D.d.74EEA24759043D9865290D7BEC40BD7D.e.76\"}} | headers=HTTPHeaderDict({'Content-Length': '126', 'Content-Type': 'application/json; charset=utf-8', 'cache-control': 'no-cache'})\n",
      "DEBUG:selenium.webdriver.remote.remote_connection:Finished Request\n",
      "DEBUG:selenium.webdriver.remote.remote_connection:POST http://localhost:52805/session/cf3a6d51a720300ec49e10c9dcb127d4/element/f.B9A810928C24961026ED4A7AA8D3727D.d.74EEA24759043D9865290D7BEC40BD7D.e.76/elements {'using': 'tag name', 'value': 'option'}\n",
      "DEBUG:urllib3.connectionpool:http://localhost:52805 \"POST /session/cf3a6d51a720300ec49e10c9dcb127d4/element/f.B9A810928C24961026ED4A7AA8D3727D.d.74EEA24759043D9865290D7BEC40BD7D.e.76/elements HTTP/1.1\" 200 2017\n",
      "DEBUG:selenium.webdriver.remote.remote_connection:Remote response: status=200 | data={\"value\":[{\"element-6066-11e4-a52e-4f735466cecf\":\"f.B9A810928C24961026ED4A7AA8D3727D.d.74EEA24759043D9865290D7BEC40BD7D.e.109\"},{\"element-6066-11e4-a52e-4f735466cecf\":\"f.B9A810928C24961026ED4A7AA8D3727D.d.74EEA24759043D9865290D7BEC40BD7D.e.111\"},{\"element-6066-11e4-a52e-4f735466cecf\":\"f.B9A810928C24961026ED4A7AA8D3727D.d.74EEA24759043D9865290D7BEC40BD7D.e.113\"},{\"element-6066-11e4-a52e-4f735466cecf\":\"f.B9A810928C24961026ED4A7AA8D3727D.d.74EEA24759043D9865290D7BEC40BD7D.e.115\"},{\"element-6066-11e4-a52e-4f735466cecf\":\"f.B9A810928C24961026ED4A7AA8D3727D.d.74EEA24759043D9865290D7BEC40BD7D.e.117\"},{\"element-6066-11e4-a52e-4f735466cecf\":\"f.B9A810928C24961026ED4A7AA8D3727D.d.74EEA24759043D9865290D7BEC40BD7D.e.119\"},{\"element-6066-11e4-a52e-4f735466cecf\":\"f.B9A810928C24961026ED4A7AA8D3727D.d.74EEA24759043D9865290D7BEC40BD7D.e.121\"},{\"element-6066-11e4-a52e-4f735466cecf\":\"f.B9A810928C24961026ED4A7AA8D3727D.d.74EEA24759043D9865290D7BEC40BD7D.e.123\"},{\"element-6066-11e4-a52e-4f735466cecf\":\"f.B9A810928C24961026ED4A7AA8D3727D.d.74EEA24759043D9865290D7BEC40BD7D.e.125\"},{\"element-6066-11e4-a52e-4f735466cecf\":\"f.B9A810928C24961026ED4A7AA8D3727D.d.74EEA24759043D9865290D7BEC40BD7D.e.127\"},{\"element-6066-11e4-a52e-4f735466cecf\":\"f.B9A810928C24961026ED4A7AA8D3727D.d.74EEA24759043D9865290D7BEC40BD7D.e.129\"},{\"element-6066-11e4-a52e-4f735466cecf\":\"f.B9A810928C24961026ED4A7AA8D3727D.d.74EEA24759043D9865290D7BEC40BD7D.e.131\"},{\"element-6066-11e4-a52e-4f735466cecf\":\"f.B9A810928C24961026ED4A7AA8D3727D.d.74EEA24759043D9865290D7BEC40BD7D.e.133\"},{\"element-6066-11e4-a52e-4f735466cecf\":\"f.B9A810928C24961026ED4A7AA8D3727D.d.74EEA24759043D9865290D7BEC40BD7D.e.135\"},{\"element-6066-11e4-a52e-4f735466cecf\":\"f.B9A810928C24961026ED4A7AA8D3727D.d.74EEA24759043D9865290D7BEC40BD7D.e.137\"},{\"element-6066-11e4-a52e-4f735466cecf\":\"f.B9A810928C24961026ED4A7AA8D3727D.d.74EEA24759043D9865290D7BEC40BD7D.e.139\"},{\"element-6066-11e4-a52e-4f735466cecf\":\"f.B9A810928C24961026ED4A7AA8D3727D.d.74EEA24759043D9865290D7BEC40BD7D.e.141\"}]} | headers=HTTPHeaderDict({'Content-Length': '2017', 'Content-Type': 'application/json; charset=utf-8', 'cache-control': 'no-cache'})\n",
      "DEBUG:selenium.webdriver.remote.remote_connection:Finished Request\n",
      "DEBUG:selenium.webdriver.remote.remote_connection:POST http://localhost:52805/session/cf3a6d51a720300ec49e10c9dcb127d4/execute/sync {'script': '/* getAttribute */return (function(){return (function(){var d=this||self;function f(a,b){function c(...', 'args': [{'element-6066-11e4-a52e-4f735466cecf': 'f.B9A810928C24961026ED4A7AA8D3727D.d.74EEA24759043D9865290D7BEC40BD7D.e.109'}, 'value']}\n",
      "DEBUG:urllib3.connectionpool:http://localhost:52805 \"POST /session/cf3a6d51a720300ec49e10c9dcb127d4/execute/sync HTTP/1.1\" 200 14\n",
      "DEBUG:selenium.webdriver.remote.remote_connection:Remote response: status=200 | data={\"value\":\"15\"} | headers=HTTPHeaderDict({'Content-Length': '14', 'Content-Type': 'application/json; charset=utf-8', 'cache-control': 'no-cache'})\n",
      "DEBUG:selenium.webdriver.remote.remote_connection:Finished Request\n",
      "DEBUG:selenium.webdriver.remote.remote_connection:GET http://localhost:52805/session/cf3a6d51a720300ec49e10c9dcb127d4/element/f.B9A810928C24961026ED4A7AA8D3727D.d.74EEA24759043D9865290D7BEC40BD7D.e.109/text {}\n",
      "DEBUG:urllib3.connectionpool:http://localhost:52805 \"GET /session/cf3a6d51a720300ec49e10c9dcb127d4/element/f.B9A810928C24961026ED4A7AA8D3727D.d.74EEA24759043D9865290D7BEC40BD7D.e.109/text HTTP/1.1\" 200 44\n",
      "DEBUG:selenium.webdriver.remote.remote_connection:Remote response: status=200 | data={\"value\":\"XV Legislatura (2023-Actualidad)\"} | headers=HTTPHeaderDict({'Content-Length': '44', 'Content-Type': 'application/json; charset=utf-8', 'cache-control': 'no-cache'})\n",
      "DEBUG:selenium.webdriver.remote.remote_connection:Finished Request\n"
     ]
    },
    {
     "name": "stdout",
     "output_type": "stream",
     "text": [
      "2025-03-06 12:07:55,321 INFO sqlalchemy.engine.Engine BEGIN (implicit)\n"
     ]
    },
    {
     "name": "stderr",
     "output_type": "stream",
     "text": [
      "INFO:sqlalchemy.engine.Engine:BEGIN (implicit)\n"
     ]
    },
    {
     "name": "stdout",
     "output_type": "stream",
     "text": [
      "2025-03-06 12:07:55,325 INFO sqlalchemy.engine.Engine SELECT term.term AS term_term, term.term_id AS term_term_id, term.president AS term_president, term.init_date AS term_init_date, term.finish_date AS term_finish_date \n",
      "FROM term \n",
      "WHERE term.term = ?\n"
     ]
    },
    {
     "name": "stderr",
     "output_type": "stream",
     "text": [
      "INFO:sqlalchemy.engine.Engine:SELECT term.term AS term_term, term.term_id AS term_term_id, term.president AS term_president, term.init_date AS term_init_date, term.finish_date AS term_finish_date \n",
      "FROM term \n",
      "WHERE term.term = ?\n"
     ]
    },
    {
     "name": "stdout",
     "output_type": "stream",
     "text": [
      "2025-03-06 12:07:55,326 INFO sqlalchemy.engine.Engine [generated in 0.00115s] ('XV',)\n"
     ]
    },
    {
     "name": "stderr",
     "output_type": "stream",
     "text": [
      "INFO:sqlalchemy.engine.Engine:[generated in 0.00115s] ('XV',)\n",
      "DEBUG:selenium.webdriver.remote.remote_connection:POST http://localhost:52805/session/cf3a6d51a720300ec49e10c9dcb127d4/execute/sync {'script': '/* getAttribute */return (function(){return (function(){var d=this||self;function f(a,b){function c(...', 'args': [{'element-6066-11e4-a52e-4f735466cecf': 'f.B9A810928C24961026ED4A7AA8D3727D.d.74EEA24759043D9865290D7BEC40BD7D.e.111'}, 'value']}\n",
      "DEBUG:urllib3.connectionpool:http://localhost:52805 \"POST /session/cf3a6d51a720300ec49e10c9dcb127d4/execute/sync HTTP/1.1\" 200 14\n",
      "DEBUG:selenium.webdriver.remote.remote_connection:Remote response: status=200 | data={\"value\":\"14\"} | headers=HTTPHeaderDict({'Content-Length': '14', 'Content-Type': 'application/json; charset=utf-8', 'cache-control': 'no-cache'})\n",
      "DEBUG:selenium.webdriver.remote.remote_connection:Finished Request\n",
      "DEBUG:selenium.webdriver.remote.remote_connection:GET http://localhost:52805/session/cf3a6d51a720300ec49e10c9dcb127d4/element/f.B9A810928C24961026ED4A7AA8D3727D.d.74EEA24759043D9865290D7BEC40BD7D.e.111/text {}\n",
      "DEBUG:urllib3.connectionpool:http://localhost:52805 \"GET /session/cf3a6d51a720300ec49e10c9dcb127d4/element/f.B9A810928C24961026ED4A7AA8D3727D.d.74EEA24759043D9865290D7BEC40BD7D.e.111/text HTTP/1.1\" 200 39\n",
      "DEBUG:selenium.webdriver.remote.remote_connection:Remote response: status=200 | data={\"value\":\"XIV Legislatura (2019-2023)\"} | headers=HTTPHeaderDict({'Content-Length': '39', 'Content-Type': 'application/json; charset=utf-8', 'cache-control': 'no-cache'})\n",
      "DEBUG:selenium.webdriver.remote.remote_connection:Finished Request\n"
     ]
    },
    {
     "name": "stdout",
     "output_type": "stream",
     "text": [
      "2025-03-06 12:07:55,349 INFO sqlalchemy.engine.Engine SELECT term.term AS term_term, term.term_id AS term_term_id, term.president AS term_president, term.init_date AS term_init_date, term.finish_date AS term_finish_date \n",
      "FROM term \n",
      "WHERE term.term = ?\n"
     ]
    },
    {
     "name": "stderr",
     "output_type": "stream",
     "text": [
      "INFO:sqlalchemy.engine.Engine:SELECT term.term AS term_term, term.term_id AS term_term_id, term.president AS term_president, term.init_date AS term_init_date, term.finish_date AS term_finish_date \n",
      "FROM term \n",
      "WHERE term.term = ?\n"
     ]
    },
    {
     "name": "stdout",
     "output_type": "stream",
     "text": [
      "2025-03-06 12:07:55,350 INFO sqlalchemy.engine.Engine [cached since 0.02436s ago] ('XIV',)\n"
     ]
    },
    {
     "name": "stderr",
     "output_type": "stream",
     "text": [
      "INFO:sqlalchemy.engine.Engine:[cached since 0.02436s ago] ('XIV',)\n",
      "DEBUG:selenium.webdriver.remote.remote_connection:POST http://localhost:52805/session/cf3a6d51a720300ec49e10c9dcb127d4/execute/sync {'script': '/* getAttribute */return (function(){return (function(){var d=this||self;function f(a,b){function c(...', 'args': [{'element-6066-11e4-a52e-4f735466cecf': 'f.B9A810928C24961026ED4A7AA8D3727D.d.74EEA24759043D9865290D7BEC40BD7D.e.113'}, 'value']}\n",
      "DEBUG:urllib3.connectionpool:http://localhost:52805 \"POST /session/cf3a6d51a720300ec49e10c9dcb127d4/execute/sync HTTP/1.1\" 200 14\n",
      "DEBUG:selenium.webdriver.remote.remote_connection:Remote response: status=200 | data={\"value\":\"13\"} | headers=HTTPHeaderDict({'Content-Length': '14', 'Content-Type': 'application/json; charset=utf-8', 'cache-control': 'no-cache'})\n",
      "DEBUG:selenium.webdriver.remote.remote_connection:Finished Request\n",
      "DEBUG:selenium.webdriver.remote.remote_connection:GET http://localhost:52805/session/cf3a6d51a720300ec49e10c9dcb127d4/element/f.B9A810928C24961026ED4A7AA8D3727D.d.74EEA24759043D9865290D7BEC40BD7D.e.113/text {}\n",
      "DEBUG:urllib3.connectionpool:http://localhost:52805 \"GET /session/cf3a6d51a720300ec49e10c9dcb127d4/element/f.B9A810928C24961026ED4A7AA8D3727D.d.74EEA24759043D9865290D7BEC40BD7D.e.113/text HTTP/1.1\" 200 40\n",
      "DEBUG:selenium.webdriver.remote.remote_connection:Remote response: status=200 | data={\"value\":\"XIII Legislatura (2019-2019)\"} | headers=HTTPHeaderDict({'Content-Length': '40', 'Content-Type': 'application/json; charset=utf-8', 'cache-control': 'no-cache'})\n",
      "DEBUG:selenium.webdriver.remote.remote_connection:Finished Request\n"
     ]
    },
    {
     "name": "stdout",
     "output_type": "stream",
     "text": [
      "2025-03-06 12:07:55,372 INFO sqlalchemy.engine.Engine SELECT term.term AS term_term, term.term_id AS term_term_id, term.president AS term_president, term.init_date AS term_init_date, term.finish_date AS term_finish_date \n",
      "FROM term \n",
      "WHERE term.term = ?\n"
     ]
    },
    {
     "name": "stderr",
     "output_type": "stream",
     "text": [
      "INFO:sqlalchemy.engine.Engine:SELECT term.term AS term_term, term.term_id AS term_term_id, term.president AS term_president, term.init_date AS term_init_date, term.finish_date AS term_finish_date \n",
      "FROM term \n",
      "WHERE term.term = ?\n"
     ]
    },
    {
     "name": "stdout",
     "output_type": "stream",
     "text": [
      "2025-03-06 12:07:55,374 INFO sqlalchemy.engine.Engine [cached since 0.04832s ago] ('XIII',)\n"
     ]
    },
    {
     "name": "stderr",
     "output_type": "stream",
     "text": [
      "INFO:sqlalchemy.engine.Engine:[cached since 0.04832s ago] ('XIII',)\n",
      "DEBUG:selenium.webdriver.remote.remote_connection:POST http://localhost:52805/session/cf3a6d51a720300ec49e10c9dcb127d4/execute/sync {'script': '/* getAttribute */return (function(){return (function(){var d=this||self;function f(a,b){function c(...', 'args': [{'element-6066-11e4-a52e-4f735466cecf': 'f.B9A810928C24961026ED4A7AA8D3727D.d.74EEA24759043D9865290D7BEC40BD7D.e.115'}, 'value']}\n",
      "DEBUG:urllib3.connectionpool:http://localhost:52805 \"POST /session/cf3a6d51a720300ec49e10c9dcb127d4/execute/sync HTTP/1.1\" 200 14\n",
      "DEBUG:selenium.webdriver.remote.remote_connection:Remote response: status=200 | data={\"value\":\"12\"} | headers=HTTPHeaderDict({'Content-Length': '14', 'Content-Type': 'application/json; charset=utf-8', 'cache-control': 'no-cache'})\n",
      "DEBUG:selenium.webdriver.remote.remote_connection:Finished Request\n",
      "DEBUG:selenium.webdriver.remote.remote_connection:GET http://localhost:52805/session/cf3a6d51a720300ec49e10c9dcb127d4/element/f.B9A810928C24961026ED4A7AA8D3727D.d.74EEA24759043D9865290D7BEC40BD7D.e.115/text {}\n",
      "DEBUG:urllib3.connectionpool:http://localhost:52805 \"GET /session/cf3a6d51a720300ec49e10c9dcb127d4/element/f.B9A810928C24961026ED4A7AA8D3727D.d.74EEA24759043D9865290D7BEC40BD7D.e.115/text HTTP/1.1\" 200 39\n",
      "DEBUG:selenium.webdriver.remote.remote_connection:Remote response: status=200 | data={\"value\":\"XII Legislatura (2016-2019)\"} | headers=HTTPHeaderDict({'Content-Length': '39', 'Content-Type': 'application/json; charset=utf-8', 'cache-control': 'no-cache'})\n",
      "DEBUG:selenium.webdriver.remote.remote_connection:Finished Request\n"
     ]
    },
    {
     "name": "stdout",
     "output_type": "stream",
     "text": [
      "2025-03-06 12:07:55,392 INFO sqlalchemy.engine.Engine SELECT term.term AS term_term, term.term_id AS term_term_id, term.president AS term_president, term.init_date AS term_init_date, term.finish_date AS term_finish_date \n",
      "FROM term \n",
      "WHERE term.term = ?\n"
     ]
    },
    {
     "name": "stderr",
     "output_type": "stream",
     "text": [
      "INFO:sqlalchemy.engine.Engine:SELECT term.term AS term_term, term.term_id AS term_term_id, term.president AS term_president, term.init_date AS term_init_date, term.finish_date AS term_finish_date \n",
      "FROM term \n",
      "WHERE term.term = ?\n"
     ]
    },
    {
     "name": "stdout",
     "output_type": "stream",
     "text": [
      "2025-03-06 12:07:55,393 INFO sqlalchemy.engine.Engine [cached since 0.06808s ago] ('XII',)\n"
     ]
    },
    {
     "name": "stderr",
     "output_type": "stream",
     "text": [
      "INFO:sqlalchemy.engine.Engine:[cached since 0.06808s ago] ('XII',)\n",
      "DEBUG:selenium.webdriver.remote.remote_connection:POST http://localhost:52805/session/cf3a6d51a720300ec49e10c9dcb127d4/execute/sync {'script': '/* getAttribute */return (function(){return (function(){var d=this||self;function f(a,b){function c(...', 'args': [{'element-6066-11e4-a52e-4f735466cecf': 'f.B9A810928C24961026ED4A7AA8D3727D.d.74EEA24759043D9865290D7BEC40BD7D.e.117'}, 'value']}\n",
      "DEBUG:urllib3.connectionpool:http://localhost:52805 \"POST /session/cf3a6d51a720300ec49e10c9dcb127d4/execute/sync HTTP/1.1\" 200 14\n",
      "DEBUG:selenium.webdriver.remote.remote_connection:Remote response: status=200 | data={\"value\":\"11\"} | headers=HTTPHeaderDict({'Content-Length': '14', 'Content-Type': 'application/json; charset=utf-8', 'cache-control': 'no-cache'})\n",
      "DEBUG:selenium.webdriver.remote.remote_connection:Finished Request\n",
      "DEBUG:selenium.webdriver.remote.remote_connection:GET http://localhost:52805/session/cf3a6d51a720300ec49e10c9dcb127d4/element/f.B9A810928C24961026ED4A7AA8D3727D.d.74EEA24759043D9865290D7BEC40BD7D.e.117/text {}\n",
      "DEBUG:urllib3.connectionpool:http://localhost:52805 \"GET /session/cf3a6d51a720300ec49e10c9dcb127d4/element/f.B9A810928C24961026ED4A7AA8D3727D.d.74EEA24759043D9865290D7BEC40BD7D.e.117/text HTTP/1.1\" 200 38\n",
      "DEBUG:selenium.webdriver.remote.remote_connection:Remote response: status=200 | data={\"value\":\"XI Legislatura (2016-2016)\"} | headers=HTTPHeaderDict({'Content-Length': '38', 'Content-Type': 'application/json; charset=utf-8', 'cache-control': 'no-cache'})\n",
      "DEBUG:selenium.webdriver.remote.remote_connection:Finished Request\n"
     ]
    },
    {
     "name": "stdout",
     "output_type": "stream",
     "text": [
      "2025-03-06 12:07:55,414 INFO sqlalchemy.engine.Engine SELECT term.term AS term_term, term.term_id AS term_term_id, term.president AS term_president, term.init_date AS term_init_date, term.finish_date AS term_finish_date \n",
      "FROM term \n",
      "WHERE term.term = ?\n"
     ]
    },
    {
     "name": "stderr",
     "output_type": "stream",
     "text": [
      "INFO:sqlalchemy.engine.Engine:SELECT term.term AS term_term, term.term_id AS term_term_id, term.president AS term_president, term.init_date AS term_init_date, term.finish_date AS term_finish_date \n",
      "FROM term \n",
      "WHERE term.term = ?\n"
     ]
    },
    {
     "name": "stdout",
     "output_type": "stream",
     "text": [
      "2025-03-06 12:07:55,415 INFO sqlalchemy.engine.Engine [cached since 0.08969s ago] ('XI',)\n"
     ]
    },
    {
     "name": "stderr",
     "output_type": "stream",
     "text": [
      "INFO:sqlalchemy.engine.Engine:[cached since 0.08969s ago] ('XI',)\n",
      "DEBUG:selenium.webdriver.remote.remote_connection:POST http://localhost:52805/session/cf3a6d51a720300ec49e10c9dcb127d4/execute/sync {'script': '/* getAttribute */return (function(){return (function(){var d=this||self;function f(a,b){function c(...', 'args': [{'element-6066-11e4-a52e-4f735466cecf': 'f.B9A810928C24961026ED4A7AA8D3727D.d.74EEA24759043D9865290D7BEC40BD7D.e.119'}, 'value']}\n",
      "DEBUG:urllib3.connectionpool:http://localhost:52805 \"POST /session/cf3a6d51a720300ec49e10c9dcb127d4/execute/sync HTTP/1.1\" 200 14\n",
      "DEBUG:selenium.webdriver.remote.remote_connection:Remote response: status=200 | data={\"value\":\"10\"} | headers=HTTPHeaderDict({'Content-Length': '14', 'Content-Type': 'application/json; charset=utf-8', 'cache-control': 'no-cache'})\n",
      "DEBUG:selenium.webdriver.remote.remote_connection:Finished Request\n",
      "DEBUG:selenium.webdriver.remote.remote_connection:GET http://localhost:52805/session/cf3a6d51a720300ec49e10c9dcb127d4/element/f.B9A810928C24961026ED4A7AA8D3727D.d.74EEA24759043D9865290D7BEC40BD7D.e.119/text {}\n",
      "DEBUG:urllib3.connectionpool:http://localhost:52805 \"GET /session/cf3a6d51a720300ec49e10c9dcb127d4/element/f.B9A810928C24961026ED4A7AA8D3727D.d.74EEA24759043D9865290D7BEC40BD7D.e.119/text HTTP/1.1\" 200 37\n",
      "DEBUG:selenium.webdriver.remote.remote_connection:Remote response: status=200 | data={\"value\":\"X Legislatura (2011-2016)\"} | headers=HTTPHeaderDict({'Content-Length': '37', 'Content-Type': 'application/json; charset=utf-8', 'cache-control': 'no-cache'})\n",
      "DEBUG:selenium.webdriver.remote.remote_connection:Finished Request\n"
     ]
    },
    {
     "name": "stdout",
     "output_type": "stream",
     "text": [
      "2025-03-06 12:07:55,471 INFO sqlalchemy.engine.Engine SELECT term.term AS term_term, term.term_id AS term_term_id, term.president AS term_president, term.init_date AS term_init_date, term.finish_date AS term_finish_date \n",
      "FROM term \n",
      "WHERE term.term = ?\n"
     ]
    },
    {
     "name": "stderr",
     "output_type": "stream",
     "text": [
      "INFO:sqlalchemy.engine.Engine:SELECT term.term AS term_term, term.term_id AS term_term_id, term.president AS term_president, term.init_date AS term_init_date, term.finish_date AS term_finish_date \n",
      "FROM term \n",
      "WHERE term.term = ?\n"
     ]
    },
    {
     "name": "stdout",
     "output_type": "stream",
     "text": [
      "2025-03-06 12:07:55,472 INFO sqlalchemy.engine.Engine [cached since 0.1472s ago] ('X',)\n"
     ]
    },
    {
     "name": "stderr",
     "output_type": "stream",
     "text": [
      "INFO:sqlalchemy.engine.Engine:[cached since 0.1472s ago] ('X',)\n",
      "DEBUG:selenium.webdriver.remote.remote_connection:POST http://localhost:52805/session/cf3a6d51a720300ec49e10c9dcb127d4/execute/sync {'script': '/* getAttribute */return (function(){return (function(){var d=this||self;function f(a,b){function c(...', 'args': [{'element-6066-11e4-a52e-4f735466cecf': 'f.B9A810928C24961026ED4A7AA8D3727D.d.74EEA24759043D9865290D7BEC40BD7D.e.121'}, 'value']}\n",
      "DEBUG:urllib3.connectionpool:http://localhost:52805 \"POST /session/cf3a6d51a720300ec49e10c9dcb127d4/execute/sync HTTP/1.1\" 200 13\n",
      "DEBUG:selenium.webdriver.remote.remote_connection:Remote response: status=200 | data={\"value\":\"9\"} | headers=HTTPHeaderDict({'Content-Length': '13', 'Content-Type': 'application/json; charset=utf-8', 'cache-control': 'no-cache'})\n",
      "DEBUG:selenium.webdriver.remote.remote_connection:Finished Request\n",
      "DEBUG:selenium.webdriver.remote.remote_connection:GET http://localhost:52805/session/cf3a6d51a720300ec49e10c9dcb127d4/element/f.B9A810928C24961026ED4A7AA8D3727D.d.74EEA24759043D9865290D7BEC40BD7D.e.121/text {}\n",
      "DEBUG:urllib3.connectionpool:http://localhost:52805 \"GET /session/cf3a6d51a720300ec49e10c9dcb127d4/element/f.B9A810928C24961026ED4A7AA8D3727D.d.74EEA24759043D9865290D7BEC40BD7D.e.121/text HTTP/1.1\" 200 38\n",
      "DEBUG:selenium.webdriver.remote.remote_connection:Remote response: status=200 | data={\"value\":\"IX Legislatura (2008-2011)\"} | headers=HTTPHeaderDict({'Content-Length': '38', 'Content-Type': 'application/json; charset=utf-8', 'cache-control': 'no-cache'})\n",
      "DEBUG:selenium.webdriver.remote.remote_connection:Finished Request\n"
     ]
    },
    {
     "name": "stdout",
     "output_type": "stream",
     "text": [
      "2025-03-06 12:07:55,495 INFO sqlalchemy.engine.Engine SELECT term.term AS term_term, term.term_id AS term_term_id, term.president AS term_president, term.init_date AS term_init_date, term.finish_date AS term_finish_date \n",
      "FROM term \n",
      "WHERE term.term = ?\n"
     ]
    },
    {
     "name": "stderr",
     "output_type": "stream",
     "text": [
      "INFO:sqlalchemy.engine.Engine:SELECT term.term AS term_term, term.term_id AS term_term_id, term.president AS term_president, term.init_date AS term_init_date, term.finish_date AS term_finish_date \n",
      "FROM term \n",
      "WHERE term.term = ?\n"
     ]
    },
    {
     "name": "stdout",
     "output_type": "stream",
     "text": [
      "2025-03-06 12:07:55,496 INFO sqlalchemy.engine.Engine [cached since 0.1709s ago] ('IX',)\n"
     ]
    },
    {
     "name": "stderr",
     "output_type": "stream",
     "text": [
      "INFO:sqlalchemy.engine.Engine:[cached since 0.1709s ago] ('IX',)\n",
      "DEBUG:selenium.webdriver.remote.remote_connection:POST http://localhost:52805/session/cf3a6d51a720300ec49e10c9dcb127d4/execute/sync {'script': '/* getAttribute */return (function(){return (function(){var d=this||self;function f(a,b){function c(...', 'args': [{'element-6066-11e4-a52e-4f735466cecf': 'f.B9A810928C24961026ED4A7AA8D3727D.d.74EEA24759043D9865290D7BEC40BD7D.e.123'}, 'value']}\n",
      "DEBUG:urllib3.connectionpool:http://localhost:52805 \"POST /session/cf3a6d51a720300ec49e10c9dcb127d4/execute/sync HTTP/1.1\" 200 13\n",
      "DEBUG:selenium.webdriver.remote.remote_connection:Remote response: status=200 | data={\"value\":\"8\"} | headers=HTTPHeaderDict({'Content-Length': '13', 'Content-Type': 'application/json; charset=utf-8', 'cache-control': 'no-cache'})\n",
      "DEBUG:selenium.webdriver.remote.remote_connection:Finished Request\n",
      "DEBUG:selenium.webdriver.remote.remote_connection:GET http://localhost:52805/session/cf3a6d51a720300ec49e10c9dcb127d4/element/f.B9A810928C24961026ED4A7AA8D3727D.d.74EEA24759043D9865290D7BEC40BD7D.e.123/text {}\n",
      "DEBUG:urllib3.connectionpool:http://localhost:52805 \"GET /session/cf3a6d51a720300ec49e10c9dcb127d4/element/f.B9A810928C24961026ED4A7AA8D3727D.d.74EEA24759043D9865290D7BEC40BD7D.e.123/text HTTP/1.1\" 200 40\n",
      "DEBUG:selenium.webdriver.remote.remote_connection:Remote response: status=200 | data={\"value\":\"VIII Legislatura (2004-2008)\"} | headers=HTTPHeaderDict({'Content-Length': '40', 'Content-Type': 'application/json; charset=utf-8', 'cache-control': 'no-cache'})\n",
      "DEBUG:selenium.webdriver.remote.remote_connection:Finished Request\n"
     ]
    },
    {
     "name": "stdout",
     "output_type": "stream",
     "text": [
      "2025-03-06 12:07:55,518 INFO sqlalchemy.engine.Engine SELECT term.term AS term_term, term.term_id AS term_term_id, term.president AS term_president, term.init_date AS term_init_date, term.finish_date AS term_finish_date \n",
      "FROM term \n",
      "WHERE term.term = ?\n"
     ]
    },
    {
     "name": "stderr",
     "output_type": "stream",
     "text": [
      "INFO:sqlalchemy.engine.Engine:SELECT term.term AS term_term, term.term_id AS term_term_id, term.president AS term_president, term.init_date AS term_init_date, term.finish_date AS term_finish_date \n",
      "FROM term \n",
      "WHERE term.term = ?\n"
     ]
    },
    {
     "name": "stdout",
     "output_type": "stream",
     "text": [
      "2025-03-06 12:07:55,521 INFO sqlalchemy.engine.Engine [cached since 0.1954s ago] ('VIII',)\n"
     ]
    },
    {
     "name": "stderr",
     "output_type": "stream",
     "text": [
      "INFO:sqlalchemy.engine.Engine:[cached since 0.1954s ago] ('VIII',)\n",
      "DEBUG:selenium.webdriver.remote.remote_connection:POST http://localhost:52805/session/cf3a6d51a720300ec49e10c9dcb127d4/execute/sync {'script': '/* getAttribute */return (function(){return (function(){var d=this||self;function f(a,b){function c(...', 'args': [{'element-6066-11e4-a52e-4f735466cecf': 'f.B9A810928C24961026ED4A7AA8D3727D.d.74EEA24759043D9865290D7BEC40BD7D.e.125'}, 'value']}\n",
      "DEBUG:urllib3.connectionpool:http://localhost:52805 \"POST /session/cf3a6d51a720300ec49e10c9dcb127d4/execute/sync HTTP/1.1\" 200 13\n",
      "DEBUG:selenium.webdriver.remote.remote_connection:Remote response: status=200 | data={\"value\":\"7\"} | headers=HTTPHeaderDict({'Content-Length': '13', 'Content-Type': 'application/json; charset=utf-8', 'cache-control': 'no-cache'})\n",
      "DEBUG:selenium.webdriver.remote.remote_connection:Finished Request\n",
      "DEBUG:selenium.webdriver.remote.remote_connection:GET http://localhost:52805/session/cf3a6d51a720300ec49e10c9dcb127d4/element/f.B9A810928C24961026ED4A7AA8D3727D.d.74EEA24759043D9865290D7BEC40BD7D.e.125/text {}\n",
      "DEBUG:urllib3.connectionpool:http://localhost:52805 \"GET /session/cf3a6d51a720300ec49e10c9dcb127d4/element/f.B9A810928C24961026ED4A7AA8D3727D.d.74EEA24759043D9865290D7BEC40BD7D.e.125/text HTTP/1.1\" 200 39\n",
      "DEBUG:selenium.webdriver.remote.remote_connection:Remote response: status=200 | data={\"value\":\"VII Legislatura (2000-2004)\"} | headers=HTTPHeaderDict({'Content-Length': '39', 'Content-Type': 'application/json; charset=utf-8', 'cache-control': 'no-cache'})\n",
      "DEBUG:selenium.webdriver.remote.remote_connection:Finished Request\n"
     ]
    },
    {
     "name": "stdout",
     "output_type": "stream",
     "text": [
      "2025-03-06 12:07:55,540 INFO sqlalchemy.engine.Engine SELECT term.term AS term_term, term.term_id AS term_term_id, term.president AS term_president, term.init_date AS term_init_date, term.finish_date AS term_finish_date \n",
      "FROM term \n",
      "WHERE term.term = ?\n"
     ]
    },
    {
     "name": "stderr",
     "output_type": "stream",
     "text": [
      "INFO:sqlalchemy.engine.Engine:SELECT term.term AS term_term, term.term_id AS term_term_id, term.president AS term_president, term.init_date AS term_init_date, term.finish_date AS term_finish_date \n",
      "FROM term \n",
      "WHERE term.term = ?\n"
     ]
    },
    {
     "name": "stdout",
     "output_type": "stream",
     "text": [
      "2025-03-06 12:07:55,541 INFO sqlalchemy.engine.Engine [cached since 0.216s ago] ('VII',)\n"
     ]
    },
    {
     "name": "stderr",
     "output_type": "stream",
     "text": [
      "INFO:sqlalchemy.engine.Engine:[cached since 0.216s ago] ('VII',)\n",
      "DEBUG:selenium.webdriver.remote.remote_connection:POST http://localhost:52805/session/cf3a6d51a720300ec49e10c9dcb127d4/execute/sync {'script': '/* getAttribute */return (function(){return (function(){var d=this||self;function f(a,b){function c(...', 'args': [{'element-6066-11e4-a52e-4f735466cecf': 'f.B9A810928C24961026ED4A7AA8D3727D.d.74EEA24759043D9865290D7BEC40BD7D.e.127'}, 'value']}\n",
      "DEBUG:urllib3.connectionpool:http://localhost:52805 \"POST /session/cf3a6d51a720300ec49e10c9dcb127d4/execute/sync HTTP/1.1\" 200 13\n",
      "DEBUG:selenium.webdriver.remote.remote_connection:Remote response: status=200 | data={\"value\":\"6\"} | headers=HTTPHeaderDict({'Content-Length': '13', 'Content-Type': 'application/json; charset=utf-8', 'cache-control': 'no-cache'})\n",
      "DEBUG:selenium.webdriver.remote.remote_connection:Finished Request\n",
      "DEBUG:selenium.webdriver.remote.remote_connection:GET http://localhost:52805/session/cf3a6d51a720300ec49e10c9dcb127d4/element/f.B9A810928C24961026ED4A7AA8D3727D.d.74EEA24759043D9865290D7BEC40BD7D.e.127/text {}\n",
      "DEBUG:urllib3.connectionpool:http://localhost:52805 \"GET /session/cf3a6d51a720300ec49e10c9dcb127d4/element/f.B9A810928C24961026ED4A7AA8D3727D.d.74EEA24759043D9865290D7BEC40BD7D.e.127/text HTTP/1.1\" 200 38\n",
      "DEBUG:selenium.webdriver.remote.remote_connection:Remote response: status=200 | data={\"value\":\"VI Legislatura (1996-2000)\"} | headers=HTTPHeaderDict({'Content-Length': '38', 'Content-Type': 'application/json; charset=utf-8', 'cache-control': 'no-cache'})\n",
      "DEBUG:selenium.webdriver.remote.remote_connection:Finished Request\n"
     ]
    },
    {
     "name": "stdout",
     "output_type": "stream",
     "text": [
      "2025-03-06 12:07:55,561 INFO sqlalchemy.engine.Engine SELECT term.term AS term_term, term.term_id AS term_term_id, term.president AS term_president, term.init_date AS term_init_date, term.finish_date AS term_finish_date \n",
      "FROM term \n",
      "WHERE term.term = ?\n"
     ]
    },
    {
     "name": "stderr",
     "output_type": "stream",
     "text": [
      "INFO:sqlalchemy.engine.Engine:SELECT term.term AS term_term, term.term_id AS term_term_id, term.president AS term_president, term.init_date AS term_init_date, term.finish_date AS term_finish_date \n",
      "FROM term \n",
      "WHERE term.term = ?\n"
     ]
    },
    {
     "name": "stdout",
     "output_type": "stream",
     "text": [
      "2025-03-06 12:07:55,562 INFO sqlalchemy.engine.Engine [cached since 0.237s ago] ('VI',)\n"
     ]
    },
    {
     "name": "stderr",
     "output_type": "stream",
     "text": [
      "INFO:sqlalchemy.engine.Engine:[cached since 0.237s ago] ('VI',)\n",
      "DEBUG:selenium.webdriver.remote.remote_connection:POST http://localhost:52805/session/cf3a6d51a720300ec49e10c9dcb127d4/execute/sync {'script': '/* getAttribute */return (function(){return (function(){var d=this||self;function f(a,b){function c(...', 'args': [{'element-6066-11e4-a52e-4f735466cecf': 'f.B9A810928C24961026ED4A7AA8D3727D.d.74EEA24759043D9865290D7BEC40BD7D.e.129'}, 'value']}\n",
      "DEBUG:urllib3.connectionpool:http://localhost:52805 \"POST /session/cf3a6d51a720300ec49e10c9dcb127d4/execute/sync HTTP/1.1\" 200 13\n",
      "DEBUG:selenium.webdriver.remote.remote_connection:Remote response: status=200 | data={\"value\":\"5\"} | headers=HTTPHeaderDict({'Content-Length': '13', 'Content-Type': 'application/json; charset=utf-8', 'cache-control': 'no-cache'})\n",
      "DEBUG:selenium.webdriver.remote.remote_connection:Finished Request\n",
      "DEBUG:selenium.webdriver.remote.remote_connection:GET http://localhost:52805/session/cf3a6d51a720300ec49e10c9dcb127d4/element/f.B9A810928C24961026ED4A7AA8D3727D.d.74EEA24759043D9865290D7BEC40BD7D.e.129/text {}\n",
      "DEBUG:urllib3.connectionpool:http://localhost:52805 \"GET /session/cf3a6d51a720300ec49e10c9dcb127d4/element/f.B9A810928C24961026ED4A7AA8D3727D.d.74EEA24759043D9865290D7BEC40BD7D.e.129/text HTTP/1.1\" 200 37\n",
      "DEBUG:selenium.webdriver.remote.remote_connection:Remote response: status=200 | data={\"value\":\"V Legislatura (1993-1996)\"} | headers=HTTPHeaderDict({'Content-Length': '37', 'Content-Type': 'application/json; charset=utf-8', 'cache-control': 'no-cache'})\n",
      "DEBUG:selenium.webdriver.remote.remote_connection:Finished Request\n"
     ]
    },
    {
     "name": "stdout",
     "output_type": "stream",
     "text": [
      "2025-03-06 12:07:55,582 INFO sqlalchemy.engine.Engine SELECT term.term AS term_term, term.term_id AS term_term_id, term.president AS term_president, term.init_date AS term_init_date, term.finish_date AS term_finish_date \n",
      "FROM term \n",
      "WHERE term.term = ?\n"
     ]
    },
    {
     "name": "stderr",
     "output_type": "stream",
     "text": [
      "INFO:sqlalchemy.engine.Engine:SELECT term.term AS term_term, term.term_id AS term_term_id, term.president AS term_president, term.init_date AS term_init_date, term.finish_date AS term_finish_date \n",
      "FROM term \n",
      "WHERE term.term = ?\n"
     ]
    },
    {
     "name": "stdout",
     "output_type": "stream",
     "text": [
      "2025-03-06 12:07:55,583 INFO sqlalchemy.engine.Engine [cached since 0.2578s ago] ('V',)\n"
     ]
    },
    {
     "name": "stderr",
     "output_type": "stream",
     "text": [
      "INFO:sqlalchemy.engine.Engine:[cached since 0.2578s ago] ('V',)\n",
      "DEBUG:selenium.webdriver.remote.remote_connection:POST http://localhost:52805/session/cf3a6d51a720300ec49e10c9dcb127d4/execute/sync {'script': '/* getAttribute */return (function(){return (function(){var d=this||self;function f(a,b){function c(...', 'args': [{'element-6066-11e4-a52e-4f735466cecf': 'f.B9A810928C24961026ED4A7AA8D3727D.d.74EEA24759043D9865290D7BEC40BD7D.e.131'}, 'value']}\n",
      "DEBUG:urllib3.connectionpool:http://localhost:52805 \"POST /session/cf3a6d51a720300ec49e10c9dcb127d4/execute/sync HTTP/1.1\" 200 13\n",
      "DEBUG:selenium.webdriver.remote.remote_connection:Remote response: status=200 | data={\"value\":\"4\"} | headers=HTTPHeaderDict({'Content-Length': '13', 'Content-Type': 'application/json; charset=utf-8', 'cache-control': 'no-cache'})\n",
      "DEBUG:selenium.webdriver.remote.remote_connection:Finished Request\n",
      "DEBUG:selenium.webdriver.remote.remote_connection:GET http://localhost:52805/session/cf3a6d51a720300ec49e10c9dcb127d4/element/f.B9A810928C24961026ED4A7AA8D3727D.d.74EEA24759043D9865290D7BEC40BD7D.e.131/text {}\n",
      "DEBUG:urllib3.connectionpool:http://localhost:52805 \"GET /session/cf3a6d51a720300ec49e10c9dcb127d4/element/f.B9A810928C24961026ED4A7AA8D3727D.d.74EEA24759043D9865290D7BEC40BD7D.e.131/text HTTP/1.1\" 200 38\n",
      "DEBUG:selenium.webdriver.remote.remote_connection:Remote response: status=200 | data={\"value\":\"IV Legislatura (1989-1993)\"} | headers=HTTPHeaderDict({'Content-Length': '38', 'Content-Type': 'application/json; charset=utf-8', 'cache-control': 'no-cache'})\n",
      "DEBUG:selenium.webdriver.remote.remote_connection:Finished Request\n"
     ]
    },
    {
     "name": "stdout",
     "output_type": "stream",
     "text": [
      "2025-03-06 12:07:55,603 INFO sqlalchemy.engine.Engine SELECT term.term AS term_term, term.term_id AS term_term_id, term.president AS term_president, term.init_date AS term_init_date, term.finish_date AS term_finish_date \n",
      "FROM term \n",
      "WHERE term.term = ?\n"
     ]
    },
    {
     "name": "stderr",
     "output_type": "stream",
     "text": [
      "INFO:sqlalchemy.engine.Engine:SELECT term.term AS term_term, term.term_id AS term_term_id, term.president AS term_president, term.init_date AS term_init_date, term.finish_date AS term_finish_date \n",
      "FROM term \n",
      "WHERE term.term = ?\n"
     ]
    },
    {
     "name": "stdout",
     "output_type": "stream",
     "text": [
      "2025-03-06 12:07:55,605 INFO sqlalchemy.engine.Engine [cached since 0.2794s ago] ('IV',)\n"
     ]
    },
    {
     "name": "stderr",
     "output_type": "stream",
     "text": [
      "INFO:sqlalchemy.engine.Engine:[cached since 0.2794s ago] ('IV',)\n",
      "DEBUG:selenium.webdriver.remote.remote_connection:POST http://localhost:52805/session/cf3a6d51a720300ec49e10c9dcb127d4/execute/sync {'script': '/* getAttribute */return (function(){return (function(){var d=this||self;function f(a,b){function c(...', 'args': [{'element-6066-11e4-a52e-4f735466cecf': 'f.B9A810928C24961026ED4A7AA8D3727D.d.74EEA24759043D9865290D7BEC40BD7D.e.133'}, 'value']}\n",
      "DEBUG:urllib3.connectionpool:http://localhost:52805 \"POST /session/cf3a6d51a720300ec49e10c9dcb127d4/execute/sync HTTP/1.1\" 200 13\n",
      "DEBUG:selenium.webdriver.remote.remote_connection:Remote response: status=200 | data={\"value\":\"3\"} | headers=HTTPHeaderDict({'Content-Length': '13', 'Content-Type': 'application/json; charset=utf-8', 'cache-control': 'no-cache'})\n",
      "DEBUG:selenium.webdriver.remote.remote_connection:Finished Request\n",
      "DEBUG:selenium.webdriver.remote.remote_connection:GET http://localhost:52805/session/cf3a6d51a720300ec49e10c9dcb127d4/element/f.B9A810928C24961026ED4A7AA8D3727D.d.74EEA24759043D9865290D7BEC40BD7D.e.133/text {}\n",
      "DEBUG:urllib3.connectionpool:http://localhost:52805 \"GET /session/cf3a6d51a720300ec49e10c9dcb127d4/element/f.B9A810928C24961026ED4A7AA8D3727D.d.74EEA24759043D9865290D7BEC40BD7D.e.133/text HTTP/1.1\" 200 39\n",
      "DEBUG:selenium.webdriver.remote.remote_connection:Remote response: status=200 | data={\"value\":\"III Legislatura (1986-1989)\"} | headers=HTTPHeaderDict({'Content-Length': '39', 'Content-Type': 'application/json; charset=utf-8', 'cache-control': 'no-cache'})\n",
      "DEBUG:selenium.webdriver.remote.remote_connection:Finished Request\n"
     ]
    },
    {
     "name": "stdout",
     "output_type": "stream",
     "text": [
      "2025-03-06 12:07:55,624 INFO sqlalchemy.engine.Engine SELECT term.term AS term_term, term.term_id AS term_term_id, term.president AS term_president, term.init_date AS term_init_date, term.finish_date AS term_finish_date \n",
      "FROM term \n",
      "WHERE term.term = ?\n"
     ]
    },
    {
     "name": "stderr",
     "output_type": "stream",
     "text": [
      "INFO:sqlalchemy.engine.Engine:SELECT term.term AS term_term, term.term_id AS term_term_id, term.president AS term_president, term.init_date AS term_init_date, term.finish_date AS term_finish_date \n",
      "FROM term \n",
      "WHERE term.term = ?\n"
     ]
    },
    {
     "name": "stdout",
     "output_type": "stream",
     "text": [
      "2025-03-06 12:07:55,626 INFO sqlalchemy.engine.Engine [cached since 0.3008s ago] ('III',)\n"
     ]
    },
    {
     "name": "stderr",
     "output_type": "stream",
     "text": [
      "INFO:sqlalchemy.engine.Engine:[cached since 0.3008s ago] ('III',)\n",
      "DEBUG:selenium.webdriver.remote.remote_connection:POST http://localhost:52805/session/cf3a6d51a720300ec49e10c9dcb127d4/execute/sync {'script': '/* getAttribute */return (function(){return (function(){var d=this||self;function f(a,b){function c(...', 'args': [{'element-6066-11e4-a52e-4f735466cecf': 'f.B9A810928C24961026ED4A7AA8D3727D.d.74EEA24759043D9865290D7BEC40BD7D.e.135'}, 'value']}\n",
      "DEBUG:urllib3.connectionpool:http://localhost:52805 \"POST /session/cf3a6d51a720300ec49e10c9dcb127d4/execute/sync HTTP/1.1\" 200 13\n",
      "DEBUG:selenium.webdriver.remote.remote_connection:Remote response: status=200 | data={\"value\":\"2\"} | headers=HTTPHeaderDict({'Content-Length': '13', 'Content-Type': 'application/json; charset=utf-8', 'cache-control': 'no-cache'})\n",
      "DEBUG:selenium.webdriver.remote.remote_connection:Finished Request\n",
      "DEBUG:selenium.webdriver.remote.remote_connection:GET http://localhost:52805/session/cf3a6d51a720300ec49e10c9dcb127d4/element/f.B9A810928C24961026ED4A7AA8D3727D.d.74EEA24759043D9865290D7BEC40BD7D.e.135/text {}\n",
      "DEBUG:urllib3.connectionpool:http://localhost:52805 \"GET /session/cf3a6d51a720300ec49e10c9dcb127d4/element/f.B9A810928C24961026ED4A7AA8D3727D.d.74EEA24759043D9865290D7BEC40BD7D.e.135/text HTTP/1.1\" 200 38\n",
      "DEBUG:selenium.webdriver.remote.remote_connection:Remote response: status=200 | data={\"value\":\"II Legislatura (1982-1986)\"} | headers=HTTPHeaderDict({'Content-Length': '38', 'Content-Type': 'application/json; charset=utf-8', 'cache-control': 'no-cache'})\n",
      "DEBUG:selenium.webdriver.remote.remote_connection:Finished Request\n"
     ]
    },
    {
     "name": "stdout",
     "output_type": "stream",
     "text": [
      "2025-03-06 12:07:55,660 INFO sqlalchemy.engine.Engine SELECT term.term AS term_term, term.term_id AS term_term_id, term.president AS term_president, term.init_date AS term_init_date, term.finish_date AS term_finish_date \n",
      "FROM term \n",
      "WHERE term.term = ?\n"
     ]
    },
    {
     "name": "stderr",
     "output_type": "stream",
     "text": [
      "INFO:sqlalchemy.engine.Engine:SELECT term.term AS term_term, term.term_id AS term_term_id, term.president AS term_president, term.init_date AS term_init_date, term.finish_date AS term_finish_date \n",
      "FROM term \n",
      "WHERE term.term = ?\n"
     ]
    },
    {
     "name": "stdout",
     "output_type": "stream",
     "text": [
      "2025-03-06 12:07:55,661 INFO sqlalchemy.engine.Engine [cached since 0.3362s ago] ('II',)\n"
     ]
    },
    {
     "name": "stderr",
     "output_type": "stream",
     "text": [
      "INFO:sqlalchemy.engine.Engine:[cached since 0.3362s ago] ('II',)\n",
      "DEBUG:selenium.webdriver.remote.remote_connection:POST http://localhost:52805/session/cf3a6d51a720300ec49e10c9dcb127d4/execute/sync {'script': '/* getAttribute */return (function(){return (function(){var d=this||self;function f(a,b){function c(...', 'args': [{'element-6066-11e4-a52e-4f735466cecf': 'f.B9A810928C24961026ED4A7AA8D3727D.d.74EEA24759043D9865290D7BEC40BD7D.e.137'}, 'value']}\n",
      "DEBUG:urllib3.connectionpool:http://localhost:52805 \"POST /session/cf3a6d51a720300ec49e10c9dcb127d4/execute/sync HTTP/1.1\" 200 13\n",
      "DEBUG:selenium.webdriver.remote.remote_connection:Remote response: status=200 | data={\"value\":\"1\"} | headers=HTTPHeaderDict({'Content-Length': '13', 'Content-Type': 'application/json; charset=utf-8', 'cache-control': 'no-cache'})\n",
      "DEBUG:selenium.webdriver.remote.remote_connection:Finished Request\n",
      "DEBUG:selenium.webdriver.remote.remote_connection:GET http://localhost:52805/session/cf3a6d51a720300ec49e10c9dcb127d4/element/f.B9A810928C24961026ED4A7AA8D3727D.d.74EEA24759043D9865290D7BEC40BD7D.e.137/text {}\n",
      "DEBUG:urllib3.connectionpool:http://localhost:52805 \"GET /session/cf3a6d51a720300ec49e10c9dcb127d4/element/f.B9A810928C24961026ED4A7AA8D3727D.d.74EEA24759043D9865290D7BEC40BD7D.e.137/text HTTP/1.1\" 200 37\n",
      "DEBUG:selenium.webdriver.remote.remote_connection:Remote response: status=200 | data={\"value\":\"I Legislatura (1979-1982)\"} | headers=HTTPHeaderDict({'Content-Length': '37', 'Content-Type': 'application/json; charset=utf-8', 'cache-control': 'no-cache'})\n",
      "DEBUG:selenium.webdriver.remote.remote_connection:Finished Request\n"
     ]
    },
    {
     "name": "stdout",
     "output_type": "stream",
     "text": [
      "2025-03-06 12:07:55,692 INFO sqlalchemy.engine.Engine SELECT term.term AS term_term, term.term_id AS term_term_id, term.president AS term_president, term.init_date AS term_init_date, term.finish_date AS term_finish_date \n",
      "FROM term \n",
      "WHERE term.term = ?\n"
     ]
    },
    {
     "name": "stderr",
     "output_type": "stream",
     "text": [
      "INFO:sqlalchemy.engine.Engine:SELECT term.term AS term_term, term.term_id AS term_term_id, term.president AS term_president, term.init_date AS term_init_date, term.finish_date AS term_finish_date \n",
      "FROM term \n",
      "WHERE term.term = ?\n"
     ]
    },
    {
     "name": "stdout",
     "output_type": "stream",
     "text": [
      "2025-03-06 12:07:55,694 INFO sqlalchemy.engine.Engine [cached since 0.3687s ago] ('I',)\n"
     ]
    },
    {
     "name": "stderr",
     "output_type": "stream",
     "text": [
      "INFO:sqlalchemy.engine.Engine:[cached since 0.3687s ago] ('I',)\n",
      "DEBUG:selenium.webdriver.remote.remote_connection:POST http://localhost:52805/session/cf3a6d51a720300ec49e10c9dcb127d4/execute/sync {'script': '/* getAttribute */return (function(){return (function(){var d=this||self;function f(a,b){function c(...', 'args': [{'element-6066-11e4-a52e-4f735466cecf': 'f.B9A810928C24961026ED4A7AA8D3727D.d.74EEA24759043D9865290D7BEC40BD7D.e.139'}, 'value']}\n",
      "DEBUG:urllib3.connectionpool:http://localhost:52805 \"POST /session/cf3a6d51a720300ec49e10c9dcb127d4/execute/sync HTTP/1.1\" 200 13\n",
      "DEBUG:selenium.webdriver.remote.remote_connection:Remote response: status=200 | data={\"value\":\"0\"} | headers=HTTPHeaderDict({'Content-Length': '13', 'Content-Type': 'application/json; charset=utf-8', 'cache-control': 'no-cache'})\n",
      "DEBUG:selenium.webdriver.remote.remote_connection:Finished Request\n",
      "DEBUG:selenium.webdriver.remote.remote_connection:GET http://localhost:52805/session/cf3a6d51a720300ec49e10c9dcb127d4/element/f.B9A810928C24961026ED4A7AA8D3727D.d.74EEA24759043D9865290D7BEC40BD7D.e.139/text {}\n",
      "DEBUG:urllib3.connectionpool:http://localhost:52805 \"GET /session/cf3a6d51a720300ec49e10c9dcb127d4/element/f.B9A810928C24961026ED4A7AA8D3727D.d.74EEA24759043D9865290D7BEC40BD7D.e.139/text HTTP/1.1\" 200 49\n",
      "DEBUG:selenium.webdriver.remote.remote_connection:Remote response: status=200 | data={\"value\":\"Legislatura Constituyente (1977-1979)\"} | headers=HTTPHeaderDict({'Content-Length': '49', 'Content-Type': 'application/json; charset=utf-8', 'cache-control': 'no-cache'})\n",
      "DEBUG:selenium.webdriver.remote.remote_connection:Finished Request\n"
     ]
    },
    {
     "name": "stdout",
     "output_type": "stream",
     "text": [
      "2025-03-06 12:07:55,723 INFO sqlalchemy.engine.Engine SELECT term.term AS term_term, term.term_id AS term_term_id, term.president AS term_president, term.init_date AS term_init_date, term.finish_date AS term_finish_date \n",
      "FROM term \n",
      "WHERE term.term = ?\n"
     ]
    },
    {
     "name": "stderr",
     "output_type": "stream",
     "text": [
      "INFO:sqlalchemy.engine.Engine:SELECT term.term AS term_term, term.term_id AS term_term_id, term.president AS term_president, term.init_date AS term_init_date, term.finish_date AS term_finish_date \n",
      "FROM term \n",
      "WHERE term.term = ?\n"
     ]
    },
    {
     "name": "stdout",
     "output_type": "stream",
     "text": [
      "2025-03-06 12:07:55,725 INFO sqlalchemy.engine.Engine [cached since 0.3995s ago] ('Legislatura',)\n"
     ]
    },
    {
     "name": "stderr",
     "output_type": "stream",
     "text": [
      "INFO:sqlalchemy.engine.Engine:[cached since 0.3995s ago] ('Legislatura',)\n",
      "DEBUG:selenium.webdriver.remote.remote_connection:POST http://localhost:52805/session/cf3a6d51a720300ec49e10c9dcb127d4/execute/sync {'script': '/* getAttribute */return (function(){return (function(){var d=this||self;function f(a,b){function c(...', 'args': [{'element-6066-11e4-a52e-4f735466cecf': 'f.B9A810928C24961026ED4A7AA8D3727D.d.74EEA24759043D9865290D7BEC40BD7D.e.141'}, 'value']}\n",
      "DEBUG:urllib3.connectionpool:http://localhost:52805 \"POST /session/cf3a6d51a720300ec49e10c9dcb127d4/execute/sync HTTP/1.1\" 200 14\n",
      "DEBUG:selenium.webdriver.remote.remote_connection:Remote response: status=200 | data={\"value\":\"-1\"} | headers=HTTPHeaderDict({'Content-Length': '14', 'Content-Type': 'application/json; charset=utf-8', 'cache-control': 'no-cache'})\n",
      "DEBUG:selenium.webdriver.remote.remote_connection:Finished Request\n",
      "DEBUG:selenium.webdriver.remote.remote_connection:GET http://localhost:52805/session/cf3a6d51a720300ec49e10c9dcb127d4/element/f.B9A810928C24961026ED4A7AA8D3727D.d.74EEA24759043D9865290D7BEC40BD7D.e.141/text {}\n",
      "DEBUG:urllib3.connectionpool:http://localhost:52805 \"GET /session/cf3a6d51a720300ec49e10c9dcb127d4/element/f.B9A810928C24961026ED4A7AA8D3727D.d.74EEA24759043D9865290D7BEC40BD7D.e.141/text HTTP/1.1\" 200 34\n",
      "DEBUG:selenium.webdriver.remote.remote_connection:Remote response: status=200 | data={\"value\":\"Todas las legislaturas\"} | headers=HTTPHeaderDict({'Content-Length': '34', 'Content-Type': 'application/json; charset=utf-8', 'cache-control': 'no-cache'})\n",
      "DEBUG:selenium.webdriver.remote.remote_connection:Finished Request\n"
     ]
    },
    {
     "name": "stdout",
     "output_type": "stream",
     "text": [
      "2025-03-06 12:07:55,763 INFO sqlalchemy.engine.Engine SELECT term.term AS term_term, term.term_id AS term_term_id, term.president AS term_president, term.init_date AS term_init_date, term.finish_date AS term_finish_date \n",
      "FROM term \n",
      "WHERE term.term = ?\n"
     ]
    },
    {
     "name": "stderr",
     "output_type": "stream",
     "text": [
      "INFO:sqlalchemy.engine.Engine:SELECT term.term AS term_term, term.term_id AS term_term_id, term.president AS term_president, term.init_date AS term_init_date, term.finish_date AS term_finish_date \n",
      "FROM term \n",
      "WHERE term.term = ?\n"
     ]
    },
    {
     "name": "stdout",
     "output_type": "stream",
     "text": [
      "2025-03-06 12:07:55,764 INFO sqlalchemy.engine.Engine [cached since 0.439s ago] ('Todas',)\n"
     ]
    },
    {
     "name": "stderr",
     "output_type": "stream",
     "text": [
      "INFO:sqlalchemy.engine.Engine:[cached since 0.439s ago] ('Todas',)\n"
     ]
    },
    {
     "name": "stdout",
     "output_type": "stream",
     "text": [
      "2025-03-06 12:07:55,766 INFO sqlalchemy.engine.Engine COMMIT\n"
     ]
    },
    {
     "name": "stderr",
     "output_type": "stream",
     "text": [
      "INFO:sqlalchemy.engine.Engine:COMMIT\n",
      "INFO:root:Terms committed to DB\n"
     ]
    },
    {
     "name": "stdout",
     "output_type": "stream",
     "text": [
      "2025-03-06 12:07:55,769 INFO sqlalchemy.engine.Engine BEGIN (implicit)\n"
     ]
    },
    {
     "name": "stderr",
     "output_type": "stream",
     "text": [
      "INFO:sqlalchemy.engine.Engine:BEGIN (implicit)\n"
     ]
    },
    {
     "name": "stdout",
     "output_type": "stream",
     "text": [
      "2025-03-06 12:07:55,771 INFO sqlalchemy.engine.Engine SELECT term.term AS term_term, term.term_id AS term_term_id, term.president AS term_president, term.init_date AS term_init_date, term.finish_date AS term_finish_date \n",
      "FROM term\n"
     ]
    },
    {
     "name": "stderr",
     "output_type": "stream",
     "text": [
      "INFO:sqlalchemy.engine.Engine:SELECT term.term AS term_term, term.term_id AS term_term_id, term.president AS term_president, term.init_date AS term_init_date, term.finish_date AS term_finish_date \n",
      "FROM term\n"
     ]
    },
    {
     "name": "stdout",
     "output_type": "stream",
     "text": [
      "2025-03-06 12:07:55,774 INFO sqlalchemy.engine.Engine [generated in 0.00310s] ()\n"
     ]
    },
    {
     "name": "stderr",
     "output_type": "stream",
     "text": [
      "INFO:sqlalchemy.engine.Engine:[generated in 0.00310s] ()\n",
      "INFO:root:Starting crawling term I\n",
      "DEBUG:selenium.webdriver.remote.remote_connection:POST http://localhost:52805/session/cf3a6d51a720300ec49e10c9dcb127d4/url {'url': 'https://www.congreso.es/ca/busqueda-de-diputados?p_p_id=diputadomodule&p_p_lifecycle=2&p_p_state=nor...'}\n",
      "DEBUG:urllib3.connectionpool:http://localhost:52805 \"POST /session/cf3a6d51a720300ec49e10c9dcb127d4/url HTTP/1.1\" 200 14\n",
      "DEBUG:selenium.webdriver.remote.remote_connection:Remote response: status=200 | data={\"value\":null} | headers=HTTPHeaderDict({'Content-Length': '14', 'Content-Type': 'application/json; charset=utf-8', 'cache-control': 'no-cache'})\n",
      "DEBUG:selenium.webdriver.remote.remote_connection:Finished Request\n",
      "DEBUG:selenium.webdriver.remote.remote_connection:POST http://localhost:52805/session/cf3a6d51a720300ec49e10c9dcb127d4/element {'using': 'tag name', 'value': 'body'}\n",
      "DEBUG:urllib3.connectionpool:http://localhost:52805 \"POST /session/cf3a6d51a720300ec49e10c9dcb127d4/element HTTP/1.1\" 200 127\n",
      "DEBUG:selenium.webdriver.remote.remote_connection:Remote response: status=200 | data={\"value\":{\"element-6066-11e4-a52e-4f735466cecf\":\"f.B9A810928C24961026ED4A7AA8D3727D.d.1104E494DCBC18678BC86346A8F0878B.e.144\"}} | headers=HTTPHeaderDict({'Content-Length': '127', 'Content-Type': 'application/json; charset=utf-8', 'cache-control': 'no-cache'})\n",
      "DEBUG:selenium.webdriver.remote.remote_connection:Finished Request\n",
      "DEBUG:selenium.webdriver.remote.remote_connection:GET http://localhost:52805/session/cf3a6d51a720300ec49e10c9dcb127d4/element/f.B9A810928C24961026ED4A7AA8D3727D.d.1104E494DCBC18678BC86346A8F0878B.e.144/text {}\n",
      "DEBUG:urllib3.connectionpool:http://localhost:52805 \"GET /session/cf3a6d51a720300ec49e10c9dcb127d4/element/f.B9A810928C24961026ED4A7AA8D3727D.d.1104E494DCBC18678BC86346A8F0878B.e.144/text HTTP/1.1\" 200 25\n",
      "DEBUG:selenium.webdriver.remote.remote_connection:Remote response: status=200 | data={\"value\":\"{\\\"data\\\":[]}\"} | headers=HTTPHeaderDict({'Content-Length': '25', 'Content-Type': 'application/json; charset=utf-8', 'cache-control': 'no-cache'})\n",
      "DEBUG:selenium.webdriver.remote.remote_connection:Finished Request\n"
     ]
    },
    {
     "name": "stdout",
     "output_type": "stream",
     "text": [
      "Response text from Congreso: {\"data\":[]}\n",
      "Raw response: {'data': []}\n",
      "Number of diputades extracted: 0\n",
      "2025-03-06 12:07:55,952 INFO sqlalchemy.engine.Engine COMMIT\n"
     ]
    },
    {
     "name": "stderr",
     "output_type": "stream",
     "text": [
      "INFO:sqlalchemy.engine.Engine:COMMIT\n"
     ]
    },
    {
     "name": "stdout",
     "output_type": "stream",
     "text": [
      "2025-03-06 12:07:55,959 INFO sqlalchemy.engine.Engine BEGIN (implicit)\n"
     ]
    },
    {
     "name": "stderr",
     "output_type": "stream",
     "text": [
      "INFO:sqlalchemy.engine.Engine:BEGIN (implicit)\n"
     ]
    },
    {
     "name": "stdout",
     "output_type": "stream",
     "text": [
      "2025-03-06 12:07:55,962 INFO sqlalchemy.engine.Engine SELECT term.term AS term_term, term.term_id AS term_term_id, term.president AS term_president, term.init_date AS term_init_date, term.finish_date AS term_finish_date \n",
      "FROM term \n",
      "WHERE term.term = ?\n"
     ]
    },
    {
     "name": "stderr",
     "output_type": "stream",
     "text": [
      "INFO:sqlalchemy.engine.Engine:SELECT term.term AS term_term, term.term_id AS term_term_id, term.president AS term_president, term.init_date AS term_init_date, term.finish_date AS term_finish_date \n",
      "FROM term \n",
      "WHERE term.term = ?\n"
     ]
    },
    {
     "name": "stdout",
     "output_type": "stream",
     "text": [
      "2025-03-06 12:07:55,963 INFO sqlalchemy.engine.Engine [generated in 0.00142s] ('I',)\n"
     ]
    },
    {
     "name": "stderr",
     "output_type": "stream",
     "text": [
      "INFO:sqlalchemy.engine.Engine:[generated in 0.00142s] ('I',)\n",
      "INFO:root:Finished crawling term I\n"
     ]
    },
    {
     "name": "stdout",
     "output_type": "stream",
     "text": [
      "2025-03-06 12:07:55,966 INFO sqlalchemy.engine.Engine SELECT term.term AS term_term, term.term_id AS term_term_id, term.president AS term_president, term.init_date AS term_init_date, term.finish_date AS term_finish_date \n",
      "FROM term \n",
      "WHERE term.term = ?\n"
     ]
    },
    {
     "name": "stderr",
     "output_type": "stream",
     "text": [
      "INFO:sqlalchemy.engine.Engine:SELECT term.term AS term_term, term.term_id AS term_term_id, term.president AS term_president, term.init_date AS term_init_date, term.finish_date AS term_finish_date \n",
      "FROM term \n",
      "WHERE term.term = ?\n"
     ]
    },
    {
     "name": "stdout",
     "output_type": "stream",
     "text": [
      "2025-03-06 12:07:55,968 INFO sqlalchemy.engine.Engine [cached since 0.006182s ago] ('II',)\n"
     ]
    },
    {
     "name": "stderr",
     "output_type": "stream",
     "text": [
      "INFO:sqlalchemy.engine.Engine:[cached since 0.006182s ago] ('II',)\n",
      "INFO:root:Starting crawling term II\n",
      "DEBUG:selenium.webdriver.remote.remote_connection:POST http://localhost:52805/session/cf3a6d51a720300ec49e10c9dcb127d4/url {'url': 'https://www.congreso.es/ca/busqueda-de-diputados?p_p_id=diputadomodule&p_p_lifecycle=2&p_p_state=nor...'}\n",
      "DEBUG:urllib3.connectionpool:http://localhost:52805 \"POST /session/cf3a6d51a720300ec49e10c9dcb127d4/url HTTP/1.1\" 200 14\n",
      "DEBUG:selenium.webdriver.remote.remote_connection:Remote response: status=200 | data={\"value\":null} | headers=HTTPHeaderDict({'Content-Length': '14', 'Content-Type': 'application/json; charset=utf-8', 'cache-control': 'no-cache'})\n",
      "DEBUG:selenium.webdriver.remote.remote_connection:Finished Request\n",
      "DEBUG:selenium.webdriver.remote.remote_connection:POST http://localhost:52805/session/cf3a6d51a720300ec49e10c9dcb127d4/element {'using': 'tag name', 'value': 'body'}\n",
      "DEBUG:urllib3.connectionpool:http://localhost:52805 \"POST /session/cf3a6d51a720300ec49e10c9dcb127d4/element HTTP/1.1\" 200 127\n",
      "DEBUG:selenium.webdriver.remote.remote_connection:Remote response: status=200 | data={\"value\":{\"element-6066-11e4-a52e-4f735466cecf\":\"f.B9A810928C24961026ED4A7AA8D3727D.d.4CB80343DD682330E7ECBAEDAA13A7ED.e.146\"}} | headers=HTTPHeaderDict({'Content-Length': '127', 'Content-Type': 'application/json; charset=utf-8', 'cache-control': 'no-cache'})\n",
      "DEBUG:selenium.webdriver.remote.remote_connection:Finished Request\n",
      "DEBUG:selenium.webdriver.remote.remote_connection:GET http://localhost:52805/session/cf3a6d51a720300ec49e10c9dcb127d4/element/f.B9A810928C24961026ED4A7AA8D3727D.d.4CB80343DD682330E7ECBAEDAA13A7ED.e.146/text {}\n",
      "DEBUG:urllib3.connectionpool:http://localhost:52805 \"GET /session/cf3a6d51a720300ec49e10c9dcb127d4/element/f.B9A810928C24961026ED4A7AA8D3727D.d.4CB80343DD682330E7ECBAEDAA13A7ED.e.146/text HTTP/1.1\" 200 25\n",
      "DEBUG:selenium.webdriver.remote.remote_connection:Remote response: status=200 | data={\"value\":\"{\\\"data\\\":[]}\"} | headers=HTTPHeaderDict({'Content-Length': '25', 'Content-Type': 'application/json; charset=utf-8', 'cache-control': 'no-cache'})\n",
      "DEBUG:selenium.webdriver.remote.remote_connection:Finished Request\n"
     ]
    },
    {
     "name": "stdout",
     "output_type": "stream",
     "text": [
      "Response text from Congreso: {\"data\":[]}\n",
      "Raw response: {'data': []}\n",
      "Number of diputades extracted: 0\n",
      "2025-03-06 12:07:56,066 INFO sqlalchemy.engine.Engine COMMIT\n"
     ]
    },
    {
     "name": "stderr",
     "output_type": "stream",
     "text": [
      "INFO:sqlalchemy.engine.Engine:COMMIT\n"
     ]
    },
    {
     "name": "stdout",
     "output_type": "stream",
     "text": [
      "2025-03-06 12:07:56,068 INFO sqlalchemy.engine.Engine BEGIN (implicit)\n"
     ]
    },
    {
     "name": "stderr",
     "output_type": "stream",
     "text": [
      "INFO:sqlalchemy.engine.Engine:BEGIN (implicit)\n"
     ]
    },
    {
     "name": "stdout",
     "output_type": "stream",
     "text": [
      "2025-03-06 12:07:56,069 INFO sqlalchemy.engine.Engine SELECT term.term AS term_term, term.term_id AS term_term_id, term.president AS term_president, term.init_date AS term_init_date, term.finish_date AS term_finish_date \n",
      "FROM term \n",
      "WHERE term.term = ?\n"
     ]
    },
    {
     "name": "stderr",
     "output_type": "stream",
     "text": [
      "INFO:sqlalchemy.engine.Engine:SELECT term.term AS term_term, term.term_id AS term_term_id, term.president AS term_president, term.init_date AS term_init_date, term.finish_date AS term_finish_date \n",
      "FROM term \n",
      "WHERE term.term = ?\n"
     ]
    },
    {
     "name": "stdout",
     "output_type": "stream",
     "text": [
      "2025-03-06 12:07:56,070 INFO sqlalchemy.engine.Engine [cached since 0.1086s ago] ('II',)\n"
     ]
    },
    {
     "name": "stderr",
     "output_type": "stream",
     "text": [
      "INFO:sqlalchemy.engine.Engine:[cached since 0.1086s ago] ('II',)\n",
      "INFO:root:Finished crawling term II\n"
     ]
    },
    {
     "name": "stdout",
     "output_type": "stream",
     "text": [
      "2025-03-06 12:07:56,073 INFO sqlalchemy.engine.Engine SELECT term.term AS term_term, term.term_id AS term_term_id, term.president AS term_president, term.init_date AS term_init_date, term.finish_date AS term_finish_date \n",
      "FROM term \n",
      "WHERE term.term = ?\n"
     ]
    },
    {
     "name": "stderr",
     "output_type": "stream",
     "text": [
      "INFO:sqlalchemy.engine.Engine:SELECT term.term AS term_term, term.term_id AS term_term_id, term.president AS term_president, term.init_date AS term_init_date, term.finish_date AS term_finish_date \n",
      "FROM term \n",
      "WHERE term.term = ?\n"
     ]
    },
    {
     "name": "stdout",
     "output_type": "stream",
     "text": [
      "2025-03-06 12:07:56,074 INFO sqlalchemy.engine.Engine [cached since 0.1127s ago] ('III',)\n"
     ]
    },
    {
     "name": "stderr",
     "output_type": "stream",
     "text": [
      "INFO:sqlalchemy.engine.Engine:[cached since 0.1127s ago] ('III',)\n",
      "INFO:root:Starting crawling term III\n",
      "DEBUG:selenium.webdriver.remote.remote_connection:POST http://localhost:52805/session/cf3a6d51a720300ec49e10c9dcb127d4/url {'url': 'https://www.congreso.es/ca/busqueda-de-diputados?p_p_id=diputadomodule&p_p_lifecycle=2&p_p_state=nor...'}\n",
      "DEBUG:urllib3.connectionpool:http://localhost:52805 \"POST /session/cf3a6d51a720300ec49e10c9dcb127d4/url HTTP/1.1\" 200 14\n",
      "DEBUG:selenium.webdriver.remote.remote_connection:Remote response: status=200 | data={\"value\":null} | headers=HTTPHeaderDict({'Content-Length': '14', 'Content-Type': 'application/json; charset=utf-8', 'cache-control': 'no-cache'})\n",
      "DEBUG:selenium.webdriver.remote.remote_connection:Finished Request\n",
      "DEBUG:selenium.webdriver.remote.remote_connection:POST http://localhost:52805/session/cf3a6d51a720300ec49e10c9dcb127d4/element {'using': 'tag name', 'value': 'body'}\n",
      "DEBUG:urllib3.connectionpool:http://localhost:52805 \"POST /session/cf3a6d51a720300ec49e10c9dcb127d4/element HTTP/1.1\" 200 127\n",
      "DEBUG:selenium.webdriver.remote.remote_connection:Remote response: status=200 | data={\"value\":{\"element-6066-11e4-a52e-4f735466cecf\":\"f.B9A810928C24961026ED4A7AA8D3727D.d.647DBEE9243D7E26BBDD6C8C62ACCF36.e.148\"}} | headers=HTTPHeaderDict({'Content-Length': '127', 'Content-Type': 'application/json; charset=utf-8', 'cache-control': 'no-cache'})\n",
      "DEBUG:selenium.webdriver.remote.remote_connection:Finished Request\n",
      "DEBUG:selenium.webdriver.remote.remote_connection:GET http://localhost:52805/session/cf3a6d51a720300ec49e10c9dcb127d4/element/f.B9A810928C24961026ED4A7AA8D3727D.d.647DBEE9243D7E26BBDD6C8C62ACCF36.e.148/text {}\n",
      "DEBUG:urllib3.connectionpool:http://localhost:52805 \"GET /session/cf3a6d51a720300ec49e10c9dcb127d4/element/f.B9A810928C24961026ED4A7AA8D3727D.d.647DBEE9243D7E26BBDD6C8C62ACCF36.e.148/text HTTP/1.1\" 200 25\n",
      "DEBUG:selenium.webdriver.remote.remote_connection:Remote response: status=200 | data={\"value\":\"{\\\"data\\\":[]}\"} | headers=HTTPHeaderDict({'Content-Length': '25', 'Content-Type': 'application/json; charset=utf-8', 'cache-control': 'no-cache'})\n",
      "DEBUG:selenium.webdriver.remote.remote_connection:Finished Request\n"
     ]
    },
    {
     "name": "stdout",
     "output_type": "stream",
     "text": [
      "Response text from Congreso: {\"data\":[]}\n",
      "Raw response: {'data': []}\n",
      "Number of diputades extracted: 0\n",
      "2025-03-06 12:07:56,187 INFO sqlalchemy.engine.Engine COMMIT\n"
     ]
    },
    {
     "name": "stderr",
     "output_type": "stream",
     "text": [
      "INFO:sqlalchemy.engine.Engine:COMMIT\n"
     ]
    },
    {
     "name": "stdout",
     "output_type": "stream",
     "text": [
      "2025-03-06 12:07:56,193 INFO sqlalchemy.engine.Engine BEGIN (implicit)\n"
     ]
    },
    {
     "name": "stderr",
     "output_type": "stream",
     "text": [
      "INFO:sqlalchemy.engine.Engine:BEGIN (implicit)\n"
     ]
    },
    {
     "name": "stdout",
     "output_type": "stream",
     "text": [
      "2025-03-06 12:07:56,194 INFO sqlalchemy.engine.Engine SELECT term.term AS term_term, term.term_id AS term_term_id, term.president AS term_president, term.init_date AS term_init_date, term.finish_date AS term_finish_date \n",
      "FROM term \n",
      "WHERE term.term = ?\n"
     ]
    },
    {
     "name": "stderr",
     "output_type": "stream",
     "text": [
      "INFO:sqlalchemy.engine.Engine:SELECT term.term AS term_term, term.term_id AS term_term_id, term.president AS term_president, term.init_date AS term_init_date, term.finish_date AS term_finish_date \n",
      "FROM term \n",
      "WHERE term.term = ?\n"
     ]
    },
    {
     "name": "stdout",
     "output_type": "stream",
     "text": [
      "2025-03-06 12:07:56,195 INFO sqlalchemy.engine.Engine [cached since 0.2336s ago] ('III',)\n"
     ]
    },
    {
     "name": "stderr",
     "output_type": "stream",
     "text": [
      "INFO:sqlalchemy.engine.Engine:[cached since 0.2336s ago] ('III',)\n",
      "INFO:root:Finished crawling term III\n"
     ]
    },
    {
     "name": "stdout",
     "output_type": "stream",
     "text": [
      "2025-03-06 12:07:56,199 INFO sqlalchemy.engine.Engine SELECT term.term AS term_term, term.term_id AS term_term_id, term.president AS term_president, term.init_date AS term_init_date, term.finish_date AS term_finish_date \n",
      "FROM term \n",
      "WHERE term.term = ?\n"
     ]
    },
    {
     "name": "stderr",
     "output_type": "stream",
     "text": [
      "INFO:sqlalchemy.engine.Engine:SELECT term.term AS term_term, term.term_id AS term_term_id, term.president AS term_president, term.init_date AS term_init_date, term.finish_date AS term_finish_date \n",
      "FROM term \n",
      "WHERE term.term = ?\n"
     ]
    },
    {
     "name": "stdout",
     "output_type": "stream",
     "text": [
      "2025-03-06 12:07:56,200 INFO sqlalchemy.engine.Engine [cached since 0.2385s ago] ('IV',)\n"
     ]
    },
    {
     "name": "stderr",
     "output_type": "stream",
     "text": [
      "INFO:sqlalchemy.engine.Engine:[cached since 0.2385s ago] ('IV',)\n",
      "INFO:root:Starting crawling term IV\n",
      "DEBUG:selenium.webdriver.remote.remote_connection:POST http://localhost:52805/session/cf3a6d51a720300ec49e10c9dcb127d4/url {'url': 'https://www.congreso.es/ca/busqueda-de-diputados?p_p_id=diputadomodule&p_p_lifecycle=2&p_p_state=nor...'}\n",
      "DEBUG:urllib3.connectionpool:http://localhost:52805 \"POST /session/cf3a6d51a720300ec49e10c9dcb127d4/url HTTP/1.1\" 200 14\n",
      "DEBUG:selenium.webdriver.remote.remote_connection:Remote response: status=200 | data={\"value\":null} | headers=HTTPHeaderDict({'Content-Length': '14', 'Content-Type': 'application/json; charset=utf-8', 'cache-control': 'no-cache'})\n",
      "DEBUG:selenium.webdriver.remote.remote_connection:Finished Request\n",
      "DEBUG:selenium.webdriver.remote.remote_connection:POST http://localhost:52805/session/cf3a6d51a720300ec49e10c9dcb127d4/element {'using': 'tag name', 'value': 'body'}\n",
      "DEBUG:urllib3.connectionpool:http://localhost:52805 \"POST /session/cf3a6d51a720300ec49e10c9dcb127d4/element HTTP/1.1\" 200 127\n",
      "DEBUG:selenium.webdriver.remote.remote_connection:Remote response: status=200 | data={\"value\":{\"element-6066-11e4-a52e-4f735466cecf\":\"f.B9A810928C24961026ED4A7AA8D3727D.d.F822E29388EBEBAB34DE827659E840B0.e.150\"}} | headers=HTTPHeaderDict({'Content-Length': '127', 'Content-Type': 'application/json; charset=utf-8', 'cache-control': 'no-cache'})\n",
      "DEBUG:selenium.webdriver.remote.remote_connection:Finished Request\n",
      "DEBUG:selenium.webdriver.remote.remote_connection:GET http://localhost:52805/session/cf3a6d51a720300ec49e10c9dcb127d4/element/f.B9A810928C24961026ED4A7AA8D3727D.d.F822E29388EBEBAB34DE827659E840B0.e.150/text {}\n",
      "DEBUG:urllib3.connectionpool:http://localhost:52805 \"GET /session/cf3a6d51a720300ec49e10c9dcb127d4/element/f.B9A810928C24961026ED4A7AA8D3727D.d.F822E29388EBEBAB34DE827659E840B0.e.150/text HTTP/1.1\" 200 25\n",
      "DEBUG:selenium.webdriver.remote.remote_connection:Remote response: status=200 | data={\"value\":\"{\\\"data\\\":[]}\"} | headers=HTTPHeaderDict({'Content-Length': '25', 'Content-Type': 'application/json; charset=utf-8', 'cache-control': 'no-cache'})\n",
      "DEBUG:selenium.webdriver.remote.remote_connection:Finished Request\n"
     ]
    },
    {
     "name": "stdout",
     "output_type": "stream",
     "text": [
      "Response text from Congreso: {\"data\":[]}\n",
      "Raw response: {'data': []}\n",
      "Number of diputades extracted: 0\n",
      "2025-03-06 12:07:56,334 INFO sqlalchemy.engine.Engine COMMIT\n"
     ]
    },
    {
     "name": "stderr",
     "output_type": "stream",
     "text": [
      "INFO:sqlalchemy.engine.Engine:COMMIT\n"
     ]
    },
    {
     "name": "stdout",
     "output_type": "stream",
     "text": [
      "2025-03-06 12:07:56,337 INFO sqlalchemy.engine.Engine BEGIN (implicit)\n"
     ]
    },
    {
     "name": "stderr",
     "output_type": "stream",
     "text": [
      "INFO:sqlalchemy.engine.Engine:BEGIN (implicit)\n"
     ]
    },
    {
     "name": "stdout",
     "output_type": "stream",
     "text": [
      "2025-03-06 12:07:56,342 INFO sqlalchemy.engine.Engine SELECT term.term AS term_term, term.term_id AS term_term_id, term.president AS term_president, term.init_date AS term_init_date, term.finish_date AS term_finish_date \n",
      "FROM term \n",
      "WHERE term.term = ?\n"
     ]
    },
    {
     "name": "stderr",
     "output_type": "stream",
     "text": [
      "INFO:sqlalchemy.engine.Engine:SELECT term.term AS term_term, term.term_id AS term_term_id, term.president AS term_president, term.init_date AS term_init_date, term.finish_date AS term_finish_date \n",
      "FROM term \n",
      "WHERE term.term = ?\n"
     ]
    },
    {
     "name": "stdout",
     "output_type": "stream",
     "text": [
      "2025-03-06 12:07:56,343 INFO sqlalchemy.engine.Engine [cached since 0.3815s ago] ('IV',)\n"
     ]
    },
    {
     "name": "stderr",
     "output_type": "stream",
     "text": [
      "INFO:sqlalchemy.engine.Engine:[cached since 0.3815s ago] ('IV',)\n",
      "INFO:root:Finished crawling term IV\n"
     ]
    },
    {
     "name": "stdout",
     "output_type": "stream",
     "text": [
      "2025-03-06 12:07:56,346 INFO sqlalchemy.engine.Engine SELECT term.term AS term_term, term.term_id AS term_term_id, term.president AS term_president, term.init_date AS term_init_date, term.finish_date AS term_finish_date \n",
      "FROM term \n",
      "WHERE term.term = ?\n"
     ]
    },
    {
     "name": "stderr",
     "output_type": "stream",
     "text": [
      "INFO:sqlalchemy.engine.Engine:SELECT term.term AS term_term, term.term_id AS term_term_id, term.president AS term_president, term.init_date AS term_init_date, term.finish_date AS term_finish_date \n",
      "FROM term \n",
      "WHERE term.term = ?\n"
     ]
    },
    {
     "name": "stdout",
     "output_type": "stream",
     "text": [
      "2025-03-06 12:07:56,348 INFO sqlalchemy.engine.Engine [cached since 0.386s ago] ('IX',)\n"
     ]
    },
    {
     "name": "stderr",
     "output_type": "stream",
     "text": [
      "INFO:sqlalchemy.engine.Engine:[cached since 0.386s ago] ('IX',)\n",
      "INFO:root:Starting crawling term IX\n",
      "DEBUG:selenium.webdriver.remote.remote_connection:POST http://localhost:52805/session/cf3a6d51a720300ec49e10c9dcb127d4/url {'url': 'https://www.congreso.es/ca/busqueda-de-diputados?p_p_id=diputadomodule&p_p_lifecycle=2&p_p_state=nor...'}\n",
      "DEBUG:urllib3.connectionpool:http://localhost:52805 \"POST /session/cf3a6d51a720300ec49e10c9dcb127d4/url HTTP/1.1\" 200 14\n",
      "DEBUG:selenium.webdriver.remote.remote_connection:Remote response: status=200 | data={\"value\":null} | headers=HTTPHeaderDict({'Content-Length': '14', 'Content-Type': 'application/json; charset=utf-8', 'cache-control': 'no-cache'})\n",
      "DEBUG:selenium.webdriver.remote.remote_connection:Finished Request\n",
      "DEBUG:selenium.webdriver.remote.remote_connection:POST http://localhost:52805/session/cf3a6d51a720300ec49e10c9dcb127d4/element {'using': 'tag name', 'value': 'body'}\n",
      "DEBUG:urllib3.connectionpool:http://localhost:52805 \"POST /session/cf3a6d51a720300ec49e10c9dcb127d4/element HTTP/1.1\" 200 127\n",
      "DEBUG:selenium.webdriver.remote.remote_connection:Remote response: status=200 | data={\"value\":{\"element-6066-11e4-a52e-4f735466cecf\":\"f.B9A810928C24961026ED4A7AA8D3727D.d.D7F45EFD2338D7BBE588722FCD82DF5A.e.152\"}} | headers=HTTPHeaderDict({'Content-Length': '127', 'Content-Type': 'application/json; charset=utf-8', 'cache-control': 'no-cache'})\n",
      "DEBUG:selenium.webdriver.remote.remote_connection:Finished Request\n",
      "DEBUG:selenium.webdriver.remote.remote_connection:GET http://localhost:52805/session/cf3a6d51a720300ec49e10c9dcb127d4/element/f.B9A810928C24961026ED4A7AA8D3727D.d.D7F45EFD2338D7BBE588722FCD82DF5A.e.152/text {}\n",
      "DEBUG:urllib3.connectionpool:http://localhost:52805 \"GET /session/cf3a6d51a720300ec49e10c9dcb127d4/element/f.B9A810928C24961026ED4A7AA8D3727D.d.D7F45EFD2338D7BBE588722FCD82DF5A.e.152/text HTTP/1.1\" 200 25\n",
      "DEBUG:selenium.webdriver.remote.remote_connection:Remote response: status=200 | data={\"value\":\"{\\\"data\\\":[]}\"} | headers=HTTPHeaderDict({'Content-Length': '25', 'Content-Type': 'application/json; charset=utf-8', 'cache-control': 'no-cache'})\n",
      "DEBUG:selenium.webdriver.remote.remote_connection:Finished Request\n"
     ]
    },
    {
     "name": "stdout",
     "output_type": "stream",
     "text": [
      "Response text from Congreso: {\"data\":[]}\n",
      "Raw response: {'data': []}\n",
      "Number of diputades extracted: 0\n",
      "2025-03-06 12:07:56,468 INFO sqlalchemy.engine.Engine COMMIT\n"
     ]
    },
    {
     "name": "stderr",
     "output_type": "stream",
     "text": [
      "INFO:sqlalchemy.engine.Engine:COMMIT\n"
     ]
    },
    {
     "name": "stdout",
     "output_type": "stream",
     "text": [
      "2025-03-06 12:07:56,471 INFO sqlalchemy.engine.Engine BEGIN (implicit)\n"
     ]
    },
    {
     "name": "stderr",
     "output_type": "stream",
     "text": [
      "INFO:sqlalchemy.engine.Engine:BEGIN (implicit)\n"
     ]
    },
    {
     "name": "stdout",
     "output_type": "stream",
     "text": [
      "2025-03-06 12:07:56,473 INFO sqlalchemy.engine.Engine SELECT term.term AS term_term, term.term_id AS term_term_id, term.president AS term_president, term.init_date AS term_init_date, term.finish_date AS term_finish_date \n",
      "FROM term \n",
      "WHERE term.term = ?\n"
     ]
    },
    {
     "name": "stderr",
     "output_type": "stream",
     "text": [
      "INFO:sqlalchemy.engine.Engine:SELECT term.term AS term_term, term.term_id AS term_term_id, term.president AS term_president, term.init_date AS term_init_date, term.finish_date AS term_finish_date \n",
      "FROM term \n",
      "WHERE term.term = ?\n"
     ]
    },
    {
     "name": "stdout",
     "output_type": "stream",
     "text": [
      "2025-03-06 12:07:56,474 INFO sqlalchemy.engine.Engine [cached since 0.5127s ago] ('IX',)\n"
     ]
    },
    {
     "name": "stderr",
     "output_type": "stream",
     "text": [
      "INFO:sqlalchemy.engine.Engine:[cached since 0.5127s ago] ('IX',)\n",
      "INFO:root:Finished crawling term IX\n"
     ]
    },
    {
     "name": "stdout",
     "output_type": "stream",
     "text": [
      "2025-03-06 12:07:56,477 INFO sqlalchemy.engine.Engine SELECT term.term AS term_term, term.term_id AS term_term_id, term.president AS term_president, term.init_date AS term_init_date, term.finish_date AS term_finish_date \n",
      "FROM term \n",
      "WHERE term.term = ?\n"
     ]
    },
    {
     "name": "stderr",
     "output_type": "stream",
     "text": [
      "INFO:sqlalchemy.engine.Engine:SELECT term.term AS term_term, term.term_id AS term_term_id, term.president AS term_president, term.init_date AS term_init_date, term.finish_date AS term_finish_date \n",
      "FROM term \n",
      "WHERE term.term = ?\n"
     ]
    },
    {
     "name": "stdout",
     "output_type": "stream",
     "text": [
      "2025-03-06 12:07:56,479 INFO sqlalchemy.engine.Engine [cached since 0.5171s ago] ('Legislatura',)\n"
     ]
    },
    {
     "name": "stderr",
     "output_type": "stream",
     "text": [
      "INFO:sqlalchemy.engine.Engine:[cached since 0.5171s ago] ('Legislatura',)\n",
      "INFO:root:Starting crawling term Legislatura\n",
      "DEBUG:selenium.webdriver.remote.remote_connection:POST http://localhost:52805/session/cf3a6d51a720300ec49e10c9dcb127d4/url {'url': 'https://www.congreso.es/ca/busqueda-de-diputados?p_p_id=diputadomodule&p_p_lifecycle=2&p_p_state=nor...'}\n",
      "DEBUG:urllib3.connectionpool:http://localhost:52805 \"POST /session/cf3a6d51a720300ec49e10c9dcb127d4/url HTTP/1.1\" 200 14\n",
      "DEBUG:selenium.webdriver.remote.remote_connection:Remote response: status=200 | data={\"value\":null} | headers=HTTPHeaderDict({'Content-Length': '14', 'Content-Type': 'application/json; charset=utf-8', 'cache-control': 'no-cache'})\n",
      "DEBUG:selenium.webdriver.remote.remote_connection:Finished Request\n",
      "DEBUG:selenium.webdriver.remote.remote_connection:POST http://localhost:52805/session/cf3a6d51a720300ec49e10c9dcb127d4/element {'using': 'tag name', 'value': 'body'}\n",
      "DEBUG:urllib3.connectionpool:http://localhost:52805 \"POST /session/cf3a6d51a720300ec49e10c9dcb127d4/element HTTP/1.1\" 200 127\n",
      "DEBUG:selenium.webdriver.remote.remote_connection:Remote response: status=200 | data={\"value\":{\"element-6066-11e4-a52e-4f735466cecf\":\"f.B9A810928C24961026ED4A7AA8D3727D.d.C51DBB65ADC0CB1BA0D84D4ADE1FDD5F.e.154\"}} | headers=HTTPHeaderDict({'Content-Length': '127', 'Content-Type': 'application/json; charset=utf-8', 'cache-control': 'no-cache'})\n",
      "DEBUG:selenium.webdriver.remote.remote_connection:Finished Request\n",
      "DEBUG:selenium.webdriver.remote.remote_connection:GET http://localhost:52805/session/cf3a6d51a720300ec49e10c9dcb127d4/element/f.B9A810928C24961026ED4A7AA8D3727D.d.C51DBB65ADC0CB1BA0D84D4ADE1FDD5F.e.154/text {}\n",
      "DEBUG:urllib3.connectionpool:http://localhost:52805 \"GET /session/cf3a6d51a720300ec49e10c9dcb127d4/element/f.B9A810928C24961026ED4A7AA8D3727D.d.C51DBB65ADC0CB1BA0D84D4ADE1FDD5F.e.154/text HTTP/1.1\" 200 25\n",
      "DEBUG:selenium.webdriver.remote.remote_connection:Remote response: status=200 | data={\"value\":\"{\\\"data\\\":[]}\"} | headers=HTTPHeaderDict({'Content-Length': '25', 'Content-Type': 'application/json; charset=utf-8', 'cache-control': 'no-cache'})\n",
      "DEBUG:selenium.webdriver.remote.remote_connection:Finished Request\n"
     ]
    },
    {
     "name": "stdout",
     "output_type": "stream",
     "text": [
      "Response text from Congreso: {\"data\":[]}\n",
      "Raw response: {'data': []}\n",
      "Number of diputades extracted: 0\n",
      "2025-03-06 12:07:56,575 INFO sqlalchemy.engine.Engine COMMIT\n"
     ]
    },
    {
     "name": "stderr",
     "output_type": "stream",
     "text": [
      "INFO:sqlalchemy.engine.Engine:COMMIT\n"
     ]
    },
    {
     "name": "stdout",
     "output_type": "stream",
     "text": [
      "2025-03-06 12:07:56,577 INFO sqlalchemy.engine.Engine BEGIN (implicit)\n"
     ]
    },
    {
     "name": "stderr",
     "output_type": "stream",
     "text": [
      "INFO:sqlalchemy.engine.Engine:BEGIN (implicit)\n"
     ]
    },
    {
     "name": "stdout",
     "output_type": "stream",
     "text": [
      "2025-03-06 12:07:56,579 INFO sqlalchemy.engine.Engine SELECT term.term AS term_term, term.term_id AS term_term_id, term.president AS term_president, term.init_date AS term_init_date, term.finish_date AS term_finish_date \n",
      "FROM term \n",
      "WHERE term.term = ?\n"
     ]
    },
    {
     "name": "stderr",
     "output_type": "stream",
     "text": [
      "INFO:sqlalchemy.engine.Engine:SELECT term.term AS term_term, term.term_id AS term_term_id, term.president AS term_president, term.init_date AS term_init_date, term.finish_date AS term_finish_date \n",
      "FROM term \n",
      "WHERE term.term = ?\n"
     ]
    },
    {
     "name": "stdout",
     "output_type": "stream",
     "text": [
      "2025-03-06 12:07:56,580 INFO sqlalchemy.engine.Engine [cached since 0.6187s ago] ('Legislatura',)\n"
     ]
    },
    {
     "name": "stderr",
     "output_type": "stream",
     "text": [
      "INFO:sqlalchemy.engine.Engine:[cached since 0.6187s ago] ('Legislatura',)\n",
      "INFO:root:Finished crawling term Legislatura\n"
     ]
    },
    {
     "name": "stdout",
     "output_type": "stream",
     "text": [
      "2025-03-06 12:07:56,584 INFO sqlalchemy.engine.Engine SELECT term.term AS term_term, term.term_id AS term_term_id, term.president AS term_president, term.init_date AS term_init_date, term.finish_date AS term_finish_date \n",
      "FROM term \n",
      "WHERE term.term = ?\n"
     ]
    },
    {
     "name": "stderr",
     "output_type": "stream",
     "text": [
      "INFO:sqlalchemy.engine.Engine:SELECT term.term AS term_term, term.term_id AS term_term_id, term.president AS term_president, term.init_date AS term_init_date, term.finish_date AS term_finish_date \n",
      "FROM term \n",
      "WHERE term.term = ?\n"
     ]
    },
    {
     "name": "stdout",
     "output_type": "stream",
     "text": [
      "2025-03-06 12:07:56,585 INFO sqlalchemy.engine.Engine [cached since 0.6235s ago] ('Todas',)\n"
     ]
    },
    {
     "name": "stderr",
     "output_type": "stream",
     "text": [
      "INFO:sqlalchemy.engine.Engine:[cached since 0.6235s ago] ('Todas',)\n",
      "INFO:root:Starting crawling term Todas\n",
      "DEBUG:selenium.webdriver.remote.remote_connection:POST http://localhost:52805/session/cf3a6d51a720300ec49e10c9dcb127d4/url {'url': 'https://www.congreso.es/ca/busqueda-de-diputados?p_p_id=diputadomodule&p_p_lifecycle=2&p_p_state=nor...'}\n",
      "DEBUG:urllib3.connectionpool:http://localhost:52805 \"POST /session/cf3a6d51a720300ec49e10c9dcb127d4/url HTTP/1.1\" 200 14\n",
      "DEBUG:selenium.webdriver.remote.remote_connection:Remote response: status=200 | data={\"value\":null} | headers=HTTPHeaderDict({'Content-Length': '14', 'Content-Type': 'application/json; charset=utf-8', 'cache-control': 'no-cache'})\n",
      "DEBUG:selenium.webdriver.remote.remote_connection:Finished Request\n",
      "DEBUG:selenium.webdriver.remote.remote_connection:POST http://localhost:52805/session/cf3a6d51a720300ec49e10c9dcb127d4/element {'using': 'tag name', 'value': 'body'}\n",
      "DEBUG:urllib3.connectionpool:http://localhost:52805 \"POST /session/cf3a6d51a720300ec49e10c9dcb127d4/element HTTP/1.1\" 200 127\n",
      "DEBUG:selenium.webdriver.remote.remote_connection:Remote response: status=200 | data={\"value\":{\"element-6066-11e4-a52e-4f735466cecf\":\"f.B9A810928C24961026ED4A7AA8D3727D.d.37527BE77F3A54D3EA21D3ADAEFD1BEA.e.156\"}} | headers=HTTPHeaderDict({'Content-Length': '127', 'Content-Type': 'application/json; charset=utf-8', 'cache-control': 'no-cache'})\n",
      "DEBUG:selenium.webdriver.remote.remote_connection:Finished Request\n",
      "DEBUG:selenium.webdriver.remote.remote_connection:GET http://localhost:52805/session/cf3a6d51a720300ec49e10c9dcb127d4/element/f.B9A810928C24961026ED4A7AA8D3727D.d.37527BE77F3A54D3EA21D3ADAEFD1BEA.e.156/text {}\n",
      "DEBUG:urllib3.connectionpool:http://localhost:52805 \"GET /session/cf3a6d51a720300ec49e10c9dcb127d4/element/f.B9A810928C24961026ED4A7AA8D3727D.d.37527BE77F3A54D3EA21D3ADAEFD1BEA.e.156/text HTTP/1.1\" 200 25\n",
      "DEBUG:selenium.webdriver.remote.remote_connection:Remote response: status=200 | data={\"value\":\"{\\\"data\\\":[]}\"} | headers=HTTPHeaderDict({'Content-Length': '25', 'Content-Type': 'application/json; charset=utf-8', 'cache-control': 'no-cache'})\n",
      "DEBUG:selenium.webdriver.remote.remote_connection:Finished Request\n"
     ]
    },
    {
     "name": "stdout",
     "output_type": "stream",
     "text": [
      "Response text from Congreso: {\"data\":[]}\n",
      "Raw response: {'data': []}\n",
      "Number of diputades extracted: 0\n",
      "2025-03-06 12:07:56,694 INFO sqlalchemy.engine.Engine COMMIT\n"
     ]
    },
    {
     "name": "stderr",
     "output_type": "stream",
     "text": [
      "INFO:sqlalchemy.engine.Engine:COMMIT\n"
     ]
    },
    {
     "name": "stdout",
     "output_type": "stream",
     "text": [
      "2025-03-06 12:07:56,696 INFO sqlalchemy.engine.Engine BEGIN (implicit)\n"
     ]
    },
    {
     "name": "stderr",
     "output_type": "stream",
     "text": [
      "INFO:sqlalchemy.engine.Engine:BEGIN (implicit)\n"
     ]
    },
    {
     "name": "stdout",
     "output_type": "stream",
     "text": [
      "2025-03-06 12:07:56,697 INFO sqlalchemy.engine.Engine SELECT term.term AS term_term, term.term_id AS term_term_id, term.president AS term_president, term.init_date AS term_init_date, term.finish_date AS term_finish_date \n",
      "FROM term \n",
      "WHERE term.term = ?\n"
     ]
    },
    {
     "name": "stderr",
     "output_type": "stream",
     "text": [
      "INFO:sqlalchemy.engine.Engine:SELECT term.term AS term_term, term.term_id AS term_term_id, term.president AS term_president, term.init_date AS term_init_date, term.finish_date AS term_finish_date \n",
      "FROM term \n",
      "WHERE term.term = ?\n"
     ]
    },
    {
     "name": "stdout",
     "output_type": "stream",
     "text": [
      "2025-03-06 12:07:56,699 INFO sqlalchemy.engine.Engine [cached since 0.7374s ago] ('Todas',)\n"
     ]
    },
    {
     "name": "stderr",
     "output_type": "stream",
     "text": [
      "INFO:sqlalchemy.engine.Engine:[cached since 0.7374s ago] ('Todas',)\n",
      "INFO:root:Finished crawling term Todas\n"
     ]
    },
    {
     "name": "stdout",
     "output_type": "stream",
     "text": [
      "2025-03-06 12:07:56,702 INFO sqlalchemy.engine.Engine SELECT term.term AS term_term, term.term_id AS term_term_id, term.president AS term_president, term.init_date AS term_init_date, term.finish_date AS term_finish_date \n",
      "FROM term \n",
      "WHERE term.term = ?\n"
     ]
    },
    {
     "name": "stderr",
     "output_type": "stream",
     "text": [
      "INFO:sqlalchemy.engine.Engine:SELECT term.term AS term_term, term.term_id AS term_term_id, term.president AS term_president, term.init_date AS term_init_date, term.finish_date AS term_finish_date \n",
      "FROM term \n",
      "WHERE term.term = ?\n"
     ]
    },
    {
     "name": "stdout",
     "output_type": "stream",
     "text": [
      "2025-03-06 12:07:56,703 INFO sqlalchemy.engine.Engine [cached since 0.7416s ago] ('V',)\n"
     ]
    },
    {
     "name": "stderr",
     "output_type": "stream",
     "text": [
      "INFO:sqlalchemy.engine.Engine:[cached since 0.7416s ago] ('V',)\n",
      "INFO:root:Starting crawling term V\n",
      "DEBUG:selenium.webdriver.remote.remote_connection:POST http://localhost:52805/session/cf3a6d51a720300ec49e10c9dcb127d4/url {'url': 'https://www.congreso.es/ca/busqueda-de-diputados?p_p_id=diputadomodule&p_p_lifecycle=2&p_p_state=nor...'}\n",
      "DEBUG:urllib3.connectionpool:http://localhost:52805 \"POST /session/cf3a6d51a720300ec49e10c9dcb127d4/url HTTP/1.1\" 200 14\n",
      "DEBUG:selenium.webdriver.remote.remote_connection:Remote response: status=200 | data={\"value\":null} | headers=HTTPHeaderDict({'Content-Length': '14', 'Content-Type': 'application/json; charset=utf-8', 'cache-control': 'no-cache'})\n",
      "DEBUG:selenium.webdriver.remote.remote_connection:Finished Request\n",
      "DEBUG:selenium.webdriver.remote.remote_connection:POST http://localhost:52805/session/cf3a6d51a720300ec49e10c9dcb127d4/element {'using': 'tag name', 'value': 'body'}\n",
      "DEBUG:urllib3.connectionpool:http://localhost:52805 \"POST /session/cf3a6d51a720300ec49e10c9dcb127d4/element HTTP/1.1\" 200 127\n",
      "DEBUG:selenium.webdriver.remote.remote_connection:Remote response: status=200 | data={\"value\":{\"element-6066-11e4-a52e-4f735466cecf\":\"f.B9A810928C24961026ED4A7AA8D3727D.d.61E2D16C0549214FE05168CDB33A3729.e.158\"}} | headers=HTTPHeaderDict({'Content-Length': '127', 'Content-Type': 'application/json; charset=utf-8', 'cache-control': 'no-cache'})\n",
      "DEBUG:selenium.webdriver.remote.remote_connection:Finished Request\n",
      "DEBUG:selenium.webdriver.remote.remote_connection:GET http://localhost:52805/session/cf3a6d51a720300ec49e10c9dcb127d4/element/f.B9A810928C24961026ED4A7AA8D3727D.d.61E2D16C0549214FE05168CDB33A3729.e.158/text {}\n",
      "DEBUG:urllib3.connectionpool:http://localhost:52805 \"GET /session/cf3a6d51a720300ec49e10c9dcb127d4/element/f.B9A810928C24961026ED4A7AA8D3727D.d.61E2D16C0549214FE05168CDB33A3729.e.158/text HTTP/1.1\" 200 25\n",
      "DEBUG:selenium.webdriver.remote.remote_connection:Remote response: status=200 | data={\"value\":\"{\\\"data\\\":[]}\"} | headers=HTTPHeaderDict({'Content-Length': '25', 'Content-Type': 'application/json; charset=utf-8', 'cache-control': 'no-cache'})\n",
      "DEBUG:selenium.webdriver.remote.remote_connection:Finished Request\n"
     ]
    },
    {
     "name": "stdout",
     "output_type": "stream",
     "text": [
      "Response text from Congreso: {\"data\":[]}\n",
      "Raw response: {'data': []}\n",
      "Number of diputades extracted: 0\n",
      "2025-03-06 12:07:56,867 INFO sqlalchemy.engine.Engine COMMIT\n"
     ]
    },
    {
     "name": "stderr",
     "output_type": "stream",
     "text": [
      "INFO:sqlalchemy.engine.Engine:COMMIT\n"
     ]
    },
    {
     "name": "stdout",
     "output_type": "stream",
     "text": [
      "2025-03-06 12:07:56,869 INFO sqlalchemy.engine.Engine BEGIN (implicit)\n"
     ]
    },
    {
     "name": "stderr",
     "output_type": "stream",
     "text": [
      "INFO:sqlalchemy.engine.Engine:BEGIN (implicit)\n"
     ]
    },
    {
     "name": "stdout",
     "output_type": "stream",
     "text": [
      "2025-03-06 12:07:56,870 INFO sqlalchemy.engine.Engine SELECT term.term AS term_term, term.term_id AS term_term_id, term.president AS term_president, term.init_date AS term_init_date, term.finish_date AS term_finish_date \n",
      "FROM term \n",
      "WHERE term.term = ?\n"
     ]
    },
    {
     "name": "stderr",
     "output_type": "stream",
     "text": [
      "INFO:sqlalchemy.engine.Engine:SELECT term.term AS term_term, term.term_id AS term_term_id, term.president AS term_president, term.init_date AS term_init_date, term.finish_date AS term_finish_date \n",
      "FROM term \n",
      "WHERE term.term = ?\n"
     ]
    },
    {
     "name": "stdout",
     "output_type": "stream",
     "text": [
      "2025-03-06 12:07:56,871 INFO sqlalchemy.engine.Engine [cached since 0.9101s ago] ('V',)\n"
     ]
    },
    {
     "name": "stderr",
     "output_type": "stream",
     "text": [
      "INFO:sqlalchemy.engine.Engine:[cached since 0.9101s ago] ('V',)\n",
      "INFO:root:Finished crawling term V\n"
     ]
    },
    {
     "name": "stdout",
     "output_type": "stream",
     "text": [
      "2025-03-06 12:07:56,875 INFO sqlalchemy.engine.Engine SELECT term.term AS term_term, term.term_id AS term_term_id, term.president AS term_president, term.init_date AS term_init_date, term.finish_date AS term_finish_date \n",
      "FROM term \n",
      "WHERE term.term = ?\n"
     ]
    },
    {
     "name": "stderr",
     "output_type": "stream",
     "text": [
      "INFO:sqlalchemy.engine.Engine:SELECT term.term AS term_term, term.term_id AS term_term_id, term.president AS term_president, term.init_date AS term_init_date, term.finish_date AS term_finish_date \n",
      "FROM term \n",
      "WHERE term.term = ?\n"
     ]
    },
    {
     "name": "stdout",
     "output_type": "stream",
     "text": [
      "2025-03-06 12:07:56,876 INFO sqlalchemy.engine.Engine [cached since 0.9143s ago] ('VI',)\n"
     ]
    },
    {
     "name": "stderr",
     "output_type": "stream",
     "text": [
      "INFO:sqlalchemy.engine.Engine:[cached since 0.9143s ago] ('VI',)\n",
      "INFO:root:Starting crawling term VI\n",
      "DEBUG:selenium.webdriver.remote.remote_connection:POST http://localhost:52805/session/cf3a6d51a720300ec49e10c9dcb127d4/url {'url': 'https://www.congreso.es/ca/busqueda-de-diputados?p_p_id=diputadomodule&p_p_lifecycle=2&p_p_state=nor...'}\n",
      "DEBUG:urllib3.connectionpool:http://localhost:52805 \"POST /session/cf3a6d51a720300ec49e10c9dcb127d4/url HTTP/1.1\" 200 14\n",
      "DEBUG:selenium.webdriver.remote.remote_connection:Remote response: status=200 | data={\"value\":null} | headers=HTTPHeaderDict({'Content-Length': '14', 'Content-Type': 'application/json; charset=utf-8', 'cache-control': 'no-cache'})\n",
      "DEBUG:selenium.webdriver.remote.remote_connection:Finished Request\n",
      "DEBUG:selenium.webdriver.remote.remote_connection:POST http://localhost:52805/session/cf3a6d51a720300ec49e10c9dcb127d4/element {'using': 'tag name', 'value': 'body'}\n",
      "DEBUG:urllib3.connectionpool:http://localhost:52805 \"POST /session/cf3a6d51a720300ec49e10c9dcb127d4/element HTTP/1.1\" 200 127\n",
      "DEBUG:selenium.webdriver.remote.remote_connection:Remote response: status=200 | data={\"value\":{\"element-6066-11e4-a52e-4f735466cecf\":\"f.B9A810928C24961026ED4A7AA8D3727D.d.A2D20BD856A0F4BFA5B6C6945A69417D.e.160\"}} | headers=HTTPHeaderDict({'Content-Length': '127', 'Content-Type': 'application/json; charset=utf-8', 'cache-control': 'no-cache'})\n",
      "DEBUG:selenium.webdriver.remote.remote_connection:Finished Request\n",
      "DEBUG:selenium.webdriver.remote.remote_connection:GET http://localhost:52805/session/cf3a6d51a720300ec49e10c9dcb127d4/element/f.B9A810928C24961026ED4A7AA8D3727D.d.A2D20BD856A0F4BFA5B6C6945A69417D.e.160/text {}\n",
      "DEBUG:urllib3.connectionpool:http://localhost:52805 \"GET /session/cf3a6d51a720300ec49e10c9dcb127d4/element/f.B9A810928C24961026ED4A7AA8D3727D.d.A2D20BD856A0F4BFA5B6C6945A69417D.e.160/text HTTP/1.1\" 200 25\n",
      "DEBUG:selenium.webdriver.remote.remote_connection:Remote response: status=200 | data={\"value\":\"{\\\"data\\\":[]}\"} | headers=HTTPHeaderDict({'Content-Length': '25', 'Content-Type': 'application/json; charset=utf-8', 'cache-control': 'no-cache'})\n",
      "DEBUG:selenium.webdriver.remote.remote_connection:Finished Request\n"
     ]
    },
    {
     "name": "stdout",
     "output_type": "stream",
     "text": [
      "Response text from Congreso: {\"data\":[]}\n",
      "Raw response: {'data': []}\n",
      "Number of diputades extracted: 0\n",
      "2025-03-06 12:07:56,968 INFO sqlalchemy.engine.Engine COMMIT\n"
     ]
    },
    {
     "name": "stderr",
     "output_type": "stream",
     "text": [
      "INFO:sqlalchemy.engine.Engine:COMMIT\n"
     ]
    },
    {
     "name": "stdout",
     "output_type": "stream",
     "text": [
      "2025-03-06 12:07:56,971 INFO sqlalchemy.engine.Engine BEGIN (implicit)\n"
     ]
    },
    {
     "name": "stderr",
     "output_type": "stream",
     "text": [
      "INFO:sqlalchemy.engine.Engine:BEGIN (implicit)\n"
     ]
    },
    {
     "name": "stdout",
     "output_type": "stream",
     "text": [
      "2025-03-06 12:07:56,973 INFO sqlalchemy.engine.Engine SELECT term.term AS term_term, term.term_id AS term_term_id, term.president AS term_president, term.init_date AS term_init_date, term.finish_date AS term_finish_date \n",
      "FROM term \n",
      "WHERE term.term = ?\n"
     ]
    },
    {
     "name": "stderr",
     "output_type": "stream",
     "text": [
      "INFO:sqlalchemy.engine.Engine:SELECT term.term AS term_term, term.term_id AS term_term_id, term.president AS term_president, term.init_date AS term_init_date, term.finish_date AS term_finish_date \n",
      "FROM term \n",
      "WHERE term.term = ?\n"
     ]
    },
    {
     "name": "stdout",
     "output_type": "stream",
     "text": [
      "2025-03-06 12:07:56,974 INFO sqlalchemy.engine.Engine [cached since 1.013s ago] ('VI',)\n"
     ]
    },
    {
     "name": "stderr",
     "output_type": "stream",
     "text": [
      "INFO:sqlalchemy.engine.Engine:[cached since 1.013s ago] ('VI',)\n",
      "INFO:root:Finished crawling term VI\n"
     ]
    },
    {
     "name": "stdout",
     "output_type": "stream",
     "text": [
      "2025-03-06 12:07:56,977 INFO sqlalchemy.engine.Engine SELECT term.term AS term_term, term.term_id AS term_term_id, term.president AS term_president, term.init_date AS term_init_date, term.finish_date AS term_finish_date \n",
      "FROM term \n",
      "WHERE term.term = ?\n"
     ]
    },
    {
     "name": "stderr",
     "output_type": "stream",
     "text": [
      "INFO:sqlalchemy.engine.Engine:SELECT term.term AS term_term, term.term_id AS term_term_id, term.president AS term_president, term.init_date AS term_init_date, term.finish_date AS term_finish_date \n",
      "FROM term \n",
      "WHERE term.term = ?\n"
     ]
    },
    {
     "name": "stdout",
     "output_type": "stream",
     "text": [
      "2025-03-06 12:07:56,979 INFO sqlalchemy.engine.Engine [cached since 1.017s ago] ('VII',)\n"
     ]
    },
    {
     "name": "stderr",
     "output_type": "stream",
     "text": [
      "INFO:sqlalchemy.engine.Engine:[cached since 1.017s ago] ('VII',)\n",
      "INFO:root:Starting crawling term VII\n",
      "DEBUG:selenium.webdriver.remote.remote_connection:POST http://localhost:52805/session/cf3a6d51a720300ec49e10c9dcb127d4/url {'url': 'https://www.congreso.es/ca/busqueda-de-diputados?p_p_id=diputadomodule&p_p_lifecycle=2&p_p_state=nor...'}\n",
      "DEBUG:urllib3.connectionpool:http://localhost:52805 \"POST /session/cf3a6d51a720300ec49e10c9dcb127d4/url HTTP/1.1\" 200 14\n",
      "DEBUG:selenium.webdriver.remote.remote_connection:Remote response: status=200 | data={\"value\":null} | headers=HTTPHeaderDict({'Content-Length': '14', 'Content-Type': 'application/json; charset=utf-8', 'cache-control': 'no-cache'})\n",
      "DEBUG:selenium.webdriver.remote.remote_connection:Finished Request\n",
      "DEBUG:selenium.webdriver.remote.remote_connection:POST http://localhost:52805/session/cf3a6d51a720300ec49e10c9dcb127d4/element {'using': 'tag name', 'value': 'body'}\n",
      "DEBUG:urllib3.connectionpool:http://localhost:52805 \"POST /session/cf3a6d51a720300ec49e10c9dcb127d4/element HTTP/1.1\" 200 127\n",
      "DEBUG:selenium.webdriver.remote.remote_connection:Remote response: status=200 | data={\"value\":{\"element-6066-11e4-a52e-4f735466cecf\":\"f.B9A810928C24961026ED4A7AA8D3727D.d.B0C626A494E2318EC008D96B2BC9AD4E.e.162\"}} | headers=HTTPHeaderDict({'Content-Length': '127', 'Content-Type': 'application/json; charset=utf-8', 'cache-control': 'no-cache'})\n",
      "DEBUG:selenium.webdriver.remote.remote_connection:Finished Request\n",
      "DEBUG:selenium.webdriver.remote.remote_connection:GET http://localhost:52805/session/cf3a6d51a720300ec49e10c9dcb127d4/element/f.B9A810928C24961026ED4A7AA8D3727D.d.B0C626A494E2318EC008D96B2BC9AD4E.e.162/text {}\n",
      "DEBUG:urllib3.connectionpool:http://localhost:52805 \"GET /session/cf3a6d51a720300ec49e10c9dcb127d4/element/f.B9A810928C24961026ED4A7AA8D3727D.d.B0C626A494E2318EC008D96B2BC9AD4E.e.162/text HTTP/1.1\" 200 25\n",
      "DEBUG:selenium.webdriver.remote.remote_connection:Remote response: status=200 | data={\"value\":\"{\\\"data\\\":[]}\"} | headers=HTTPHeaderDict({'Content-Length': '25', 'Content-Type': 'application/json; charset=utf-8', 'cache-control': 'no-cache'})\n",
      "DEBUG:selenium.webdriver.remote.remote_connection:Finished Request\n"
     ]
    },
    {
     "name": "stdout",
     "output_type": "stream",
     "text": [
      "Response text from Congreso: {\"data\":[]}\n",
      "Raw response: {'data': []}\n",
      "Number of diputades extracted: 0\n",
      "2025-03-06 12:07:57,115 INFO sqlalchemy.engine.Engine COMMIT\n"
     ]
    },
    {
     "name": "stderr",
     "output_type": "stream",
     "text": [
      "INFO:sqlalchemy.engine.Engine:COMMIT\n"
     ]
    },
    {
     "name": "stdout",
     "output_type": "stream",
     "text": [
      "2025-03-06 12:07:57,117 INFO sqlalchemy.engine.Engine BEGIN (implicit)\n"
     ]
    },
    {
     "name": "stderr",
     "output_type": "stream",
     "text": [
      "INFO:sqlalchemy.engine.Engine:BEGIN (implicit)\n"
     ]
    },
    {
     "name": "stdout",
     "output_type": "stream",
     "text": [
      "2025-03-06 12:07:57,119 INFO sqlalchemy.engine.Engine SELECT term.term AS term_term, term.term_id AS term_term_id, term.president AS term_president, term.init_date AS term_init_date, term.finish_date AS term_finish_date \n",
      "FROM term \n",
      "WHERE term.term = ?\n"
     ]
    },
    {
     "name": "stderr",
     "output_type": "stream",
     "text": [
      "INFO:sqlalchemy.engine.Engine:SELECT term.term AS term_term, term.term_id AS term_term_id, term.president AS term_president, term.init_date AS term_init_date, term.finish_date AS term_finish_date \n",
      "FROM term \n",
      "WHERE term.term = ?\n"
     ]
    },
    {
     "name": "stdout",
     "output_type": "stream",
     "text": [
      "2025-03-06 12:07:57,120 INFO sqlalchemy.engine.Engine [cached since 1.159s ago] ('VII',)\n"
     ]
    },
    {
     "name": "stderr",
     "output_type": "stream",
     "text": [
      "INFO:sqlalchemy.engine.Engine:[cached since 1.159s ago] ('VII',)\n",
      "INFO:root:Finished crawling term VII\n"
     ]
    },
    {
     "name": "stdout",
     "output_type": "stream",
     "text": [
      "2025-03-06 12:07:57,125 INFO sqlalchemy.engine.Engine SELECT term.term AS term_term, term.term_id AS term_term_id, term.president AS term_president, term.init_date AS term_init_date, term.finish_date AS term_finish_date \n",
      "FROM term \n",
      "WHERE term.term = ?\n"
     ]
    },
    {
     "name": "stderr",
     "output_type": "stream",
     "text": [
      "INFO:sqlalchemy.engine.Engine:SELECT term.term AS term_term, term.term_id AS term_term_id, term.president AS term_president, term.init_date AS term_init_date, term.finish_date AS term_finish_date \n",
      "FROM term \n",
      "WHERE term.term = ?\n"
     ]
    },
    {
     "name": "stdout",
     "output_type": "stream",
     "text": [
      "2025-03-06 12:07:57,127 INFO sqlalchemy.engine.Engine [cached since 1.165s ago] ('VIII',)\n"
     ]
    },
    {
     "name": "stderr",
     "output_type": "stream",
     "text": [
      "INFO:sqlalchemy.engine.Engine:[cached since 1.165s ago] ('VIII',)\n",
      "INFO:root:Starting crawling term VIII\n",
      "DEBUG:selenium.webdriver.remote.remote_connection:POST http://localhost:52805/session/cf3a6d51a720300ec49e10c9dcb127d4/url {'url': 'https://www.congreso.es/ca/busqueda-de-diputados?p_p_id=diputadomodule&p_p_lifecycle=2&p_p_state=nor...'}\n",
      "DEBUG:urllib3.connectionpool:http://localhost:52805 \"POST /session/cf3a6d51a720300ec49e10c9dcb127d4/url HTTP/1.1\" 200 14\n",
      "DEBUG:selenium.webdriver.remote.remote_connection:Remote response: status=200 | data={\"value\":null} | headers=HTTPHeaderDict({'Content-Length': '14', 'Content-Type': 'application/json; charset=utf-8', 'cache-control': 'no-cache'})\n",
      "DEBUG:selenium.webdriver.remote.remote_connection:Finished Request\n",
      "DEBUG:selenium.webdriver.remote.remote_connection:POST http://localhost:52805/session/cf3a6d51a720300ec49e10c9dcb127d4/element {'using': 'tag name', 'value': 'body'}\n",
      "DEBUG:urllib3.connectionpool:http://localhost:52805 \"POST /session/cf3a6d51a720300ec49e10c9dcb127d4/element HTTP/1.1\" 200 127\n",
      "DEBUG:selenium.webdriver.remote.remote_connection:Remote response: status=200 | data={\"value\":{\"element-6066-11e4-a52e-4f735466cecf\":\"f.B9A810928C24961026ED4A7AA8D3727D.d.6B0B3BCC4C233DB2383EE06F352134F1.e.164\"}} | headers=HTTPHeaderDict({'Content-Length': '127', 'Content-Type': 'application/json; charset=utf-8', 'cache-control': 'no-cache'})\n",
      "DEBUG:selenium.webdriver.remote.remote_connection:Finished Request\n",
      "DEBUG:selenium.webdriver.remote.remote_connection:GET http://localhost:52805/session/cf3a6d51a720300ec49e10c9dcb127d4/element/f.B9A810928C24961026ED4A7AA8D3727D.d.6B0B3BCC4C233DB2383EE06F352134F1.e.164/text {}\n",
      "DEBUG:urllib3.connectionpool:http://localhost:52805 \"GET /session/cf3a6d51a720300ec49e10c9dcb127d4/element/f.B9A810928C24961026ED4A7AA8D3727D.d.6B0B3BCC4C233DB2383EE06F352134F1.e.164/text HTTP/1.1\" 200 25\n",
      "DEBUG:selenium.webdriver.remote.remote_connection:Remote response: status=200 | data={\"value\":\"{\\\"data\\\":[]}\"} | headers=HTTPHeaderDict({'Content-Length': '25', 'Content-Type': 'application/json; charset=utf-8', 'cache-control': 'no-cache'})\n",
      "DEBUG:selenium.webdriver.remote.remote_connection:Finished Request\n"
     ]
    },
    {
     "name": "stdout",
     "output_type": "stream",
     "text": [
      "Response text from Congreso: {\"data\":[]}\n",
      "Raw response: {'data': []}\n",
      "Number of diputades extracted: 0\n",
      "2025-03-06 12:07:57,216 INFO sqlalchemy.engine.Engine COMMIT\n"
     ]
    },
    {
     "name": "stderr",
     "output_type": "stream",
     "text": [
      "INFO:sqlalchemy.engine.Engine:COMMIT\n"
     ]
    },
    {
     "name": "stdout",
     "output_type": "stream",
     "text": [
      "2025-03-06 12:07:57,218 INFO sqlalchemy.engine.Engine BEGIN (implicit)\n"
     ]
    },
    {
     "name": "stderr",
     "output_type": "stream",
     "text": [
      "INFO:sqlalchemy.engine.Engine:BEGIN (implicit)\n"
     ]
    },
    {
     "name": "stdout",
     "output_type": "stream",
     "text": [
      "2025-03-06 12:07:57,219 INFO sqlalchemy.engine.Engine SELECT term.term AS term_term, term.term_id AS term_term_id, term.president AS term_president, term.init_date AS term_init_date, term.finish_date AS term_finish_date \n",
      "FROM term \n",
      "WHERE term.term = ?\n"
     ]
    },
    {
     "name": "stderr",
     "output_type": "stream",
     "text": [
      "INFO:sqlalchemy.engine.Engine:SELECT term.term AS term_term, term.term_id AS term_term_id, term.president AS term_president, term.init_date AS term_init_date, term.finish_date AS term_finish_date \n",
      "FROM term \n",
      "WHERE term.term = ?\n"
     ]
    },
    {
     "name": "stdout",
     "output_type": "stream",
     "text": [
      "2025-03-06 12:07:57,223 INFO sqlalchemy.engine.Engine [cached since 1.262s ago] ('VIII',)\n"
     ]
    },
    {
     "name": "stderr",
     "output_type": "stream",
     "text": [
      "INFO:sqlalchemy.engine.Engine:[cached since 1.262s ago] ('VIII',)\n",
      "INFO:root:Finished crawling term VIII\n"
     ]
    },
    {
     "name": "stdout",
     "output_type": "stream",
     "text": [
      "2025-03-06 12:07:57,227 INFO sqlalchemy.engine.Engine SELECT term.term AS term_term, term.term_id AS term_term_id, term.president AS term_president, term.init_date AS term_init_date, term.finish_date AS term_finish_date \n",
      "FROM term \n",
      "WHERE term.term = ?\n"
     ]
    },
    {
     "name": "stderr",
     "output_type": "stream",
     "text": [
      "INFO:sqlalchemy.engine.Engine:SELECT term.term AS term_term, term.term_id AS term_term_id, term.president AS term_president, term.init_date AS term_init_date, term.finish_date AS term_finish_date \n",
      "FROM term \n",
      "WHERE term.term = ?\n"
     ]
    },
    {
     "name": "stdout",
     "output_type": "stream",
     "text": [
      "2025-03-06 12:07:57,228 INFO sqlalchemy.engine.Engine [cached since 1.267s ago] ('X',)\n"
     ]
    },
    {
     "name": "stderr",
     "output_type": "stream",
     "text": [
      "INFO:sqlalchemy.engine.Engine:[cached since 1.267s ago] ('X',)\n",
      "INFO:root:Starting crawling term X\n",
      "DEBUG:selenium.webdriver.remote.remote_connection:POST http://localhost:52805/session/cf3a6d51a720300ec49e10c9dcb127d4/url {'url': 'https://www.congreso.es/ca/busqueda-de-diputados?p_p_id=diputadomodule&p_p_lifecycle=2&p_p_state=nor...'}\n",
      "DEBUG:urllib3.connectionpool:http://localhost:52805 \"POST /session/cf3a6d51a720300ec49e10c9dcb127d4/url HTTP/1.1\" 200 14\n",
      "DEBUG:selenium.webdriver.remote.remote_connection:Remote response: status=200 | data={\"value\":null} | headers=HTTPHeaderDict({'Content-Length': '14', 'Content-Type': 'application/json; charset=utf-8', 'cache-control': 'no-cache'})\n",
      "DEBUG:selenium.webdriver.remote.remote_connection:Finished Request\n",
      "DEBUG:selenium.webdriver.remote.remote_connection:POST http://localhost:52805/session/cf3a6d51a720300ec49e10c9dcb127d4/element {'using': 'tag name', 'value': 'body'}\n",
      "DEBUG:urllib3.connectionpool:http://localhost:52805 \"POST /session/cf3a6d51a720300ec49e10c9dcb127d4/element HTTP/1.1\" 200 127\n",
      "DEBUG:selenium.webdriver.remote.remote_connection:Remote response: status=200 | data={\"value\":{\"element-6066-11e4-a52e-4f735466cecf\":\"f.B9A810928C24961026ED4A7AA8D3727D.d.9B25AD0B351A67958228BAB1C20DF2A0.e.166\"}} | headers=HTTPHeaderDict({'Content-Length': '127', 'Content-Type': 'application/json; charset=utf-8', 'cache-control': 'no-cache'})\n",
      "DEBUG:selenium.webdriver.remote.remote_connection:Finished Request\n",
      "DEBUG:selenium.webdriver.remote.remote_connection:GET http://localhost:52805/session/cf3a6d51a720300ec49e10c9dcb127d4/element/f.B9A810928C24961026ED4A7AA8D3727D.d.9B25AD0B351A67958228BAB1C20DF2A0.e.166/text {}\n",
      "DEBUG:urllib3.connectionpool:http://localhost:52805 \"GET /session/cf3a6d51a720300ec49e10c9dcb127d4/element/f.B9A810928C24961026ED4A7AA8D3727D.d.9B25AD0B351A67958228BAB1C20DF2A0.e.166/text HTTP/1.1\" 200 25\n",
      "DEBUG:selenium.webdriver.remote.remote_connection:Remote response: status=200 | data={\"value\":\"{\\\"data\\\":[]}\"} | headers=HTTPHeaderDict({'Content-Length': '25', 'Content-Type': 'application/json; charset=utf-8', 'cache-control': 'no-cache'})\n",
      "DEBUG:selenium.webdriver.remote.remote_connection:Finished Request\n"
     ]
    },
    {
     "name": "stdout",
     "output_type": "stream",
     "text": [
      "Response text from Congreso: {\"data\":[]}\n",
      "Raw response: {'data': []}\n",
      "Number of diputades extracted: 0\n",
      "2025-03-06 12:07:57,317 INFO sqlalchemy.engine.Engine COMMIT\n"
     ]
    },
    {
     "name": "stderr",
     "output_type": "stream",
     "text": [
      "INFO:sqlalchemy.engine.Engine:COMMIT\n"
     ]
    },
    {
     "name": "stdout",
     "output_type": "stream",
     "text": [
      "2025-03-06 12:07:57,319 INFO sqlalchemy.engine.Engine BEGIN (implicit)\n"
     ]
    },
    {
     "name": "stderr",
     "output_type": "stream",
     "text": [
      "INFO:sqlalchemy.engine.Engine:BEGIN (implicit)\n"
     ]
    },
    {
     "name": "stdout",
     "output_type": "stream",
     "text": [
      "2025-03-06 12:07:57,321 INFO sqlalchemy.engine.Engine SELECT term.term AS term_term, term.term_id AS term_term_id, term.president AS term_president, term.init_date AS term_init_date, term.finish_date AS term_finish_date \n",
      "FROM term \n",
      "WHERE term.term = ?\n"
     ]
    },
    {
     "name": "stderr",
     "output_type": "stream",
     "text": [
      "INFO:sqlalchemy.engine.Engine:SELECT term.term AS term_term, term.term_id AS term_term_id, term.president AS term_president, term.init_date AS term_init_date, term.finish_date AS term_finish_date \n",
      "FROM term \n",
      "WHERE term.term = ?\n"
     ]
    },
    {
     "name": "stdout",
     "output_type": "stream",
     "text": [
      "2025-03-06 12:07:57,322 INFO sqlalchemy.engine.Engine [cached since 1.361s ago] ('X',)\n"
     ]
    },
    {
     "name": "stderr",
     "output_type": "stream",
     "text": [
      "INFO:sqlalchemy.engine.Engine:[cached since 1.361s ago] ('X',)\n",
      "INFO:root:Finished crawling term X\n"
     ]
    },
    {
     "name": "stdout",
     "output_type": "stream",
     "text": [
      "2025-03-06 12:07:57,325 INFO sqlalchemy.engine.Engine SELECT term.term AS term_term, term.term_id AS term_term_id, term.president AS term_president, term.init_date AS term_init_date, term.finish_date AS term_finish_date \n",
      "FROM term \n",
      "WHERE term.term = ?\n"
     ]
    },
    {
     "name": "stderr",
     "output_type": "stream",
     "text": [
      "INFO:sqlalchemy.engine.Engine:SELECT term.term AS term_term, term.term_id AS term_term_id, term.president AS term_president, term.init_date AS term_init_date, term.finish_date AS term_finish_date \n",
      "FROM term \n",
      "WHERE term.term = ?\n"
     ]
    },
    {
     "name": "stdout",
     "output_type": "stream",
     "text": [
      "2025-03-06 12:07:57,326 INFO sqlalchemy.engine.Engine [cached since 1.364s ago] ('XI',)\n"
     ]
    },
    {
     "name": "stderr",
     "output_type": "stream",
     "text": [
      "INFO:sqlalchemy.engine.Engine:[cached since 1.364s ago] ('XI',)\n",
      "INFO:root:Starting crawling term XI\n",
      "DEBUG:selenium.webdriver.remote.remote_connection:POST http://localhost:52805/session/cf3a6d51a720300ec49e10c9dcb127d4/url {'url': 'https://www.congreso.es/ca/busqueda-de-diputados?p_p_id=diputadomodule&p_p_lifecycle=2&p_p_state=nor...'}\n",
      "DEBUG:urllib3.connectionpool:http://localhost:52805 \"POST /session/cf3a6d51a720300ec49e10c9dcb127d4/url HTTP/1.1\" 200 14\n",
      "DEBUG:selenium.webdriver.remote.remote_connection:Remote response: status=200 | data={\"value\":null} | headers=HTTPHeaderDict({'Content-Length': '14', 'Content-Type': 'application/json; charset=utf-8', 'cache-control': 'no-cache'})\n",
      "DEBUG:selenium.webdriver.remote.remote_connection:Finished Request\n",
      "DEBUG:selenium.webdriver.remote.remote_connection:POST http://localhost:52805/session/cf3a6d51a720300ec49e10c9dcb127d4/element {'using': 'tag name', 'value': 'body'}\n",
      "DEBUG:urllib3.connectionpool:http://localhost:52805 \"POST /session/cf3a6d51a720300ec49e10c9dcb127d4/element HTTP/1.1\" 200 127\n",
      "DEBUG:selenium.webdriver.remote.remote_connection:Remote response: status=200 | data={\"value\":{\"element-6066-11e4-a52e-4f735466cecf\":\"f.B9A810928C24961026ED4A7AA8D3727D.d.DAFE2A72D1AFEFDC984CFC96696DA18F.e.168\"}} | headers=HTTPHeaderDict({'Content-Length': '127', 'Content-Type': 'application/json; charset=utf-8', 'cache-control': 'no-cache'})\n",
      "DEBUG:selenium.webdriver.remote.remote_connection:Finished Request\n",
      "DEBUG:selenium.webdriver.remote.remote_connection:GET http://localhost:52805/session/cf3a6d51a720300ec49e10c9dcb127d4/element/f.B9A810928C24961026ED4A7AA8D3727D.d.DAFE2A72D1AFEFDC984CFC96696DA18F.e.168/text {}\n",
      "DEBUG:urllib3.connectionpool:http://localhost:52805 \"GET /session/cf3a6d51a720300ec49e10c9dcb127d4/element/f.B9A810928C24961026ED4A7AA8D3727D.d.DAFE2A72D1AFEFDC984CFC96696DA18F.e.168/text HTTP/1.1\" 200 25\n",
      "DEBUG:selenium.webdriver.remote.remote_connection:Remote response: status=200 | data={\"value\":\"{\\\"data\\\":[]}\"} | headers=HTTPHeaderDict({'Content-Length': '25', 'Content-Type': 'application/json; charset=utf-8', 'cache-control': 'no-cache'})\n",
      "DEBUG:selenium.webdriver.remote.remote_connection:Finished Request\n"
     ]
    },
    {
     "name": "stdout",
     "output_type": "stream",
     "text": [
      "Response text from Congreso: {\"data\":[]}\n",
      "Raw response: {'data': []}\n",
      "Number of diputades extracted: 0\n",
      "2025-03-06 12:07:57,415 INFO sqlalchemy.engine.Engine COMMIT\n"
     ]
    },
    {
     "name": "stderr",
     "output_type": "stream",
     "text": [
      "INFO:sqlalchemy.engine.Engine:COMMIT\n"
     ]
    },
    {
     "name": "stdout",
     "output_type": "stream",
     "text": [
      "2025-03-06 12:07:57,418 INFO sqlalchemy.engine.Engine BEGIN (implicit)\n"
     ]
    },
    {
     "name": "stderr",
     "output_type": "stream",
     "text": [
      "INFO:sqlalchemy.engine.Engine:BEGIN (implicit)\n"
     ]
    },
    {
     "name": "stdout",
     "output_type": "stream",
     "text": [
      "2025-03-06 12:07:57,419 INFO sqlalchemy.engine.Engine SELECT term.term AS term_term, term.term_id AS term_term_id, term.president AS term_president, term.init_date AS term_init_date, term.finish_date AS term_finish_date \n",
      "FROM term \n",
      "WHERE term.term = ?\n"
     ]
    },
    {
     "name": "stderr",
     "output_type": "stream",
     "text": [
      "INFO:sqlalchemy.engine.Engine:SELECT term.term AS term_term, term.term_id AS term_term_id, term.president AS term_president, term.init_date AS term_init_date, term.finish_date AS term_finish_date \n",
      "FROM term \n",
      "WHERE term.term = ?\n"
     ]
    },
    {
     "name": "stdout",
     "output_type": "stream",
     "text": [
      "2025-03-06 12:07:57,423 INFO sqlalchemy.engine.Engine [cached since 1.462s ago] ('XI',)\n"
     ]
    },
    {
     "name": "stderr",
     "output_type": "stream",
     "text": [
      "INFO:sqlalchemy.engine.Engine:[cached since 1.462s ago] ('XI',)\n",
      "INFO:root:Finished crawling term XI\n"
     ]
    },
    {
     "name": "stdout",
     "output_type": "stream",
     "text": [
      "2025-03-06 12:07:57,427 INFO sqlalchemy.engine.Engine SELECT term.term AS term_term, term.term_id AS term_term_id, term.president AS term_president, term.init_date AS term_init_date, term.finish_date AS term_finish_date \n",
      "FROM term \n",
      "WHERE term.term = ?\n"
     ]
    },
    {
     "name": "stderr",
     "output_type": "stream",
     "text": [
      "INFO:sqlalchemy.engine.Engine:SELECT term.term AS term_term, term.term_id AS term_term_id, term.president AS term_president, term.init_date AS term_init_date, term.finish_date AS term_finish_date \n",
      "FROM term \n",
      "WHERE term.term = ?\n"
     ]
    },
    {
     "name": "stdout",
     "output_type": "stream",
     "text": [
      "2025-03-06 12:07:57,428 INFO sqlalchemy.engine.Engine [cached since 1.466s ago] ('XII',)\n"
     ]
    },
    {
     "name": "stderr",
     "output_type": "stream",
     "text": [
      "INFO:sqlalchemy.engine.Engine:[cached since 1.466s ago] ('XII',)\n",
      "INFO:root:Starting crawling term XII\n",
      "DEBUG:selenium.webdriver.remote.remote_connection:POST http://localhost:52805/session/cf3a6d51a720300ec49e10c9dcb127d4/url {'url': 'https://www.congreso.es/ca/busqueda-de-diputados?p_p_id=diputadomodule&p_p_lifecycle=2&p_p_state=nor...'}\n",
      "DEBUG:urllib3.connectionpool:http://localhost:52805 \"POST /session/cf3a6d51a720300ec49e10c9dcb127d4/url HTTP/1.1\" 200 14\n",
      "DEBUG:selenium.webdriver.remote.remote_connection:Remote response: status=200 | data={\"value\":null} | headers=HTTPHeaderDict({'Content-Length': '14', 'Content-Type': 'application/json; charset=utf-8', 'cache-control': 'no-cache'})\n",
      "DEBUG:selenium.webdriver.remote.remote_connection:Finished Request\n",
      "DEBUG:selenium.webdriver.remote.remote_connection:POST http://localhost:52805/session/cf3a6d51a720300ec49e10c9dcb127d4/element {'using': 'tag name', 'value': 'body'}\n",
      "DEBUG:urllib3.connectionpool:http://localhost:52805 \"POST /session/cf3a6d51a720300ec49e10c9dcb127d4/element HTTP/1.1\" 200 127\n",
      "DEBUG:selenium.webdriver.remote.remote_connection:Remote response: status=200 | data={\"value\":{\"element-6066-11e4-a52e-4f735466cecf\":\"f.B9A810928C24961026ED4A7AA8D3727D.d.C215BF627D1E14659F20B81F70B1B04E.e.170\"}} | headers=HTTPHeaderDict({'Content-Length': '127', 'Content-Type': 'application/json; charset=utf-8', 'cache-control': 'no-cache'})\n",
      "DEBUG:selenium.webdriver.remote.remote_connection:Finished Request\n",
      "DEBUG:selenium.webdriver.remote.remote_connection:GET http://localhost:52805/session/cf3a6d51a720300ec49e10c9dcb127d4/element/f.B9A810928C24961026ED4A7AA8D3727D.d.C215BF627D1E14659F20B81F70B1B04E.e.170/text {}\n",
      "DEBUG:urllib3.connectionpool:http://localhost:52805 \"GET /session/cf3a6d51a720300ec49e10c9dcb127d4/element/f.B9A810928C24961026ED4A7AA8D3727D.d.C215BF627D1E14659F20B81F70B1B04E.e.170/text HTTP/1.1\" 200 25\n",
      "DEBUG:selenium.webdriver.remote.remote_connection:Remote response: status=200 | data={\"value\":\"{\\\"data\\\":[]}\"} | headers=HTTPHeaderDict({'Content-Length': '25', 'Content-Type': 'application/json; charset=utf-8', 'cache-control': 'no-cache'})\n",
      "DEBUG:selenium.webdriver.remote.remote_connection:Finished Request\n"
     ]
    },
    {
     "name": "stdout",
     "output_type": "stream",
     "text": [
      "Response text from Congreso: {\"data\":[]}\n",
      "Raw response: {'data': []}\n",
      "Number of diputades extracted: 0\n",
      "2025-03-06 12:07:57,535 INFO sqlalchemy.engine.Engine COMMIT\n"
     ]
    },
    {
     "name": "stderr",
     "output_type": "stream",
     "text": [
      "INFO:sqlalchemy.engine.Engine:COMMIT\n"
     ]
    },
    {
     "name": "stdout",
     "output_type": "stream",
     "text": [
      "2025-03-06 12:07:57,537 INFO sqlalchemy.engine.Engine BEGIN (implicit)\n"
     ]
    },
    {
     "name": "stderr",
     "output_type": "stream",
     "text": [
      "INFO:sqlalchemy.engine.Engine:BEGIN (implicit)\n"
     ]
    },
    {
     "name": "stdout",
     "output_type": "stream",
     "text": [
      "2025-03-06 12:07:57,539 INFO sqlalchemy.engine.Engine SELECT term.term AS term_term, term.term_id AS term_term_id, term.president AS term_president, term.init_date AS term_init_date, term.finish_date AS term_finish_date \n",
      "FROM term \n",
      "WHERE term.term = ?\n"
     ]
    },
    {
     "name": "stderr",
     "output_type": "stream",
     "text": [
      "INFO:sqlalchemy.engine.Engine:SELECT term.term AS term_term, term.term_id AS term_term_id, term.president AS term_president, term.init_date AS term_init_date, term.finish_date AS term_finish_date \n",
      "FROM term \n",
      "WHERE term.term = ?\n"
     ]
    },
    {
     "name": "stdout",
     "output_type": "stream",
     "text": [
      "2025-03-06 12:07:57,541 INFO sqlalchemy.engine.Engine [cached since 1.58s ago] ('XII',)\n"
     ]
    },
    {
     "name": "stderr",
     "output_type": "stream",
     "text": [
      "INFO:sqlalchemy.engine.Engine:[cached since 1.58s ago] ('XII',)\n",
      "INFO:root:Finished crawling term XII\n"
     ]
    },
    {
     "name": "stdout",
     "output_type": "stream",
     "text": [
      "2025-03-06 12:07:57,544 INFO sqlalchemy.engine.Engine SELECT term.term AS term_term, term.term_id AS term_term_id, term.president AS term_president, term.init_date AS term_init_date, term.finish_date AS term_finish_date \n",
      "FROM term \n",
      "WHERE term.term = ?\n"
     ]
    },
    {
     "name": "stderr",
     "output_type": "stream",
     "text": [
      "INFO:sqlalchemy.engine.Engine:SELECT term.term AS term_term, term.term_id AS term_term_id, term.president AS term_president, term.init_date AS term_init_date, term.finish_date AS term_finish_date \n",
      "FROM term \n",
      "WHERE term.term = ?\n"
     ]
    },
    {
     "name": "stdout",
     "output_type": "stream",
     "text": [
      "2025-03-06 12:07:57,545 INFO sqlalchemy.engine.Engine [cached since 1.584s ago] ('XIII',)\n"
     ]
    },
    {
     "name": "stderr",
     "output_type": "stream",
     "text": [
      "INFO:sqlalchemy.engine.Engine:[cached since 1.584s ago] ('XIII',)\n",
      "INFO:root:Starting crawling term XIII\n",
      "DEBUG:selenium.webdriver.remote.remote_connection:POST http://localhost:52805/session/cf3a6d51a720300ec49e10c9dcb127d4/url {'url': 'https://www.congreso.es/ca/busqueda-de-diputados?p_p_id=diputadomodule&p_p_lifecycle=2&p_p_state=nor...'}\n",
      "DEBUG:urllib3.connectionpool:http://localhost:52805 \"POST /session/cf3a6d51a720300ec49e10c9dcb127d4/url HTTP/1.1\" 200 14\n",
      "DEBUG:selenium.webdriver.remote.remote_connection:Remote response: status=200 | data={\"value\":null} | headers=HTTPHeaderDict({'Content-Length': '14', 'Content-Type': 'application/json; charset=utf-8', 'cache-control': 'no-cache'})\n",
      "DEBUG:selenium.webdriver.remote.remote_connection:Finished Request\n",
      "DEBUG:selenium.webdriver.remote.remote_connection:POST http://localhost:52805/session/cf3a6d51a720300ec49e10c9dcb127d4/element {'using': 'tag name', 'value': 'body'}\n",
      "DEBUG:urllib3.connectionpool:http://localhost:52805 \"POST /session/cf3a6d51a720300ec49e10c9dcb127d4/element HTTP/1.1\" 200 127\n",
      "DEBUG:selenium.webdriver.remote.remote_connection:Remote response: status=200 | data={\"value\":{\"element-6066-11e4-a52e-4f735466cecf\":\"f.B9A810928C24961026ED4A7AA8D3727D.d.4ADC825DAAE55ACDA6A9CBF4856524A3.e.172\"}} | headers=HTTPHeaderDict({'Content-Length': '127', 'Content-Type': 'application/json; charset=utf-8', 'cache-control': 'no-cache'})\n",
      "DEBUG:selenium.webdriver.remote.remote_connection:Finished Request\n",
      "DEBUG:selenium.webdriver.remote.remote_connection:GET http://localhost:52805/session/cf3a6d51a720300ec49e10c9dcb127d4/element/f.B9A810928C24961026ED4A7AA8D3727D.d.4ADC825DAAE55ACDA6A9CBF4856524A3.e.172/text {}\n",
      "DEBUG:urllib3.connectionpool:http://localhost:52805 \"GET /session/cf3a6d51a720300ec49e10c9dcb127d4/element/f.B9A810928C24961026ED4A7AA8D3727D.d.4ADC825DAAE55ACDA6A9CBF4856524A3.e.172/text HTTP/1.1\" 200 25\n",
      "DEBUG:selenium.webdriver.remote.remote_connection:Remote response: status=200 | data={\"value\":\"{\\\"data\\\":[]}\"} | headers=HTTPHeaderDict({'Content-Length': '25', 'Content-Type': 'application/json; charset=utf-8', 'cache-control': 'no-cache'})\n",
      "DEBUG:selenium.webdriver.remote.remote_connection:Finished Request\n"
     ]
    },
    {
     "name": "stdout",
     "output_type": "stream",
     "text": [
      "Response text from Congreso: {\"data\":[]}\n",
      "Raw response: {'data': []}\n",
      "Number of diputades extracted: 0\n",
      "2025-03-06 12:07:57,655 INFO sqlalchemy.engine.Engine COMMIT\n"
     ]
    },
    {
     "name": "stderr",
     "output_type": "stream",
     "text": [
      "INFO:sqlalchemy.engine.Engine:COMMIT\n"
     ]
    },
    {
     "name": "stdout",
     "output_type": "stream",
     "text": [
      "2025-03-06 12:07:57,658 INFO sqlalchemy.engine.Engine BEGIN (implicit)\n"
     ]
    },
    {
     "name": "stderr",
     "output_type": "stream",
     "text": [
      "INFO:sqlalchemy.engine.Engine:BEGIN (implicit)\n"
     ]
    },
    {
     "name": "stdout",
     "output_type": "stream",
     "text": [
      "2025-03-06 12:07:57,660 INFO sqlalchemy.engine.Engine SELECT term.term AS term_term, term.term_id AS term_term_id, term.president AS term_president, term.init_date AS term_init_date, term.finish_date AS term_finish_date \n",
      "FROM term \n",
      "WHERE term.term = ?\n"
     ]
    },
    {
     "name": "stderr",
     "output_type": "stream",
     "text": [
      "INFO:sqlalchemy.engine.Engine:SELECT term.term AS term_term, term.term_id AS term_term_id, term.president AS term_president, term.init_date AS term_init_date, term.finish_date AS term_finish_date \n",
      "FROM term \n",
      "WHERE term.term = ?\n"
     ]
    },
    {
     "name": "stdout",
     "output_type": "stream",
     "text": [
      "2025-03-06 12:07:57,661 INFO sqlalchemy.engine.Engine [cached since 1.7s ago] ('XIII',)\n"
     ]
    },
    {
     "name": "stderr",
     "output_type": "stream",
     "text": [
      "INFO:sqlalchemy.engine.Engine:[cached since 1.7s ago] ('XIII',)\n",
      "INFO:root:Finished crawling term XIII\n"
     ]
    },
    {
     "name": "stdout",
     "output_type": "stream",
     "text": [
      "2025-03-06 12:07:57,665 INFO sqlalchemy.engine.Engine SELECT term.term AS term_term, term.term_id AS term_term_id, term.president AS term_president, term.init_date AS term_init_date, term.finish_date AS term_finish_date \n",
      "FROM term \n",
      "WHERE term.term = ?\n"
     ]
    },
    {
     "name": "stderr",
     "output_type": "stream",
     "text": [
      "INFO:sqlalchemy.engine.Engine:SELECT term.term AS term_term, term.term_id AS term_term_id, term.president AS term_president, term.init_date AS term_init_date, term.finish_date AS term_finish_date \n",
      "FROM term \n",
      "WHERE term.term = ?\n"
     ]
    },
    {
     "name": "stdout",
     "output_type": "stream",
     "text": [
      "2025-03-06 12:07:57,666 INFO sqlalchemy.engine.Engine [cached since 1.705s ago] ('XIV',)\n"
     ]
    },
    {
     "name": "stderr",
     "output_type": "stream",
     "text": [
      "INFO:sqlalchemy.engine.Engine:[cached since 1.705s ago] ('XIV',)\n",
      "INFO:root:Starting crawling term XIV\n",
      "DEBUG:selenium.webdriver.remote.remote_connection:POST http://localhost:52805/session/cf3a6d51a720300ec49e10c9dcb127d4/url {'url': 'https://www.congreso.es/ca/busqueda-de-diputados?p_p_id=diputadomodule&p_p_lifecycle=2&p_p_state=nor...'}\n",
      "DEBUG:urllib3.connectionpool:http://localhost:52805 \"POST /session/cf3a6d51a720300ec49e10c9dcb127d4/url HTTP/1.1\" 200 14\n",
      "DEBUG:selenium.webdriver.remote.remote_connection:Remote response: status=200 | data={\"value\":null} | headers=HTTPHeaderDict({'Content-Length': '14', 'Content-Type': 'application/json; charset=utf-8', 'cache-control': 'no-cache'})\n",
      "DEBUG:selenium.webdriver.remote.remote_connection:Finished Request\n",
      "DEBUG:selenium.webdriver.remote.remote_connection:POST http://localhost:52805/session/cf3a6d51a720300ec49e10c9dcb127d4/element {'using': 'tag name', 'value': 'body'}\n",
      "DEBUG:urllib3.connectionpool:http://localhost:52805 \"POST /session/cf3a6d51a720300ec49e10c9dcb127d4/element HTTP/1.1\" 200 127\n",
      "DEBUG:selenium.webdriver.remote.remote_connection:Remote response: status=200 | data={\"value\":{\"element-6066-11e4-a52e-4f735466cecf\":\"f.B9A810928C24961026ED4A7AA8D3727D.d.CC2A1CB195454B975D669182A3F720A9.e.174\"}} | headers=HTTPHeaderDict({'Content-Length': '127', 'Content-Type': 'application/json; charset=utf-8', 'cache-control': 'no-cache'})\n",
      "DEBUG:selenium.webdriver.remote.remote_connection:Finished Request\n",
      "DEBUG:selenium.webdriver.remote.remote_connection:GET http://localhost:52805/session/cf3a6d51a720300ec49e10c9dcb127d4/element/f.B9A810928C24961026ED4A7AA8D3727D.d.CC2A1CB195454B975D669182A3F720A9.e.174/text {}\n",
      "DEBUG:urllib3.connectionpool:http://localhost:52805 \"GET /session/cf3a6d51a720300ec49e10c9dcb127d4/element/f.B9A810928C24961026ED4A7AA8D3727D.d.CC2A1CB195454B975D669182A3F720A9.e.174/text HTTP/1.1\" 200 25\n",
      "DEBUG:selenium.webdriver.remote.remote_connection:Remote response: status=200 | data={\"value\":\"{\\\"data\\\":[]}\"} | headers=HTTPHeaderDict({'Content-Length': '25', 'Content-Type': 'application/json; charset=utf-8', 'cache-control': 'no-cache'})\n",
      "DEBUG:selenium.webdriver.remote.remote_connection:Finished Request\n"
     ]
    },
    {
     "name": "stdout",
     "output_type": "stream",
     "text": [
      "Response text from Congreso: {\"data\":[]}\n",
      "Raw response: {'data': []}\n",
      "Number of diputades extracted: 0\n",
      "2025-03-06 12:07:57,783 INFO sqlalchemy.engine.Engine COMMIT\n"
     ]
    },
    {
     "name": "stderr",
     "output_type": "stream",
     "text": [
      "INFO:sqlalchemy.engine.Engine:COMMIT\n"
     ]
    },
    {
     "name": "stdout",
     "output_type": "stream",
     "text": [
      "2025-03-06 12:07:57,785 INFO sqlalchemy.engine.Engine BEGIN (implicit)\n"
     ]
    },
    {
     "name": "stderr",
     "output_type": "stream",
     "text": [
      "INFO:sqlalchemy.engine.Engine:BEGIN (implicit)\n"
     ]
    },
    {
     "name": "stdout",
     "output_type": "stream",
     "text": [
      "2025-03-06 12:07:57,786 INFO sqlalchemy.engine.Engine SELECT term.term AS term_term, term.term_id AS term_term_id, term.president AS term_president, term.init_date AS term_init_date, term.finish_date AS term_finish_date \n",
      "FROM term \n",
      "WHERE term.term = ?\n"
     ]
    },
    {
     "name": "stderr",
     "output_type": "stream",
     "text": [
      "INFO:sqlalchemy.engine.Engine:SELECT term.term AS term_term, term.term_id AS term_term_id, term.president AS term_president, term.init_date AS term_init_date, term.finish_date AS term_finish_date \n",
      "FROM term \n",
      "WHERE term.term = ?\n"
     ]
    },
    {
     "name": "stdout",
     "output_type": "stream",
     "text": [
      "2025-03-06 12:07:57,790 INFO sqlalchemy.engine.Engine [cached since 1.829s ago] ('XIV',)\n"
     ]
    },
    {
     "name": "stderr",
     "output_type": "stream",
     "text": [
      "INFO:sqlalchemy.engine.Engine:[cached since 1.829s ago] ('XIV',)\n",
      "INFO:root:Finished crawling term XIV\n"
     ]
    },
    {
     "name": "stdout",
     "output_type": "stream",
     "text": [
      "2025-03-06 12:07:57,793 INFO sqlalchemy.engine.Engine SELECT term.term AS term_term, term.term_id AS term_term_id, term.president AS term_president, term.init_date AS term_init_date, term.finish_date AS term_finish_date \n",
      "FROM term \n",
      "WHERE term.term = ?\n"
     ]
    },
    {
     "name": "stderr",
     "output_type": "stream",
     "text": [
      "INFO:sqlalchemy.engine.Engine:SELECT term.term AS term_term, term.term_id AS term_term_id, term.president AS term_president, term.init_date AS term_init_date, term.finish_date AS term_finish_date \n",
      "FROM term \n",
      "WHERE term.term = ?\n"
     ]
    },
    {
     "name": "stdout",
     "output_type": "stream",
     "text": [
      "2025-03-06 12:07:57,794 INFO sqlalchemy.engine.Engine [cached since 1.833s ago] ('XV',)\n"
     ]
    },
    {
     "name": "stderr",
     "output_type": "stream",
     "text": [
      "INFO:sqlalchemy.engine.Engine:[cached since 1.833s ago] ('XV',)\n",
      "INFO:root:Starting crawling term XV\n",
      "DEBUG:selenium.webdriver.remote.remote_connection:POST http://localhost:52805/session/cf3a6d51a720300ec49e10c9dcb127d4/url {'url': 'https://www.congreso.es/ca/busqueda-de-diputados?p_p_id=diputadomodule&p_p_lifecycle=2&p_p_state=nor...'}\n",
      "DEBUG:urllib3.connectionpool:http://localhost:52805 \"POST /session/cf3a6d51a720300ec49e10c9dcb127d4/url HTTP/1.1\" 200 14\n",
      "DEBUG:selenium.webdriver.remote.remote_connection:Remote response: status=200 | data={\"value\":null} | headers=HTTPHeaderDict({'Content-Length': '14', 'Content-Type': 'application/json; charset=utf-8', 'cache-control': 'no-cache'})\n",
      "DEBUG:selenium.webdriver.remote.remote_connection:Finished Request\n",
      "DEBUG:selenium.webdriver.remote.remote_connection:POST http://localhost:52805/session/cf3a6d51a720300ec49e10c9dcb127d4/element {'using': 'tag name', 'value': 'body'}\n",
      "DEBUG:urllib3.connectionpool:http://localhost:52805 \"POST /session/cf3a6d51a720300ec49e10c9dcb127d4/element HTTP/1.1\" 200 127\n",
      "DEBUG:selenium.webdriver.remote.remote_connection:Remote response: status=200 | data={\"value\":{\"element-6066-11e4-a52e-4f735466cecf\":\"f.B9A810928C24961026ED4A7AA8D3727D.d.E4FD572C60A74B36993D0F5F5E6360FF.e.176\"}} | headers=HTTPHeaderDict({'Content-Length': '127', 'Content-Type': 'application/json; charset=utf-8', 'cache-control': 'no-cache'})\n",
      "DEBUG:selenium.webdriver.remote.remote_connection:Finished Request\n",
      "DEBUG:selenium.webdriver.remote.remote_connection:GET http://localhost:52805/session/cf3a6d51a720300ec49e10c9dcb127d4/element/f.B9A810928C24961026ED4A7AA8D3727D.d.E4FD572C60A74B36993D0F5F5E6360FF.e.176/text {}\n",
      "DEBUG:urllib3.connectionpool:http://localhost:52805 \"GET /session/cf3a6d51a720300ec49e10c9dcb127d4/element/f.B9A810928C24961026ED4A7AA8D3727D.d.E4FD572C60A74B36993D0F5F5E6360FF.e.176/text HTTP/1.1\" 200 25\n",
      "DEBUG:selenium.webdriver.remote.remote_connection:Remote response: status=200 | data={\"value\":\"{\\\"data\\\":[]}\"} | headers=HTTPHeaderDict({'Content-Length': '25', 'Content-Type': 'application/json; charset=utf-8', 'cache-control': 'no-cache'})\n",
      "DEBUG:selenium.webdriver.remote.remote_connection:Finished Request\n"
     ]
    },
    {
     "name": "stdout",
     "output_type": "stream",
     "text": [
      "Response text from Congreso: {\"data\":[]}\n",
      "Raw response: {'data': []}\n",
      "Number of diputades extracted: 0\n",
      "2025-03-06 12:07:57,894 INFO sqlalchemy.engine.Engine COMMIT\n"
     ]
    },
    {
     "name": "stderr",
     "output_type": "stream",
     "text": [
      "INFO:sqlalchemy.engine.Engine:COMMIT\n"
     ]
    },
    {
     "name": "stdout",
     "output_type": "stream",
     "text": [
      "2025-03-06 12:07:57,898 INFO sqlalchemy.engine.Engine BEGIN (implicit)\n"
     ]
    },
    {
     "name": "stderr",
     "output_type": "stream",
     "text": [
      "INFO:sqlalchemy.engine.Engine:BEGIN (implicit)\n"
     ]
    },
    {
     "name": "stdout",
     "output_type": "stream",
     "text": [
      "2025-03-06 12:07:57,900 INFO sqlalchemy.engine.Engine SELECT term.term AS term_term, term.term_id AS term_term_id, term.president AS term_president, term.init_date AS term_init_date, term.finish_date AS term_finish_date \n",
      "FROM term \n",
      "WHERE term.term = ?\n"
     ]
    },
    {
     "name": "stderr",
     "output_type": "stream",
     "text": [
      "INFO:sqlalchemy.engine.Engine:SELECT term.term AS term_term, term.term_id AS term_term_id, term.president AS term_president, term.init_date AS term_init_date, term.finish_date AS term_finish_date \n",
      "FROM term \n",
      "WHERE term.term = ?\n"
     ]
    },
    {
     "name": "stdout",
     "output_type": "stream",
     "text": [
      "2025-03-06 12:07:57,901 INFO sqlalchemy.engine.Engine [cached since 1.94s ago] ('XV',)\n"
     ]
    },
    {
     "name": "stderr",
     "output_type": "stream",
     "text": [
      "INFO:sqlalchemy.engine.Engine:[cached since 1.94s ago] ('XV',)\n",
      "INFO:root:Finished crawling term XV\n",
      "INFO:root:Finished crawling Congreso de los Diputados\n"
     ]
    }
   ],
   "source": [
    "logging.basicConfig(level=logging.DEBUG)\n",
    "\n",
    "# Initialize and run the crawler\n",
    "cc = CongresoCrawler(\"sqlite:///interventions.db\")\n",
    "cc.create_db()\n",
    "cc.crawl()"
   ]
  },
  {
   "cell_type": "code",
   "execution_count": null,
   "id": "85becee0-277d-4396-bc30-343cfa8e2c35",
   "metadata": {},
   "outputs": [],
   "source": []
  }
 ],
 "metadata": {
  "kernelspec": {
   "display_name": "Python 3 (ipykernel)",
   "language": "python",
   "name": "python3"
  },
  "language_info": {
   "codemirror_mode": {
    "name": "ipython",
    "version": 3
   },
   "file_extension": ".py",
   "mimetype": "text/x-python",
   "name": "python",
   "nbconvert_exporter": "python",
   "pygments_lexer": "ipython3",
   "version": "3.11.5"
  }
 },
 "nbformat": 4,
 "nbformat_minor": 5
}
