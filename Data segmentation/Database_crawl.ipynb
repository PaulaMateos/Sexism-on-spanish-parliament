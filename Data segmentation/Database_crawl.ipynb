{
 "cells": [
  {
   "cell_type": "markdown",
   "id": "ed4eb7bf-8e47-4186-bdbe-955137eba717",
   "metadata": {},
   "source": [
    "# Database creation"
   ]
  },
  {
   "cell_type": "code",
   "execution_count": 12,
   "id": "7f7d4672-21ee-4b73-a47e-f94efa83adf0",
   "metadata": {
    "tags": []
   },
   "outputs": [],
   "source": [
    "from sqlalchemy import Column, Integer, String, ForeignKey, Boolean, UniqueConstraint, Text, Index\n",
    "from sqlalchemy.orm import declarative_base, relationship, sessionmaker\n",
    "from sqlalchemy import update\n",
    "from pathlib import Path\n",
    "from sqlalchemy import create_engine\n",
    "\n"
   ]
  },
  {
   "cell_type": "code",
   "execution_count": 14,
   "id": "908fef46-c972-45aa-b294-b957b5827cd3",
   "metadata": {
    "tags": []
   },
   "outputs": [],
   "source": [
    "Base = declarative_base()\n",
    "\n",
    "class Document(Base):\n",
    "    __tablename__ = 'document'\n",
    "    \n",
    "    pdf_url = Column(String, primary_key=True)  \n",
    "    cve = Column(String)\n",
    "    fecha = Column(String)\n",
    "    fecha_mensaje = Column(String)\n",
    "    mensaje = Column(String)\n",
    "    ndia = Column(String)\n",
    "    numdoc = Column(String)\n",
    "    orga = Column(String)\n",
    "    seri = Column(String)\n",
    "    subi = Column(String)\n",
    "    texto = Column(Text)\n",
    "    secc = Column(String)\n",
    "    legislatura = Column(String, ForeignKey('term.term'))\n",
    "    desu = Column(String)\n",
    "    desu1 = Column(String)\n",
    "    desu2 = Column(String)\n",
    "    \n",
    "    term = relationship(\"Term\", back_populates=\"documents\")\n",
    "    interventions = relationship(\"Intervention\", back_populates=\"document\")\n",
    "\n",
    "\n",
    "class Term(Base):\n",
    "    __tablename__ = 'term'\n",
    "    term = Column(String, primary_key=True) \n",
    "    term_id = Column(Integer)  \n",
    "    president = Column(String)\n",
    "    init_date = Column(String)\n",
    "    finish_date = Column(String)\n",
    "    \n",
    "    diputades = relationship(\"Diputades\", back_populates=\"term\")\n",
    "    documents = relationship(\"Document\", back_populates=\"term\")\n",
    "\n",
    "\n",
    "class Diputades(Base):\n",
    "    __tablename__ = 'diputades'\n",
    "    speaker_id = Column(String, primary_key=True) # ID únic per a cada orador\n",
    "    apellidos = Column(String)\n",
    "    formacion = Column(String)\n",
    "    apellidosNombre = Column(String)\n",
    "    fchBaja = Column(String)\n",
    "    genero = Column(Integer)\n",
    "    fchAlta = Column(String)\n",
    "    idLegislatura = Column(String, ForeignKey('term.term'))\n",
    "    grupo = Column(String)\n",
    "    idCircunscripcion = Column(Integer)\n",
    "    nombreCircunscripcion = Column(String)\n",
    "    nombre = Column(String)\n",
    "    codParlamentario = Column(Integer)\n",
    "    \n",
    "    charge = Column(String)\n",
    "\n",
    "    term = relationship(\"Term\", back_populates=\"diputades\")\n",
    "    interventions = relationship(\"Intervention\", back_populates=\"speaker_rel\")\n",
    "\n",
    "\n",
    "\n",
    "class Intervention(Base):\n",
    "    __tablename__ = 'intervention'\n",
    "    \n",
    "    id = Column(String, primary_key=True)\n",
    "    speaker = Column(String, ForeignKey('diputades.speaker_id'))\n",
    "    text = Column(String)\n",
    "    document_id = Column(String, ForeignKey('document.pdf_url'))\n",
    "    fecha = Column(String)\n",
    "    num_int = Column(Integer)\n",
    "\n",
    "    document = relationship(\"Document\", back_populates=\"interventions\")\n",
    "    speaker = relationship(\"Diputades\", back_populates=\"interventions\")\n",
    "\n",
    "\n",
    "\n",
    "def create_database(engine):\n",
    "    Base.metadata.create_all(engine)"
   ]
  },
  {
   "cell_type": "code",
   "execution_count": null,
   "id": "4f6fc11b-7add-42ae-af73-1c3e76b9e29e",
   "metadata": {},
   "outputs": [],
   "source": [
    "'''\n",
    "# Connexió a la base de dades\n",
    "engine = create_engine('sqlite:///diputades.db')  \n",
    "Base.metadata.create_all(engine)\n",
    "\n",
    "# Crear una sessió per interactuar amb la BD\n",
    "Session = sessionmaker(bind=engine)\n",
    "session = Session()\n",
    "'''"
   ]
  }
 ],
 "metadata": {
  "kernelspec": {
   "display_name": "Python 3 (ipykernel)",
   "language": "python",
   "name": "python3"
  },
  "language_info": {
   "codemirror_mode": {
    "name": "ipython",
    "version": 3
   },
   "file_extension": ".py",
   "mimetype": "text/x-python",
   "name": "python",
   "nbconvert_exporter": "python",
   "pygments_lexer": "ipython3",
   "version": "3.11.5"
  }
 },
 "nbformat": 4,
 "nbformat_minor": 5
}
